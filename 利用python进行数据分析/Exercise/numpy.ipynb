{
 "cells": [
  {
   "cell_type": "code",
   "execution_count": 2,
   "metadata": {},
   "outputs": [],
   "source": [
    "import numpy as np\n"
   ]
  },
  {
   "cell_type": "code",
   "execution_count": 3,
   "metadata": {},
   "outputs": [
    {
     "data": {
      "text/plain": [
       "array([1, 0, 9, 8], dtype=int64)"
      ]
     },
     "execution_count": 3,
     "metadata": {},
     "output_type": "execute_result"
    }
   ],
   "source": [
    "# 如果浮点数转换为整数，小数部分会被截断\n",
    "arr = np.array([1.34,0.55,9.345,8.245])\n",
    "arr = arr.astype('int64')\n",
    "arr"
   ]
  },
  {
   "cell_type": "code",
   "execution_count": 4,
   "metadata": {},
   "outputs": [
    {
     "data": {
      "text/plain": [
       "array([1.23, 4.34])"
      ]
     },
     "execution_count": 4,
     "metadata": {},
     "output_type": "execute_result"
    }
   ],
   "source": [
    "num_string = np.array(['1.23','4.34'],dtype=np.string_)\n",
    "num_string.astype(float)"
   ]
  },
  {
   "cell_type": "code",
   "execution_count": 5,
   "metadata": {
    "scrolled": true
   },
   "outputs": [
    {
     "name": "stdout",
     "output_type": "stream",
     "text": [
      "2\n",
      "2\n"
     ]
    }
   ],
   "source": [
    "arr = np.array([[1,2,3],[4,5,6],[7,8,9]])\n",
    "# 等价方式\n",
    "print(arr[0][1])\n",
    "print(arr[0,1])"
   ]
  },
  {
   "cell_type": "code",
   "execution_count": 6,
   "metadata": {
    "scrolled": true
   },
   "outputs": [
    {
     "data": {
      "text/plain": [
       "array([[[ 1,  2,  3],\n",
       "        [ 4,  5,  6]],\n",
       "\n",
       "       [[ 7,  8,  9],\n",
       "        [10, 11, 12]]])"
      ]
     },
     "execution_count": 6,
     "metadata": {},
     "output_type": "execute_result"
    }
   ],
   "source": [
    "arr3d = np.array([[[1,2,3],[4,5,6]],[[7,8,9],[10,11,12]]])\n",
    "arr3d"
   ]
  },
  {
   "cell_type": "code",
   "execution_count": 7,
   "metadata": {},
   "outputs": [
    {
     "data": {
      "text/plain": [
       "array([[[4, 5, 6]]])"
      ]
     },
     "execution_count": 7,
     "metadata": {},
     "output_type": "execute_result"
    }
   ],
   "source": [
    "arr3d[:1,1:2]"
   ]
  },
  {
   "cell_type": "code",
   "execution_count": 8,
   "metadata": {},
   "outputs": [],
   "source": [
    "names = np.array(['Bob','Joe','will','Joe','Joe','Adam','hh'])\n",
    "data = np.random.randn(7,4)"
   ]
  },
  {
   "cell_type": "code",
   "execution_count": 9,
   "metadata": {},
   "outputs": [
    {
     "data": {
      "text/plain": [
       "array([False,  True,  True,  True,  True,  True,  True])"
      ]
     },
     "execution_count": 9,
     "metadata": {},
     "output_type": "execute_result"
    }
   ],
   "source": [
    "names != 'Bob'"
   ]
  },
  {
   "cell_type": "code",
   "execution_count": 10,
   "metadata": {},
   "outputs": [
    {
     "data": {
      "text/plain": [
       "array([[ 1.40637047e+00, -2.98761794e-01,  1.02023787e-01,\n",
       "         1.48999916e+00],\n",
       "       [ 7.40347208e-01, -1.54452675e+00,  2.20150474e-01,\n",
       "        -1.05930609e-01],\n",
       "       [-1.31253160e+00,  1.75166260e+00,  7.55307206e-01,\n",
       "         1.23586409e+00],\n",
       "       [ 1.04491360e+00, -8.37655186e-01, -3.05059252e-02,\n",
       "         1.67901800e-04],\n",
       "       [-3.98708147e-02, -2.71555397e-01,  1.22102755e-01,\n",
       "         1.72056944e+00],\n",
       "       [ 3.51999661e-02, -1.36726105e+00, -1.15151424e+00,\n",
       "         9.06491881e-01]])"
      ]
     },
     "execution_count": 10,
     "metadata": {},
     "output_type": "execute_result"
    }
   ],
   "source": [
    "data[names!='Bob']"
   ]
  },
  {
   "cell_type": "code",
   "execution_count": 11,
   "metadata": {},
   "outputs": [
    {
     "data": {
      "text/plain": [
       "array([[ 1.40637047e+00, -2.98761794e-01,  1.02023787e-01,\n",
       "         1.48999916e+00],\n",
       "       [ 7.40347208e-01, -1.54452675e+00,  2.20150474e-01,\n",
       "        -1.05930609e-01],\n",
       "       [-1.31253160e+00,  1.75166260e+00,  7.55307206e-01,\n",
       "         1.23586409e+00],\n",
       "       [ 1.04491360e+00, -8.37655186e-01, -3.05059252e-02,\n",
       "         1.67901800e-04],\n",
       "       [-3.98708147e-02, -2.71555397e-01,  1.22102755e-01,\n",
       "         1.72056944e+00],\n",
       "       [ 3.51999661e-02, -1.36726105e+00, -1.15151424e+00,\n",
       "         9.06491881e-01]])"
      ]
     },
     "execution_count": 11,
     "metadata": {},
     "output_type": "execute_result"
    }
   ],
   "source": [
    "data[~(names=='Bob')]"
   ]
  },
  {
   "cell_type": "code",
   "execution_count": 12,
   "metadata": {},
   "outputs": [
    {
     "data": {
      "text/plain": [
       "array([ True, False,  True, False, False, False, False])"
      ]
     },
     "execution_count": 12,
     "metadata": {},
     "output_type": "execute_result"
    }
   ],
   "source": [
    "mask = (names=='Bob') | (names == 'will')\n",
    "mask"
   ]
  },
  {
   "cell_type": "code",
   "execution_count": 13,
   "metadata": {},
   "outputs": [
    {
     "data": {
      "text/plain": [
       "array([[ 0.20351904, -0.63039607,  2.2449366 ,  0.0231868 ],\n",
       "       [ 0.74034721, -1.54452675,  0.22015047, -0.10593061]])"
      ]
     },
     "execution_count": 13,
     "metadata": {},
     "output_type": "execute_result"
    }
   ],
   "source": [
    "data[mask]"
   ]
  },
  {
   "cell_type": "code",
   "execution_count": 14,
   "metadata": {},
   "outputs": [
    {
     "data": {
      "text/plain": [
       "array([[2.41907520e-312, 1.08221785e-312, 6.79038654e-313,\n",
       "        6.79038653e-313],\n",
       "       [2.37663529e-312, 2.05833592e-312, 2.41907520e-312,\n",
       "        2.56761491e-312],\n",
       "       [1.93101617e-312, 1.93101617e-312, 9.33678148e-313,\n",
       "        9.33678148e-313],\n",
       "       [1.97345609e-312, 1.93101617e-312, 9.33678148e-313,\n",
       "        9.33678148e-313],\n",
       "       [1.97345609e-312, 9.33678148e-313, 1.93101617e-312,\n",
       "        9.33678148e-313],\n",
       "       [9.33678148e-313, 1.97345609e-312, 1.93101617e-312,\n",
       "        1.01855798e-312],\n",
       "       [1.03977794e-312, 9.33678148e-313, 1.06099790e-312,\n",
       "        1.97345609e-312],\n",
       "       [8.70018275e-313, 2.05833592e-312, 2.41907520e-312,\n",
       "        2.12199579e-312]])"
      ]
     },
     "execution_count": 14,
     "metadata": {},
     "output_type": "execute_result"
    }
   ],
   "source": [
    "arr = np.empty((8,4))\n",
    "arr"
   ]
  },
  {
   "cell_type": "code",
   "execution_count": 15,
   "metadata": {},
   "outputs": [],
   "source": [
    "for i in range(8):\n",
    "    arr[i]= i"
   ]
  },
  {
   "cell_type": "code",
   "execution_count": 16,
   "metadata": {},
   "outputs": [
    {
     "data": {
      "text/plain": [
       "array([[0., 0., 0., 0.],\n",
       "       [1., 1., 1., 1.],\n",
       "       [2., 2., 2., 2.],\n",
       "       [3., 3., 3., 3.],\n",
       "       [4., 4., 4., 4.],\n",
       "       [5., 5., 5., 5.],\n",
       "       [6., 6., 6., 6.],\n",
       "       [7., 7., 7., 7.]])"
      ]
     },
     "execution_count": 16,
     "metadata": {},
     "output_type": "execute_result"
    }
   ],
   "source": [
    "arr"
   ]
  },
  {
   "cell_type": "code",
   "execution_count": 17,
   "metadata": {},
   "outputs": [
    {
     "data": {
      "text/plain": [
       "array([[2., 2., 2., 2.],\n",
       "       [4., 4., 4., 4.],\n",
       "       [6., 6., 6., 6.]])"
      ]
     },
     "execution_count": 17,
     "metadata": {},
     "output_type": "execute_result"
    }
   ],
   "source": [
    "arr[[2,4,6]]"
   ]
  },
  {
   "cell_type": "code",
   "execution_count": 18,
   "metadata": {},
   "outputs": [
    {
     "data": {
      "text/plain": [
       "array([[ 0,  1,  2,  3],\n",
       "       [ 4,  5,  6,  7],\n",
       "       [ 8,  9, 10, 11],\n",
       "       [12, 13, 14, 15],\n",
       "       [16, 17, 18, 19],\n",
       "       [20, 21, 22, 23],\n",
       "       [24, 25, 26, 27],\n",
       "       [28, 29, 30, 31]])"
      ]
     },
     "execution_count": 18,
     "metadata": {},
     "output_type": "execute_result"
    }
   ],
   "source": [
    "arr = np.arange(32).reshape((8,4))\n",
    "arr"
   ]
  },
  {
   "cell_type": "code",
   "execution_count": 19,
   "metadata": {},
   "outputs": [
    {
     "data": {
      "text/plain": [
       "array([[ 4,  7,  5,  6],\n",
       "       [20, 23, 21, 22],\n",
       "       [28, 31, 29, 30],\n",
       "       [ 8, 11,  9, 10]])"
      ]
     },
     "execution_count": 19,
     "metadata": {},
     "output_type": "execute_result"
    }
   ],
   "source": [
    "arr[[1,5,7,2]][:,[0,3,1,2]]"
   ]
  },
  {
   "cell_type": "code",
   "execution_count": 20,
   "metadata": {},
   "outputs": [
    {
     "data": {
      "text/plain": [
       "array([[ 4,  7,  5,  6],\n",
       "       [20, 23, 21, 22],\n",
       "       [28, 31, 29, 30],\n",
       "       [ 8, 11,  9, 10]])"
      ]
     },
     "execution_count": 20,
     "metadata": {},
     "output_type": "execute_result"
    }
   ],
   "source": [
    "arr[np.ix_([1,5,7,2],[0,3,1,2])]"
   ]
  },
  {
   "cell_type": "code",
   "execution_count": 21,
   "metadata": {},
   "outputs": [
    {
     "data": {
      "text/plain": [
       "array([[ 0,  1,  2,  3,  4],\n",
       "       [ 5,  6,  7,  8,  9],\n",
       "       [10, 11, 12, 13, 14]])"
      ]
     },
     "execution_count": 21,
     "metadata": {},
     "output_type": "execute_result"
    }
   ],
   "source": [
    "arr = np.arange(15).reshape((3,5))\n",
    "arr"
   ]
  },
  {
   "cell_type": "code",
   "execution_count": 22,
   "metadata": {},
   "outputs": [
    {
     "data": {
      "text/plain": [
       "array([[ 0,  5, 10],\n",
       "       [ 1,  6, 11],\n",
       "       [ 2,  7, 12],\n",
       "       [ 3,  8, 13],\n",
       "       [ 4,  9, 14]])"
      ]
     },
     "execution_count": 22,
     "metadata": {},
     "output_type": "execute_result"
    }
   ],
   "source": [
    "arr.T"
   ]
  },
  {
   "cell_type": "code",
   "execution_count": 23,
   "metadata": {},
   "outputs": [
    {
     "data": {
      "text/plain": [
       "array([[ 0,  1,  2,  3,  4],\n",
       "       [ 5,  6,  7,  8,  9],\n",
       "       [10, 11, 12, 13, 14]])"
      ]
     },
     "execution_count": 23,
     "metadata": {},
     "output_type": "execute_result"
    }
   ],
   "source": [
    "arr"
   ]
  },
  {
   "cell_type": "code",
   "execution_count": 24,
   "metadata": {},
   "outputs": [
    {
     "data": {
      "text/plain": [
       "array([[[ 0,  1,  2,  3],\n",
       "        [ 4,  5,  6,  7]],\n",
       "\n",
       "       [[ 8,  9, 10, 11],\n",
       "        [12, 13, 14, 15]]])"
      ]
     },
     "execution_count": 24,
     "metadata": {},
     "output_type": "execute_result"
    }
   ],
   "source": [
    "arr = np.arange(16).reshape((2,2,4))\n",
    "arr"
   ]
  },
  {
   "cell_type": "code",
   "execution_count": 25,
   "metadata": {},
   "outputs": [
    {
     "data": {
      "text/plain": [
       "array([[[ 0,  1,  2,  3],\n",
       "        [ 8,  9, 10, 11]],\n",
       "\n",
       "       [[ 4,  5,  6,  7],\n",
       "        [12, 13, 14, 15]]])"
      ]
     },
     "execution_count": 25,
     "metadata": {},
     "output_type": "execute_result"
    }
   ],
   "source": [
    "arr.transpose((1,0,2))"
   ]
  },
  {
   "cell_type": "code",
   "execution_count": 26,
   "metadata": {},
   "outputs": [
    {
     "data": {
      "text/plain": [
       "array([[[ 0,  4],\n",
       "        [ 1,  5],\n",
       "        [ 2,  6],\n",
       "        [ 3,  7]],\n",
       "\n",
       "       [[ 8, 12],\n",
       "        [ 9, 13],\n",
       "        [10, 14],\n",
       "        [11, 15]]])"
      ]
     },
     "execution_count": 26,
     "metadata": {},
     "output_type": "execute_result"
    }
   ],
   "source": [
    "arr.swapaxes(1,2)"
   ]
  },
  {
   "cell_type": "code",
   "execution_count": 27,
   "metadata": {},
   "outputs": [
    {
     "name": "stdout",
     "output_type": "stream",
     "text": [
      "[[-5.   -4.99 -4.98 ...  4.97  4.98  4.99]\n",
      " [-5.   -4.99 -4.98 ...  4.97  4.98  4.99]\n",
      " [-5.   -4.99 -4.98 ...  4.97  4.98  4.99]\n",
      " ...\n",
      " [-5.   -4.99 -4.98 ...  4.97  4.98  4.99]\n",
      " [-5.   -4.99 -4.98 ...  4.97  4.98  4.99]\n",
      " [-5.   -4.99 -4.98 ...  4.97  4.98  4.99]]\n",
      "[[-5.   -5.   -5.   ... -5.   -5.   -5.  ]\n",
      " [-4.99 -4.99 -4.99 ... -4.99 -4.99 -4.99]\n",
      " [-4.98 -4.98 -4.98 ... -4.98 -4.98 -4.98]\n",
      " ...\n",
      " [ 4.97  4.97  4.97 ...  4.97  4.97  4.97]\n",
      " [ 4.98  4.98  4.98 ...  4.98  4.98  4.98]\n",
      " [ 4.99  4.99  4.99 ...  4.99  4.99  4.99]]\n"
     ]
    }
   ],
   "source": [
    "points = np.arange(-5,5,0.01)\n",
    "xs,ys= np.meshgrid(points,points)\n",
    "print(xs)\n",
    "print(ys)"
   ]
  },
  {
   "cell_type": "code",
   "execution_count": 28,
   "metadata": {},
   "outputs": [
    {
     "data": {
      "text/plain": [
       "<matplotlib.colorbar.Colorbar at 0x199236757f0>"
      ]
     },
     "execution_count": 28,
     "metadata": {},
     "output_type": "execute_result"
    }
   ],
   "source": [
    "import matplotlib.pyplot as plt\n",
    "z = np.sqrt(xs**2 + ys**2)\n",
    "plt.imshow(z,cmap=plt.cm.gray)\n",
    "plt.colorbar()"
   ]
  },
  {
   "cell_type": "code",
   "execution_count": 29,
   "metadata": {},
   "outputs": [
    {
     "name": "stdout",
     "output_type": "stream",
     "text": [
      "['Accent', 'Accent_r', 'Blues', 'Blues_r', 'BrBG', 'BrBG_r', 'BuGn', 'BuGn_r', 'BuPu', 'BuPu_r', 'CMRmap', 'CMRmap_r', 'Dark2', 'Dark2_r', 'GnBu', 'GnBu_r', 'Greens', 'Greens_r', 'Greys', 'Greys_r', 'LUTSIZE', 'OrRd', 'OrRd_r', 'Oranges', 'Oranges_r', 'PRGn', 'PRGn_r', 'Paired', 'Paired_r', 'Pastel1', 'Pastel1_r', 'Pastel2', 'Pastel2_r', 'PiYG', 'PiYG_r', 'PuBu', 'PuBuGn', 'PuBuGn_r', 'PuBu_r', 'PuOr', 'PuOr_r', 'PuRd', 'PuRd_r', 'Purples', 'Purples_r', 'RdBu', 'RdBu_r', 'RdGy', 'RdGy_r', 'RdPu', 'RdPu_r', 'RdYlBu', 'RdYlBu_r', 'RdYlGn', 'RdYlGn_r', 'Reds', 'Reds_r', 'ScalarMappable', 'Set1', 'Set1_r', 'Set2', 'Set2_r', 'Set3', 'Set3_r', 'Spectral', 'Spectral_r', 'Wistia', 'Wistia_r', 'YlGn', 'YlGnBu', 'YlGnBu_r', 'YlGn_r', 'YlOrBr', 'YlOrBr_r', 'YlOrRd', 'YlOrRd_r', '__builtins__', '__cached__', '__doc__', '__file__', '__loader__', '__name__', '__package__', '__spec__', '_generate_cmap', '_reverse_cmap_spec', '_reverser', 'absolute_import', 'afmhot', 'afmhot_r', 'autumn', 'autumn_r', 'binary', 'binary_r', 'bone', 'bone_r', 'brg', 'brg_r', 'bwr', 'bwr_r', 'cbook', 'cividis', 'cividis_r', 'cmap_d', 'cmapname', 'cmaps_listed', 'colors', 'cool', 'cool_r', 'coolwarm', 'coolwarm_r', 'copper', 'copper_r', 'cubehelix', 'cubehelix_r', 'datad', 'division', 'flag', 'flag_r', 'get_cmap', 'gist_earth', 'gist_earth_r', 'gist_gray', 'gist_gray_r', 'gist_heat', 'gist_heat_r', 'gist_ncar', 'gist_ncar_r', 'gist_rainbow', 'gist_rainbow_r', 'gist_stern', 'gist_stern_r', 'gist_yarg', 'gist_yarg_r', 'gnuplot', 'gnuplot2', 'gnuplot2_r', 'gnuplot_r', 'gray', 'gray_r', 'hot', 'hot_r', 'hsv', 'hsv_r', 'inferno', 'inferno_r', 'jet', 'jet_r', 'ma', 'magma', 'magma_r', 'mpl', 'nipy_spectral', 'nipy_spectral_r', 'np', 'ocean', 'ocean_r', 'pink', 'pink_r', 'plasma', 'plasma_r', 'print_function', 'prism', 'prism_r', 'rainbow', 'rainbow_r', 'register_cmap', 'revcmap', 'seismic', 'seismic_r', 'six', 'spring', 'spring_r', 'summer', 'summer_r', 'tab10', 'tab10_r', 'tab20', 'tab20_r', 'tab20b', 'tab20b_r', 'tab20c', 'tab20c_r', 'terrain', 'terrain_r', 'unicode_literals', 'viridis', 'viridis_r', 'winter', 'winter_r']\n"
     ]
    }
   ],
   "source": [
    "print(dir(plt.cm))"
   ]
  },
  {
   "cell_type": "code",
   "execution_count": 30,
   "metadata": {},
   "outputs": [],
   "source": [
    "xarr = np.array([1.2,1.3,1.4,1.5])\n",
    "yarr = np.array([2.1,2.2,2.3,2.4,2.5])\n",
    "cond = np.array([True,False,True,True,False])"
   ]
  },
  {
   "cell_type": "code",
   "execution_count": 31,
   "metadata": {},
   "outputs": [
    {
     "data": {
      "text/plain": [
       "[1.2, 2.2, 1.4, 1.5]"
      ]
     },
     "execution_count": 31,
     "metadata": {},
     "output_type": "execute_result"
    }
   ],
   "source": [
    "result = [x if c else y\n",
    "         for x,y,c in zip(xarr,yarr,cond)]\n",
    "result"
   ]
  },
  {
   "cell_type": "code",
   "execution_count": 32,
   "metadata": {},
   "outputs": [
    {
     "data": {
      "text/plain": [
       "array([[ 2, -2, -2,  2],\n",
       "       [-2,  2,  2,  2],\n",
       "       [-2, -2, -2, -2],\n",
       "       [-2, -2, -2,  2]])"
      ]
     },
     "execution_count": 32,
     "metadata": {},
     "output_type": "execute_result"
    }
   ],
   "source": [
    "arr = np.random.randn(4,4)\n",
    "np.where(arr>0,2,-2)"
   ]
  },
  {
   "cell_type": "code",
   "execution_count": 33,
   "metadata": {},
   "outputs": [
    {
     "data": {
      "text/plain": [
       "0.20616018183335288"
      ]
     },
     "execution_count": 33,
     "metadata": {},
     "output_type": "execute_result"
    }
   ],
   "source": [
    "arr = np.random.randn(5,4)\n",
    "arr.mean()\n",
    "np.mean(arr)"
   ]
  },
  {
   "cell_type": "code",
   "execution_count": 36,
   "metadata": {},
   "outputs": [
    {
     "data": {
      "text/plain": [
       "array([[ 1,  3,  6],\n",
       "       [ 4,  9, 15],\n",
       "       [ 7, 15, 24]], dtype=int32)"
      ]
     },
     "execution_count": 36,
     "metadata": {},
     "output_type": "execute_result"
    }
   ],
   "source": [
    "arr = np.array([[1,2,3],[4,5,6],[7,8,9]])\n",
    "np.cumsum(arr,1)"
   ]
  },
  {
   "cell_type": "code",
   "execution_count": 46,
   "metadata": {},
   "outputs": [
    {
     "data": {
      "text/plain": [
       "82"
      ]
     },
     "execution_count": 46,
     "metadata": {},
     "output_type": "execute_result"
    }
   ],
   "source": [
    "arr = np.random.randn(100)\n",
    "(arr < 1).sum()"
   ]
  },
  {
   "cell_type": "code",
   "execution_count": 49,
   "metadata": {},
   "outputs": [
    {
     "name": "stdout",
     "output_type": "stream",
     "text": [
      "[-0.85781155 -0.23885456 -1.89975363 -0.34413409  2.0871357   0.4078052\n",
      "  0.52357893 -0.38505035]\n",
      "[-1.89975363 -0.85781155 -0.38505035 -0.34413409 -0.23885456  0.4078052\n",
      "  0.52357893  2.0871357 ]\n"
     ]
    }
   ],
   "source": [
    "arr = np.random.randn(8)\n",
    "print(arr)\n",
    "arr.sort()\n",
    "print(arr)"
   ]
  },
  {
   "cell_type": "code",
   "execution_count": 52,
   "metadata": {},
   "outputs": [
    {
     "data": {
      "text/plain": [
       "array([0.00665721, 0.16455188, 0.49018793])"
      ]
     },
     "execution_count": 52,
     "metadata": {},
     "output_type": "execute_result"
    }
   ],
   "source": [
    "arr = np.random.rand(5,3)\n",
    "arr.sort(1)\n",
    "arr[int(0.05*len(arr))]"
   ]
  },
  {
   "cell_type": "code",
   "execution_count": 53,
   "metadata": {},
   "outputs": [
    {
     "data": {
      "text/plain": [
       "array([0, 1, 2, 3, 4, 5, 6, 7, 8, 9])"
      ]
     },
     "execution_count": 53,
     "metadata": {},
     "output_type": "execute_result"
    }
   ],
   "source": [
    "arr = np.arange(10)\n",
    "np.save('test',arr)\n",
    "np.load('test.npy')"
   ]
  },
  {
   "cell_type": "code",
   "execution_count": 54,
   "metadata": {},
   "outputs": [],
   "source": [
    "np.savez('aaa',a = arr,b = arr)"
   ]
  },
  {
   "cell_type": "code",
   "execution_count": 60,
   "metadata": {},
   "outputs": [
    {
     "data": {
      "text/plain": [
       "array([0, 1, 2, 3, 4, 5, 6, 7, 8, 9])"
      ]
     },
     "execution_count": 60,
     "metadata": {},
     "output_type": "execute_result"
    }
   ],
   "source": [
    "arr = np.arange(10)\n",
    "np.savez('test',a = arr, b = arr)\n",
    "np.load('test.npz')['a']"
   ]
  },
  {
   "cell_type": "code",
   "execution_count": 79,
   "metadata": {},
   "outputs": [
    {
     "data": {
      "text/plain": [
       "[<matplotlib.lines.Line2D at 0x19923ab7b70>]"
      ]
     },
     "execution_count": 79,
     "metadata": {},
     "output_type": "execute_result"
    },
    {
     "data": {
      "image/png": "[encoded data removed]",
      "text/plain": [
       "<Figure size 432x288 with 1 Axes>"
      ]
     },
     "metadata": {
      "needs_background": "light"
     },
     "output_type": "display_data"
    }
   ],
   "source": [
    "# 随机漫步\n",
    "import random\n",
    "import matplotlib.pyplot as plt\n",
    "position = 0\n",
    "walk = [position]\n",
    "steps = 1000\n",
    "for i in range(steps):\n",
    "    step = 1 if random.randint(0,1) else -1\n",
    "    position += step\n",
    "    walk.append(position)\n",
    "plt.plot(walk)"
   ]
  },
  {
   "cell_type": "code",
   "execution_count": 93,
   "metadata": {},
   "outputs": [
    {
     "name": "stdout",
     "output_type": "stream",
     "text": [
      "-13\n",
      "55\n"
     ]
    }
   ],
   "source": [
    "nsteps = 1000\n",
    "draws = np.random.randint(0,2,size= nsteps)\n",
    "steps = np.where(draws> 0,1,-1)\n",
    "# print(steps)\n",
    "walk = steps.cumsum()\n",
    "# print(walk)\n",
    "print(walk.min())\n",
    "print(walk.max())"
   ]
  },
  {
   "cell_type": "code",
   "execution_count": 96,
   "metadata": {},
   "outputs": [
    {
     "data": {
      "text/plain": [
       "array([False, False, False, False, False, False, False, False, False,\n",
       "       False, False, False, False, False, False, False, False, False,\n",
       "       False, False, False, False, False, False, False, False, False,\n",
       "       False, False, False, False, False, False, False, False, False,\n",
       "       False, False, False, False, False, False, False, False, False,\n",
       "       False, False, False, False, False, False, False, False, False,\n",
       "       False, False, False, False, False, False, False, False, False,\n",
       "       False, False, False, False, False, False, False, False, False,\n",
       "       False, False, False, False, False, False, False, False, False,\n",
       "       False, False, False, False, False, False, False, False, False,\n",
       "       False, False, False, False, False, False, False, False, False,\n",
       "       False, False, False, False, False, False, False, False, False,\n",
       "       False, False, False, False, False, False, False, False, False,\n",
       "       False, False, False, False, False, False, False, False, False,\n",
       "       False, False, False, False, False, False, False, False, False,\n",
       "       False, False, False, False, False, False, False, False, False,\n",
       "       False, False, False, False, False, False, False, False, False,\n",
       "       False, False, False, False, False, False, False, False, False,\n",
       "       False, False, False, False, False, False, False, False, False,\n",
       "       False, False, False, False, False, False, False, False, False,\n",
       "       False, False, False, False, False,  True,  True,  True,  True,\n",
       "        True,  True,  True, False,  True,  True,  True,  True,  True,\n",
       "       False,  True, False, False, False, False, False, False, False,\n",
       "       False, False, False, False, False, False, False, False, False,\n",
       "       False, False, False, False, False, False, False, False, False,\n",
       "       False, False, False, False, False, False, False, False, False,\n",
       "       False, False, False, False, False, False, False, False, False,\n",
       "       False, False, False, False, False, False, False, False, False,\n",
       "       False, False, False, False, False, False, False, False, False,\n",
       "       False, False, False, False, False, False, False, False, False,\n",
       "       False, False, False, False, False, False, False, False, False,\n",
       "       False, False, False, False, False, False, False, False, False,\n",
       "       False, False, False, False, False, False, False, False, False,\n",
       "       False, False, False, False, False, False, False, False, False,\n",
       "       False, False, False, False, False, False, False, False, False,\n",
       "       False, False, False, False, False, False, False, False, False,\n",
       "       False, False, False, False, False, False, False, False, False,\n",
       "       False, False, False, False, False, False, False, False, False,\n",
       "       False, False, False, False, False, False, False, False, False,\n",
       "       False, False,  True,  True,  True, False,  True,  True,  True,\n",
       "       False, False, False,  True, False, False, False, False, False,\n",
       "       False, False, False, False, False, False, False, False, False,\n",
       "       False, False, False, False, False, False, False,  True,  True,\n",
       "        True,  True,  True,  True,  True,  True,  True,  True,  True,\n",
       "        True,  True,  True,  True,  True,  True,  True,  True,  True,\n",
       "        True,  True,  True,  True,  True,  True,  True,  True,  True,\n",
       "        True,  True,  True,  True,  True,  True,  True,  True,  True,\n",
       "        True,  True,  True,  True,  True,  True,  True,  True,  True,\n",
       "        True,  True,  True,  True,  True,  True,  True,  True,  True,\n",
       "        True,  True,  True,  True,  True,  True,  True,  True,  True,\n",
       "        True,  True,  True,  True,  True,  True,  True,  True,  True,\n",
       "        True,  True,  True,  True,  True,  True,  True,  True,  True,\n",
       "        True,  True,  True,  True,  True,  True,  True,  True,  True,\n",
       "        True,  True,  True,  True,  True,  True,  True,  True,  True,\n",
       "        True,  True,  True,  True,  True,  True,  True,  True,  True,\n",
       "        True,  True,  True,  True,  True,  True,  True,  True,  True,\n",
       "        True,  True,  True,  True,  True,  True,  True,  True,  True,\n",
       "        True,  True,  True,  True,  True,  True,  True,  True,  True,\n",
       "        True,  True,  True,  True,  True,  True,  True,  True,  True,\n",
       "        True,  True,  True,  True,  True,  True,  True,  True,  True,\n",
       "        True,  True,  True,  True,  True,  True,  True,  True,  True,\n",
       "        True,  True,  True,  True,  True,  True,  True,  True,  True,\n",
       "        True,  True,  True,  True,  True,  True,  True,  True,  True,\n",
       "        True,  True,  True,  True,  True,  True,  True,  True,  True,\n",
       "        True,  True,  True,  True,  True,  True,  True,  True,  True,\n",
       "        True,  True,  True,  True,  True,  True,  True,  True,  True,\n",
       "        True,  True,  True,  True,  True,  True,  True,  True,  True,\n",
       "        True,  True,  True,  True,  True,  True,  True,  True,  True,\n",
       "        True,  True,  True,  True,  True,  True,  True,  True,  True,\n",
       "        True,  True,  True,  True,  True,  True,  True,  True,  True,\n",
       "        True,  True,  True,  True,  True,  True,  True,  True,  True,\n",
       "        True,  True,  True,  True,  True,  True,  True,  True,  True,\n",
       "        True,  True,  True,  True,  True,  True,  True,  True,  True,\n",
       "        True,  True,  True,  True,  True,  True,  True,  True,  True,\n",
       "        True,  True,  True,  True,  True,  True,  True,  True,  True,\n",
       "        True,  True,  True,  True,  True,  True,  True,  True,  True,\n",
       "        True,  True,  True,  True,  True,  True,  True,  True,  True,\n",
       "        True,  True,  True,  True,  True,  True,  True,  True,  True,\n",
       "        True,  True,  True,  True,  True,  True,  True,  True,  True,\n",
       "        True,  True,  True,  True,  True,  True,  True,  True,  True,\n",
       "        True,  True,  True,  True,  True,  True,  True,  True,  True,\n",
       "        True,  True,  True,  True,  True,  True,  True,  True,  True,\n",
       "        True,  True,  True,  True,  True,  True,  True,  True,  True,\n",
       "        True,  True,  True,  True,  True,  True,  True,  True,  True,\n",
       "        True,  True,  True,  True,  True,  True,  True,  True,  True,\n",
       "        True,  True,  True,  True,  True,  True,  True,  True,  True,\n",
       "        True,  True,  True,  True,  True,  True,  True,  True,  True,\n",
       "        True,  True,  True,  True,  True,  True,  True,  True,  True,\n",
       "        True,  True,  True,  True,  True,  True,  True,  True,  True,\n",
       "        True,  True,  True,  True,  True,  True,  True,  True,  True,\n",
       "        True,  True,  True,  True,  True,  True,  True,  True,  True,\n",
       "        True,  True,  True,  True,  True,  True,  True,  True,  True,\n",
       "        True,  True,  True,  True,  True,  True,  True,  True,  True,\n",
       "        True,  True,  True,  True,  True,  True,  True,  True,  True,\n",
       "        True,  True,  True,  True,  True,  True,  True,  True,  True,\n",
       "        True,  True,  True,  True,  True,  True,  True,  True,  True,\n",
       "        True,  True,  True,  True,  True,  True,  True,  True,  True,\n",
       "        True,  True,  True,  True,  True,  True,  True,  True,  True,\n",
       "        True,  True,  True,  True,  True,  True,  True,  True,  True,\n",
       "        True,  True,  True,  True,  True,  True,  True,  True,  True,\n",
       "        True,  True,  True,  True,  True,  True,  True,  True,  True,\n",
       "        True,  True,  True,  True,  True,  True,  True,  True,  True,\n",
       "        True,  True,  True,  True,  True,  True,  True,  True,  True,\n",
       "        True,  True,  True,  True,  True,  True,  True,  True,  True,\n",
       "        True,  True,  True,  True,  True,  True,  True,  True,  True,\n",
       "        True,  True,  True,  True,  True,  True,  True,  True,  True,\n",
       "        True,  True,  True,  True,  True,  True,  True,  True,  True,\n",
       "        True,  True,  True,  True,  True,  True,  True,  True,  True,\n",
       "        True,  True,  True,  True,  True,  True,  True,  True,  True,\n",
       "        True,  True,  True,  True,  True,  True,  True,  True,  True,\n",
       "        True,  True,  True,  True,  True,  True,  True,  True,  True,\n",
       "        True])"
      ]
     },
     "execution_count": 96,
     "metadata": {},
     "output_type": "execute_result"
    }
   ],
   "source": [
    "(np.abs(walk) >= 10)"
   ]
  },
  {
   "cell_type": "code",
   "execution_count": 100,
   "metadata": {
    "scrolled": true
   },
   "outputs": [
    {
     "name": "stdout",
     "output_type": "stream",
     "text": [
      "5\n",
      "[1 1 1]\n",
      "[2 2]\n",
      "(2, 3)\n"
     ]
    }
   ],
   "source": [
    "a = np.array([[1,2,3],[4,5,6]])\n",
    "print(np.argmax(a))\n",
    "print(np.argmax(a,axis=0))\n",
    "print(np.argmax(a,axis=1))"
   ]
  },
  {
   "cell_type": "code",
   "execution_count": 105,
   "metadata": {},
   "outputs": [
    {
     "data": {
      "text/plain": [
       "[<matplotlib.lines.Line2D at 0x19923ebf860>,\n",
       " <matplotlib.lines.Line2D at 0x19923ebf9b0>,\n",
       " <matplotlib.lines.Line2D at 0x19923ebfb00>,\n",
       " <matplotlib.lines.Line2D at 0x19923ebfc50>,\n",
       " <matplotlib.lines.Line2D at 0x19923ebfda0>,\n",
       " <matplotlib.lines.Line2D at 0x19923ebfef0>,\n",
       " <matplotlib.lines.Line2D at 0x19925036080>,\n",
       " <matplotlib.lines.Line2D at 0x199250361d0>,\n",
       " <matplotlib.lines.Line2D at 0x19925036320>,\n",
       " <matplotlib.lines.Line2D at 0x19925036470>,\n",
       " <matplotlib.lines.Line2D at 0x19923ea92e8>,\n",
       " <matplotlib.lines.Line2D at 0x199250366d8>,\n",
       " <matplotlib.lines.Line2D at 0x19925036828>,\n",
       " <matplotlib.lines.Line2D at 0x19925036978>,\n",
       " <matplotlib.lines.Line2D at 0x19925036ac8>,\n",
       " <matplotlib.lines.Line2D at 0x19925036c18>,\n",
       " <matplotlib.lines.Line2D at 0x19925036d68>,\n",
       " <matplotlib.lines.Line2D at 0x19925036eb8>,\n",
       " <matplotlib.lines.Line2D at 0x1992503c048>,\n",
       " <matplotlib.lines.Line2D at 0x1992503c198>,\n",
       " <matplotlib.lines.Line2D at 0x1992503c2e8>,\n",
       " <matplotlib.lines.Line2D at 0x1992503c438>,\n",
       " <matplotlib.lines.Line2D at 0x1992503c588>,\n",
       " <matplotlib.lines.Line2D at 0x1992503c6d8>,\n",
       " <matplotlib.lines.Line2D at 0x1992503c828>,\n",
       " <matplotlib.lines.Line2D at 0x1992503c978>,\n",
       " <matplotlib.lines.Line2D at 0x1992503cac8>,\n",
       " <matplotlib.lines.Line2D at 0x1992503cc18>,\n",
       " <matplotlib.lines.Line2D at 0x1992503cd68>,\n",
       " <matplotlib.lines.Line2D at 0x1992503ceb8>,\n",
       " <matplotlib.lines.Line2D at 0x19925042048>,\n",
       " <matplotlib.lines.Line2D at 0x19925042198>,\n",
       " <matplotlib.lines.Line2D at 0x199250422e8>,\n",
       " <matplotlib.lines.Line2D at 0x19925042438>,\n",
       " <matplotlib.lines.Line2D at 0x19925042588>,\n",
       " <matplotlib.lines.Line2D at 0x199250426d8>,\n",
       " <matplotlib.lines.Line2D at 0x19925042828>,\n",
       " <matplotlib.lines.Line2D at 0x19925042978>,\n",
       " <matplotlib.lines.Line2D at 0x19925042ac8>,\n",
       " <matplotlib.lines.Line2D at 0x19925042c18>,\n",
       " <matplotlib.lines.Line2D at 0x19925042d68>,\n",
       " <matplotlib.lines.Line2D at 0x19925042eb8>,\n",
       " <matplotlib.lines.Line2D at 0x19925046048>,\n",
       " <matplotlib.lines.Line2D at 0x19925046198>,\n",
       " <matplotlib.lines.Line2D at 0x199250462e8>,\n",
       " <matplotlib.lines.Line2D at 0x19925046438>,\n",
       " <matplotlib.lines.Line2D at 0x19925046588>,\n",
       " <matplotlib.lines.Line2D at 0x199250466d8>,\n",
       " <matplotlib.lines.Line2D at 0x19925046828>,\n",
       " <matplotlib.lines.Line2D at 0x19925046978>,\n",
       " <matplotlib.lines.Line2D at 0x19925046ac8>,\n",
       " <matplotlib.lines.Line2D at 0x19925046c18>,\n",
       " <matplotlib.lines.Line2D at 0x19925046d68>,\n",
       " <matplotlib.lines.Line2D at 0x19925046eb8>,\n",
       " <matplotlib.lines.Line2D at 0x1992504c048>,\n",
       " <matplotlib.lines.Line2D at 0x1992504c198>,\n",
       " <matplotlib.lines.Line2D at 0x1992504c2e8>,\n",
       " <matplotlib.lines.Line2D at 0x1992504c438>,\n",
       " <matplotlib.lines.Line2D at 0x1992504c588>,\n",
       " <matplotlib.lines.Line2D at 0x1992504c6d8>,\n",
       " <matplotlib.lines.Line2D at 0x1992504c828>,\n",
       " <matplotlib.lines.Line2D at 0x1992504c978>,\n",
       " <matplotlib.lines.Line2D at 0x1992504cac8>,\n",
       " <matplotlib.lines.Line2D at 0x1992504cc18>,\n",
       " <matplotlib.lines.Line2D at 0x1992504cd68>,\n",
       " <matplotlib.lines.Line2D at 0x1992504ceb8>,\n",
       " <matplotlib.lines.Line2D at 0x19925051048>,\n",
       " <matplotlib.lines.Line2D at 0x19925051198>,\n",
       " <matplotlib.lines.Line2D at 0x199250512e8>,\n",
       " <matplotlib.lines.Line2D at 0x19925051438>,\n",
       " <matplotlib.lines.Line2D at 0x19925051588>,\n",
       " <matplotlib.lines.Line2D at 0x199250516d8>,\n",
       " <matplotlib.lines.Line2D at 0x19925051828>,\n",
       " <matplotlib.lines.Line2D at 0x19925051978>,\n",
       " <matplotlib.lines.Line2D at 0x19925051ac8>,\n",
       " <matplotlib.lines.Line2D at 0x19925051c18>,\n",
       " <matplotlib.lines.Line2D at 0x19925051d68>,\n",
       " <matplotlib.lines.Line2D at 0x19925051eb8>,\n",
       " <matplotlib.lines.Line2D at 0x19925057048>,\n",
       " <matplotlib.lines.Line2D at 0x19925057198>,\n",
       " <matplotlib.lines.Line2D at 0x199250572e8>,\n",
       " <matplotlib.lines.Line2D at 0x19925057438>,\n",
       " <matplotlib.lines.Line2D at 0x19925057588>,\n",
       " <matplotlib.lines.Line2D at 0x199250576d8>,\n",
       " <matplotlib.lines.Line2D at 0x19925057828>,\n",
       " <matplotlib.lines.Line2D at 0x19925057978>,\n",
       " <matplotlib.lines.Line2D at 0x19925057ac8>,\n",
       " <matplotlib.lines.Line2D at 0x19925057c18>,\n",
       " <matplotlib.lines.Line2D at 0x19925057d68>,\n",
       " <matplotlib.lines.Line2D at 0x19925057eb8>,\n",
       " <matplotlib.lines.Line2D at 0x1992505b048>,\n",
       " <matplotlib.lines.Line2D at 0x1992505b198>,\n",
       " <matplotlib.lines.Line2D at 0x1992505b2e8>,\n",
       " <matplotlib.lines.Line2D at 0x1992505b438>,\n",
       " <matplotlib.lines.Line2D at 0x1992505b588>,\n",
       " <matplotlib.lines.Line2D at 0x1992505b6d8>,\n",
       " <matplotlib.lines.Line2D at 0x1992505b828>,\n",
       " <matplotlib.lines.Line2D at 0x1992505b978>,\n",
       " <matplotlib.lines.Line2D at 0x1992505bac8>,\n",
       " <matplotlib.lines.Line2D at 0x1992505bc18>,\n",
       " <matplotlib.lines.Line2D at 0x1992505bd68>,\n",
       " <matplotlib.lines.Line2D at 0x1992505beb8>,\n",
       " <matplotlib.lines.Line2D at 0x19925061048>,\n",
       " <matplotlib.lines.Line2D at 0x19925061198>,\n",
       " <matplotlib.lines.Line2D at 0x199250612e8>,\n",
       " <matplotlib.lines.Line2D at 0x19925061438>,\n",
       " <matplotlib.lines.Line2D at 0x19925061588>,\n",
       " <matplotlib.lines.Line2D at 0x199250616d8>,\n",
       " <matplotlib.lines.Line2D at 0x19925061828>,\n",
       " <matplotlib.lines.Line2D at 0x19925061978>,\n",
       " <matplotlib.lines.Line2D at 0x19925061ac8>,\n",
       " <matplotlib.lines.Line2D at 0x19925061c18>,\n",
       " <matplotlib.lines.Line2D at 0x19925061d68>,\n",
       " <matplotlib.lines.Line2D at 0x19925061eb8>,\n",
       " <matplotlib.lines.Line2D at 0x19925065048>,\n",
       " <matplotlib.lines.Line2D at 0x19925065198>,\n",
       " <matplotlib.lines.Line2D at 0x199250652e8>,\n",
       " <matplotlib.lines.Line2D at 0x19925065438>,\n",
       " <matplotlib.lines.Line2D at 0x19925065588>,\n",
       " <matplotlib.lines.Line2D at 0x199250656d8>,\n",
       " <matplotlib.lines.Line2D at 0x19925065828>,\n",
       " <matplotlib.lines.Line2D at 0x19925065978>,\n",
       " <matplotlib.lines.Line2D at 0x19925065ac8>,\n",
       " <matplotlib.lines.Line2D at 0x19925065c18>,\n",
       " <matplotlib.lines.Line2D at 0x19925065d68>,\n",
       " <matplotlib.lines.Line2D at 0x19925065eb8>,\n",
       " <matplotlib.lines.Line2D at 0x1992506b048>,\n",
       " <matplotlib.lines.Line2D at 0x1992506b198>,\n",
       " <matplotlib.lines.Line2D at 0x1992506b2e8>,\n",
       " <matplotlib.lines.Line2D at 0x1992506b438>,\n",
       " <matplotlib.lines.Line2D at 0x1992506b588>,\n",
       " <matplotlib.lines.Line2D at 0x1992506b6d8>,\n",
       " <matplotlib.lines.Line2D at 0x1992506b828>,\n",
       " <matplotlib.lines.Line2D at 0x1992506b978>,\n",
       " <matplotlib.lines.Line2D at 0x1992506bac8>,\n",
       " <matplotlib.lines.Line2D at 0x1992506bc18>,\n",
       " <matplotlib.lines.Line2D at 0x1992506bd68>,\n",
       " <matplotlib.lines.Line2D at 0x1992506beb8>,\n",
       " <matplotlib.lines.Line2D at 0x1992506f048>,\n",
       " <matplotlib.lines.Line2D at 0x1992506f198>,\n",
       " <matplotlib.lines.Line2D at 0x1992506f2e8>,\n",
       " <matplotlib.lines.Line2D at 0x1992506f438>,\n",
       " <matplotlib.lines.Line2D at 0x1992506f588>,\n",
       " <matplotlib.lines.Line2D at 0x1992506f6d8>,\n",
       " <matplotlib.lines.Line2D at 0x1992506f828>,\n",
       " <matplotlib.lines.Line2D at 0x1992506f978>,\n",
       " <matplotlib.lines.Line2D at 0x1992506fac8>,\n",
       " <matplotlib.lines.Line2D at 0x1992506fc18>,\n",
       " <matplotlib.lines.Line2D at 0x1992506fd68>,\n",
       " <matplotlib.lines.Line2D at 0x1992506feb8>,\n",
       " <matplotlib.lines.Line2D at 0x19925077048>,\n",
       " <matplotlib.lines.Line2D at 0x19925077198>,\n",
       " <matplotlib.lines.Line2D at 0x199250772e8>,\n",
       " <matplotlib.lines.Line2D at 0x19925077438>,\n",
       " <matplotlib.lines.Line2D at 0x19925077588>,\n",
       " <matplotlib.lines.Line2D at 0x199250776d8>,\n",
       " <matplotlib.lines.Line2D at 0x19925077828>,\n",
       " <matplotlib.lines.Line2D at 0x19925077978>,\n",
       " <matplotlib.lines.Line2D at 0x19925077ac8>,\n",
       " <matplotlib.lines.Line2D at 0x19925077c18>,\n",
       " <matplotlib.lines.Line2D at 0x19925077d68>,\n",
       " <matplotlib.lines.Line2D at 0x19925077eb8>,\n",
       " <matplotlib.lines.Line2D at 0x1992507a048>,\n",
       " <matplotlib.lines.Line2D at 0x1992507a198>,\n",
       " <matplotlib.lines.Line2D at 0x1992507a2e8>,\n",
       " <matplotlib.lines.Line2D at 0x1992507a438>,\n",
       " <matplotlib.lines.Line2D at 0x1992507a588>,\n",
       " <matplotlib.lines.Line2D at 0x1992507a6d8>,\n",
       " <matplotlib.lines.Line2D at 0x1992507a828>,\n",
       " <matplotlib.lines.Line2D at 0x1992507a978>,\n",
       " <matplotlib.lines.Line2D at 0x1992507aac8>,\n",
       " <matplotlib.lines.Line2D at 0x1992507ac18>,\n",
       " <matplotlib.lines.Line2D at 0x1992507ad68>,\n",
       " <matplotlib.lines.Line2D at 0x1992507aeb8>,\n",
       " <matplotlib.lines.Line2D at 0x1992507f048>,\n",
       " <matplotlib.lines.Line2D at 0x1992507f198>,\n",
       " <matplotlib.lines.Line2D at 0x1992507f2e8>,\n",
       " <matplotlib.lines.Line2D at 0x1992507f438>,\n",
       " <matplotlib.lines.Line2D at 0x1992507f588>,\n",
       " <matplotlib.lines.Line2D at 0x1992507f6d8>,\n",
       " <matplotlib.lines.Line2D at 0x1992507f828>,\n",
       " <matplotlib.lines.Line2D at 0x1992507f978>,\n",
       " <matplotlib.lines.Line2D at 0x1992507fac8>,\n",
       " <matplotlib.lines.Line2D at 0x1992507fc18>,\n",
       " <matplotlib.lines.Line2D at 0x1992507fd68>,\n",
       " <matplotlib.lines.Line2D at 0x1992507feb8>,\n",
       " <matplotlib.lines.Line2D at 0x19925085048>,\n",
       " <matplotlib.lines.Line2D at 0x19925085198>,\n",
       " <matplotlib.lines.Line2D at 0x199250852e8>,\n",
       " <matplotlib.lines.Line2D at 0x19925085438>,\n",
       " <matplotlib.lines.Line2D at 0x19925085588>,\n",
       " <matplotlib.lines.Line2D at 0x199250856d8>,\n",
       " <matplotlib.lines.Line2D at 0x19925085828>,\n",
       " <matplotlib.lines.Line2D at 0x19925085978>,\n",
       " <matplotlib.lines.Line2D at 0x19925085ac8>,\n",
       " <matplotlib.lines.Line2D at 0x19925085c18>,\n",
       " <matplotlib.lines.Line2D at 0x19925085d68>,\n",
       " <matplotlib.lines.Line2D at 0x19925085eb8>,\n",
       " <matplotlib.lines.Line2D at 0x1992508a048>,\n",
       " <matplotlib.lines.Line2D at 0x1992508a198>,\n",
       " <matplotlib.lines.Line2D at 0x1992508a2e8>,\n",
       " <matplotlib.lines.Line2D at 0x1992508a438>,\n",
       " <matplotlib.lines.Line2D at 0x1992508a588>,\n",
       " <matplotlib.lines.Line2D at 0x1992508a6d8>,\n",
       " <matplotlib.lines.Line2D at 0x1992508a828>,\n",
       " <matplotlib.lines.Line2D at 0x1992508a978>,\n",
       " <matplotlib.lines.Line2D at 0x1992508aac8>,\n",
       " <matplotlib.lines.Line2D at 0x1992508ac18>,\n",
       " <matplotlib.lines.Line2D at 0x1992508ad68>,\n",
       " <matplotlib.lines.Line2D at 0x1992508aeb8>,\n",
       " <matplotlib.lines.Line2D at 0x1992508e048>,\n",
       " <matplotlib.lines.Line2D at 0x1992508e198>,\n",
       " <matplotlib.lines.Line2D at 0x1992508e2e8>,\n",
       " <matplotlib.lines.Line2D at 0x1992508e438>,\n",
       " <matplotlib.lines.Line2D at 0x1992508e588>,\n",
       " <matplotlib.lines.Line2D at 0x1992508e6d8>,\n",
       " <matplotlib.lines.Line2D at 0x1992508e828>,\n",
       " <matplotlib.lines.Line2D at 0x1992508e978>,\n",
       " <matplotlib.lines.Line2D at 0x1992508eac8>,\n",
       " <matplotlib.lines.Line2D at 0x1992508ec18>,\n",
       " <matplotlib.lines.Line2D at 0x1992508ed68>,\n",
       " <matplotlib.lines.Line2D at 0x1992508eeb8>,\n",
       " <matplotlib.lines.Line2D at 0x19925093048>,\n",
       " <matplotlib.lines.Line2D at 0x19925093198>,\n",
       " <matplotlib.lines.Line2D at 0x199250932e8>,\n",
       " <matplotlib.lines.Line2D at 0x19925093438>,\n",
       " <matplotlib.lines.Line2D at 0x19925093588>,\n",
       " <matplotlib.lines.Line2D at 0x199250936d8>,\n",
       " <matplotlib.lines.Line2D at 0x19925093828>,\n",
       " <matplotlib.lines.Line2D at 0x19925093978>,\n",
       " <matplotlib.lines.Line2D at 0x19925093ac8>,\n",
       " <matplotlib.lines.Line2D at 0x19925093c18>,\n",
       " <matplotlib.lines.Line2D at 0x19923e8a470>,\n",
       " <matplotlib.lines.Line2D at 0x19925093eb8>,\n",
       " <matplotlib.lines.Line2D at 0x19925099048>,\n",
       " <matplotlib.lines.Line2D at 0x19925099198>,\n",
       " <matplotlib.lines.Line2D at 0x199250992e8>,\n",
       " <matplotlib.lines.Line2D at 0x19925099438>,\n",
       " <matplotlib.lines.Line2D at 0x19925099588>,\n",
       " <matplotlib.lines.Line2D at 0x199250996d8>,\n",
       " <matplotlib.lines.Line2D at 0x19925099828>,\n",
       " <matplotlib.lines.Line2D at 0x19925099978>,\n",
       " <matplotlib.lines.Line2D at 0x19925099ac8>,\n",
       " <matplotlib.lines.Line2D at 0x19925099c18>,\n",
       " <matplotlib.lines.Line2D at 0x19925099d68>,\n",
       " <matplotlib.lines.Line2D at 0x19925099eb8>,\n",
       " <matplotlib.lines.Line2D at 0x1992509f048>,\n",
       " <matplotlib.lines.Line2D at 0x1992509f198>,\n",
       " <matplotlib.lines.Line2D at 0x1992509f2e8>,\n",
       " <matplotlib.lines.Line2D at 0x1992509f438>,\n",
       " <matplotlib.lines.Line2D at 0x1992509f588>,\n",
       " <matplotlib.lines.Line2D at 0x1992509f6d8>,\n",
       " <matplotlib.lines.Line2D at 0x1992509f828>,\n",
       " <matplotlib.lines.Line2D at 0x1992509f978>,\n",
       " <matplotlib.lines.Line2D at 0x1992509fac8>,\n",
       " <matplotlib.lines.Line2D at 0x1992509fc18>,\n",
       " <matplotlib.lines.Line2D at 0x1992509fd68>,\n",
       " <matplotlib.lines.Line2D at 0x1992509feb8>,\n",
       " <matplotlib.lines.Line2D at 0x199250a3048>,\n",
       " <matplotlib.lines.Line2D at 0x199250a3198>,\n",
       " <matplotlib.lines.Line2D at 0x199250a32e8>,\n",
       " <matplotlib.lines.Line2D at 0x199250a3438>,\n",
       " <matplotlib.lines.Line2D at 0x199250a3588>,\n",
       " <matplotlib.lines.Line2D at 0x199250a36d8>,\n",
       " <matplotlib.lines.Line2D at 0x199250a3828>,\n",
       " <matplotlib.lines.Line2D at 0x199250a3978>,\n",
       " <matplotlib.lines.Line2D at 0x199250a3ac8>,\n",
       " <matplotlib.lines.Line2D at 0x199250a3c18>,\n",
       " <matplotlib.lines.Line2D at 0x199250a3d68>,\n",
       " <matplotlib.lines.Line2D at 0x199250a3eb8>,\n",
       " <matplotlib.lines.Line2D at 0x199250a9048>,\n",
       " <matplotlib.lines.Line2D at 0x199250a9198>,\n",
       " <matplotlib.lines.Line2D at 0x199250a92e8>,\n",
       " <matplotlib.lines.Line2D at 0x199250a9438>,\n",
       " <matplotlib.lines.Line2D at 0x199250a9588>,\n",
       " <matplotlib.lines.Line2D at 0x199250a96d8>,\n",
       " <matplotlib.lines.Line2D at 0x199250a9828>,\n",
       " <matplotlib.lines.Line2D at 0x199250a9978>,\n",
       " <matplotlib.lines.Line2D at 0x199250a9ac8>,\n",
       " <matplotlib.lines.Line2D at 0x199250a9c18>,\n",
       " <matplotlib.lines.Line2D at 0x199250a9d68>,\n",
       " <matplotlib.lines.Line2D at 0x199250a9eb8>,\n",
       " <matplotlib.lines.Line2D at 0x199250ae048>,\n",
       " <matplotlib.lines.Line2D at 0x199250ae198>,\n",
       " <matplotlib.lines.Line2D at 0x199250ae2e8>,\n",
       " <matplotlib.lines.Line2D at 0x199250ae438>,\n",
       " <matplotlib.lines.Line2D at 0x199250ae588>,\n",
       " <matplotlib.lines.Line2D at 0x199250ae6d8>,\n",
       " <matplotlib.lines.Line2D at 0x199250ae828>,\n",
       " <matplotlib.lines.Line2D at 0x199250ae978>,\n",
       " <matplotlib.lines.Line2D at 0x199250aeac8>,\n",
       " <matplotlib.lines.Line2D at 0x199250aec18>,\n",
       " <matplotlib.lines.Line2D at 0x199250aed68>,\n",
       " <matplotlib.lines.Line2D at 0x199250aeeb8>,\n",
       " <matplotlib.lines.Line2D at 0x199250b3048>,\n",
       " <matplotlib.lines.Line2D at 0x199250b3198>,\n",
       " <matplotlib.lines.Line2D at 0x199250b32e8>,\n",
       " <matplotlib.lines.Line2D at 0x199250b3438>,\n",
       " <matplotlib.lines.Line2D at 0x199250b3588>,\n",
       " <matplotlib.lines.Line2D at 0x199250b36d8>,\n",
       " <matplotlib.lines.Line2D at 0x199250b3828>,\n",
       " <matplotlib.lines.Line2D at 0x199250b3978>,\n",
       " <matplotlib.lines.Line2D at 0x199250b3ac8>,\n",
       " <matplotlib.lines.Line2D at 0x199250b3c18>,\n",
       " <matplotlib.lines.Line2D at 0x199250b3d68>,\n",
       " <matplotlib.lines.Line2D at 0x199250b3eb8>,\n",
       " <matplotlib.lines.Line2D at 0x199250b7048>,\n",
       " <matplotlib.lines.Line2D at 0x199250b7198>,\n",
       " <matplotlib.lines.Line2D at 0x199250b72e8>,\n",
       " <matplotlib.lines.Line2D at 0x199250b7438>,\n",
       " <matplotlib.lines.Line2D at 0x199250b7588>,\n",
       " <matplotlib.lines.Line2D at 0x199250b76d8>,\n",
       " <matplotlib.lines.Line2D at 0x199250b7828>,\n",
       " <matplotlib.lines.Line2D at 0x199250b7978>,\n",
       " <matplotlib.lines.Line2D at 0x199250b7ac8>,\n",
       " <matplotlib.lines.Line2D at 0x199250b7c18>,\n",
       " <matplotlib.lines.Line2D at 0x199250b7d68>,\n",
       " <matplotlib.lines.Line2D at 0x199250b7eb8>,\n",
       " <matplotlib.lines.Line2D at 0x199250bd048>,\n",
       " <matplotlib.lines.Line2D at 0x199250bd198>,\n",
       " <matplotlib.lines.Line2D at 0x199250bd2e8>,\n",
       " <matplotlib.lines.Line2D at 0x199250bd438>,\n",
       " <matplotlib.lines.Line2D at 0x199250bd588>,\n",
       " <matplotlib.lines.Line2D at 0x199250bd6d8>,\n",
       " <matplotlib.lines.Line2D at 0x199250bd828>,\n",
       " <matplotlib.lines.Line2D at 0x199250bd978>,\n",
       " <matplotlib.lines.Line2D at 0x199250bdac8>,\n",
       " <matplotlib.lines.Line2D at 0x199250bdc18>,\n",
       " <matplotlib.lines.Line2D at 0x199250bdd68>,\n",
       " <matplotlib.lines.Line2D at 0x199250bdeb8>,\n",
       " <matplotlib.lines.Line2D at 0x199250c2048>,\n",
       " <matplotlib.lines.Line2D at 0x199250c2198>,\n",
       " <matplotlib.lines.Line2D at 0x199250c22e8>,\n",
       " <matplotlib.lines.Line2D at 0x199250c2438>,\n",
       " <matplotlib.lines.Line2D at 0x199250c2588>,\n",
       " <matplotlib.lines.Line2D at 0x199250c26d8>,\n",
       " <matplotlib.lines.Line2D at 0x199250c2828>,\n",
       " <matplotlib.lines.Line2D at 0x199250c2978>,\n",
       " <matplotlib.lines.Line2D at 0x199250c2ac8>,\n",
       " <matplotlib.lines.Line2D at 0x199250c2c18>,\n",
       " <matplotlib.lines.Line2D at 0x199250c2d68>,\n",
       " <matplotlib.lines.Line2D at 0x199250c2eb8>,\n",
       " <matplotlib.lines.Line2D at 0x199250c7048>,\n",
       " <matplotlib.lines.Line2D at 0x199250c7198>,\n",
       " <matplotlib.lines.Line2D at 0x199250c72e8>,\n",
       " <matplotlib.lines.Line2D at 0x199250c7438>,\n",
       " <matplotlib.lines.Line2D at 0x199250c7588>,\n",
       " <matplotlib.lines.Line2D at 0x199250c76d8>,\n",
       " <matplotlib.lines.Line2D at 0x199250c7828>,\n",
       " <matplotlib.lines.Line2D at 0x199250c7978>,\n",
       " <matplotlib.lines.Line2D at 0x199250c7ac8>,\n",
       " <matplotlib.lines.Line2D at 0x199250c7c18>,\n",
       " <matplotlib.lines.Line2D at 0x199250c7d68>,\n",
       " <matplotlib.lines.Line2D at 0x199250c7eb8>,\n",
       " <matplotlib.lines.Line2D at 0x199250cd048>,\n",
       " <matplotlib.lines.Line2D at 0x199250cd198>,\n",
       " <matplotlib.lines.Line2D at 0x199250cd2e8>,\n",
       " <matplotlib.lines.Line2D at 0x199250cd438>,\n",
       " <matplotlib.lines.Line2D at 0x199250cd588>,\n",
       " <matplotlib.lines.Line2D at 0x199250cd6d8>,\n",
       " <matplotlib.lines.Line2D at 0x199250cd828>,\n",
       " <matplotlib.lines.Line2D at 0x199250cd978>,\n",
       " <matplotlib.lines.Line2D at 0x199250cdac8>,\n",
       " <matplotlib.lines.Line2D at 0x199250cdc18>,\n",
       " <matplotlib.lines.Line2D at 0x199250cdd68>,\n",
       " <matplotlib.lines.Line2D at 0x199250cdeb8>,\n",
       " <matplotlib.lines.Line2D at 0x199250d2048>,\n",
       " <matplotlib.lines.Line2D at 0x199250d2198>,\n",
       " <matplotlib.lines.Line2D at 0x199250d22e8>,\n",
       " <matplotlib.lines.Line2D at 0x199250d2438>,\n",
       " <matplotlib.lines.Line2D at 0x199250d2588>,\n",
       " <matplotlib.lines.Line2D at 0x199250d26d8>,\n",
       " <matplotlib.lines.Line2D at 0x199250d2828>,\n",
       " <matplotlib.lines.Line2D at 0x199250d2978>,\n",
       " <matplotlib.lines.Line2D at 0x199250d2ac8>,\n",
       " <matplotlib.lines.Line2D at 0x199250d2c18>,\n",
       " <matplotlib.lines.Line2D at 0x199250d2d68>,\n",
       " <matplotlib.lines.Line2D at 0x199250d2eb8>,\n",
       " <matplotlib.lines.Line2D at 0x199250d7048>,\n",
       " <matplotlib.lines.Line2D at 0x199250d7198>,\n",
       " <matplotlib.lines.Line2D at 0x199250d72e8>,\n",
       " <matplotlib.lines.Line2D at 0x199250d7438>,\n",
       " <matplotlib.lines.Line2D at 0x199250d7588>,\n",
       " <matplotlib.lines.Line2D at 0x199250d76d8>,\n",
       " <matplotlib.lines.Line2D at 0x199250d7828>,\n",
       " <matplotlib.lines.Line2D at 0x199250d7978>,\n",
       " <matplotlib.lines.Line2D at 0x199250d7ac8>,\n",
       " <matplotlib.lines.Line2D at 0x199250d7c18>,\n",
       " <matplotlib.lines.Line2D at 0x199250d7d68>,\n",
       " <matplotlib.lines.Line2D at 0x199250d7eb8>,\n",
       " <matplotlib.lines.Line2D at 0x199250dc048>,\n",
       " <matplotlib.lines.Line2D at 0x199250dc198>,\n",
       " <matplotlib.lines.Line2D at 0x199250dc2e8>,\n",
       " <matplotlib.lines.Line2D at 0x199250dc438>,\n",
       " <matplotlib.lines.Line2D at 0x199250dc588>,\n",
       " <matplotlib.lines.Line2D at 0x199250dc6d8>,\n",
       " <matplotlib.lines.Line2D at 0x199250dc828>,\n",
       " <matplotlib.lines.Line2D at 0x199250dc978>,\n",
       " <matplotlib.lines.Line2D at 0x199250dcac8>,\n",
       " <matplotlib.lines.Line2D at 0x199250dcc18>,\n",
       " <matplotlib.lines.Line2D at 0x199250dcd68>,\n",
       " <matplotlib.lines.Line2D at 0x199250dceb8>,\n",
       " <matplotlib.lines.Line2D at 0x199250e2048>,\n",
       " <matplotlib.lines.Line2D at 0x199250e2198>,\n",
       " <matplotlib.lines.Line2D at 0x199250e22e8>,\n",
       " <matplotlib.lines.Line2D at 0x199250e2438>,\n",
       " <matplotlib.lines.Line2D at 0x199250e2588>,\n",
       " <matplotlib.lines.Line2D at 0x199250e26d8>,\n",
       " <matplotlib.lines.Line2D at 0x199250e2828>,\n",
       " <matplotlib.lines.Line2D at 0x199250e2978>,\n",
       " <matplotlib.lines.Line2D at 0x199250e2ac8>,\n",
       " <matplotlib.lines.Line2D at 0x199250e2c18>,\n",
       " <matplotlib.lines.Line2D at 0x199250e2d68>,\n",
       " <matplotlib.lines.Line2D at 0x199250e2eb8>,\n",
       " <matplotlib.lines.Line2D at 0x199250e6048>,\n",
       " <matplotlib.lines.Line2D at 0x199250e6198>,\n",
       " <matplotlib.lines.Line2D at 0x199250e62e8>,\n",
       " <matplotlib.lines.Line2D at 0x199250e6438>,\n",
       " <matplotlib.lines.Line2D at 0x199250e6588>,\n",
       " <matplotlib.lines.Line2D at 0x199250e66d8>,\n",
       " <matplotlib.lines.Line2D at 0x199250e6828>,\n",
       " <matplotlib.lines.Line2D at 0x199250e6978>,\n",
       " <matplotlib.lines.Line2D at 0x199250e6ac8>,\n",
       " <matplotlib.lines.Line2D at 0x199250e6c18>,\n",
       " <matplotlib.lines.Line2D at 0x199250e6d68>,\n",
       " <matplotlib.lines.Line2D at 0x199250e6eb8>,\n",
       " <matplotlib.lines.Line2D at 0x199250eb048>,\n",
       " <matplotlib.lines.Line2D at 0x199250eb198>,\n",
       " <matplotlib.lines.Line2D at 0x199250eb2e8>,\n",
       " <matplotlib.lines.Line2D at 0x199250eb438>,\n",
       " <matplotlib.lines.Line2D at 0x199250eb588>,\n",
       " <matplotlib.lines.Line2D at 0x199250eb6d8>,\n",
       " <matplotlib.lines.Line2D at 0x199250eb828>,\n",
       " <matplotlib.lines.Line2D at 0x199250eb978>,\n",
       " <matplotlib.lines.Line2D at 0x199250ebac8>,\n",
       " <matplotlib.lines.Line2D at 0x199250ebc18>,\n",
       " <matplotlib.lines.Line2D at 0x199250ebd68>,\n",
       " <matplotlib.lines.Line2D at 0x199250ebeb8>,\n",
       " <matplotlib.lines.Line2D at 0x199250f1048>,\n",
       " <matplotlib.lines.Line2D at 0x199250f1198>,\n",
       " <matplotlib.lines.Line2D at 0x199250f12e8>,\n",
       " <matplotlib.lines.Line2D at 0x199250f1438>,\n",
       " <matplotlib.lines.Line2D at 0x199250f1588>,\n",
       " <matplotlib.lines.Line2D at 0x199250f16d8>,\n",
       " <matplotlib.lines.Line2D at 0x199250f1828>,\n",
       " <matplotlib.lines.Line2D at 0x199250f1978>,\n",
       " <matplotlib.lines.Line2D at 0x199250f1ac8>,\n",
       " <matplotlib.lines.Line2D at 0x199250f1c18>,\n",
       " <matplotlib.lines.Line2D at 0x199250f1d68>,\n",
       " <matplotlib.lines.Line2D at 0x199250f1eb8>,\n",
       " <matplotlib.lines.Line2D at 0x199250f7048>,\n",
       " <matplotlib.lines.Line2D at 0x199250f7198>,\n",
       " <matplotlib.lines.Line2D at 0x199250f72e8>,\n",
       " <matplotlib.lines.Line2D at 0x199250f7438>,\n",
       " <matplotlib.lines.Line2D at 0x199250f7588>,\n",
       " <matplotlib.lines.Line2D at 0x199250f76d8>,\n",
       " <matplotlib.lines.Line2D at 0x199250f7828>,\n",
       " <matplotlib.lines.Line2D at 0x199250f7978>,\n",
       " <matplotlib.lines.Line2D at 0x199250f7ac8>,\n",
       " <matplotlib.lines.Line2D at 0x199250f7c18>,\n",
       " <matplotlib.lines.Line2D at 0x199250f7d68>,\n",
       " <matplotlib.lines.Line2D at 0x199250f7eb8>,\n",
       " <matplotlib.lines.Line2D at 0x199250fb048>,\n",
       " <matplotlib.lines.Line2D at 0x199250fb198>,\n",
       " <matplotlib.lines.Line2D at 0x199250fb2e8>,\n",
       " <matplotlib.lines.Line2D at 0x199250fb438>,\n",
       " <matplotlib.lines.Line2D at 0x199250fb588>,\n",
       " <matplotlib.lines.Line2D at 0x199250fb6d8>,\n",
       " <matplotlib.lines.Line2D at 0x199250fb828>,\n",
       " <matplotlib.lines.Line2D at 0x199250fb978>,\n",
       " <matplotlib.lines.Line2D at 0x199250fbac8>,\n",
       " <matplotlib.lines.Line2D at 0x199250fbc18>,\n",
       " <matplotlib.lines.Line2D at 0x199250fbd68>,\n",
       " <matplotlib.lines.Line2D at 0x199250fbeb8>,\n",
       " <matplotlib.lines.Line2D at 0x199250ff048>,\n",
       " <matplotlib.lines.Line2D at 0x199250ff198>,\n",
       " <matplotlib.lines.Line2D at 0x199250ff2e8>,\n",
       " <matplotlib.lines.Line2D at 0x199250ff438>,\n",
       " <matplotlib.lines.Line2D at 0x199250ff588>,\n",
       " <matplotlib.lines.Line2D at 0x199250ff6d8>,\n",
       " <matplotlib.lines.Line2D at 0x199250ff828>,\n",
       " <matplotlib.lines.Line2D at 0x199250ff978>,\n",
       " <matplotlib.lines.Line2D at 0x199250ffac8>,\n",
       " <matplotlib.lines.Line2D at 0x199250ffc18>,\n",
       " <matplotlib.lines.Line2D at 0x199250ffd68>,\n",
       " <matplotlib.lines.Line2D at 0x199250ffeb8>,\n",
       " <matplotlib.lines.Line2D at 0x19925106048>,\n",
       " <matplotlib.lines.Line2D at 0x19925106198>,\n",
       " <matplotlib.lines.Line2D at 0x199251062e8>,\n",
       " <matplotlib.lines.Line2D at 0x19925106438>,\n",
       " <matplotlib.lines.Line2D at 0x19925106588>,\n",
       " <matplotlib.lines.Line2D at 0x199251066d8>,\n",
       " <matplotlib.lines.Line2D at 0x19925106828>,\n",
       " <matplotlib.lines.Line2D at 0x19925106978>,\n",
       " <matplotlib.lines.Line2D at 0x19925106ac8>,\n",
       " <matplotlib.lines.Line2D at 0x19925106c18>,\n",
       " <matplotlib.lines.Line2D at 0x19925106d68>,\n",
       " <matplotlib.lines.Line2D at 0x19925106eb8>,\n",
       " <matplotlib.lines.Line2D at 0x1992510a048>,\n",
       " <matplotlib.lines.Line2D at 0x1992510a198>,\n",
       " <matplotlib.lines.Line2D at 0x1992510a2e8>,\n",
       " <matplotlib.lines.Line2D at 0x1992510a438>,\n",
       " <matplotlib.lines.Line2D at 0x1992510a588>,\n",
       " <matplotlib.lines.Line2D at 0x1992510a6d8>,\n",
       " <matplotlib.lines.Line2D at 0x1992510a828>,\n",
       " <matplotlib.lines.Line2D at 0x1992510a978>,\n",
       " <matplotlib.lines.Line2D at 0x1992510aac8>,\n",
       " <matplotlib.lines.Line2D at 0x1992510ac18>,\n",
       " <matplotlib.lines.Line2D at 0x1992510ad68>,\n",
       " <matplotlib.lines.Line2D at 0x1992510aeb8>,\n",
       " <matplotlib.lines.Line2D at 0x1992510f048>,\n",
       " <matplotlib.lines.Line2D at 0x1992510f198>,\n",
       " <matplotlib.lines.Line2D at 0x1992510f2e8>,\n",
       " <matplotlib.lines.Line2D at 0x1992510f438>,\n",
       " <matplotlib.lines.Line2D at 0x1992510f588>,\n",
       " <matplotlib.lines.Line2D at 0x1992510f6d8>,\n",
       " <matplotlib.lines.Line2D at 0x1992510f828>,\n",
       " <matplotlib.lines.Line2D at 0x1992510f978>,\n",
       " <matplotlib.lines.Line2D at 0x1992510fac8>,\n",
       " <matplotlib.lines.Line2D at 0x1992510fc18>,\n",
       " <matplotlib.lines.Line2D at 0x1992510fd68>,\n",
       " <matplotlib.lines.Line2D at 0x1992510feb8>,\n",
       " <matplotlib.lines.Line2D at 0x19925114048>,\n",
       " <matplotlib.lines.Line2D at 0x19925114198>,\n",
       " <matplotlib.lines.Line2D at 0x199251142e8>,\n",
       " <matplotlib.lines.Line2D at 0x19925114438>,\n",
       " <matplotlib.lines.Line2D at 0x19925114588>,\n",
       " <matplotlib.lines.Line2D at 0x199251146d8>,\n",
       " <matplotlib.lines.Line2D at 0x19925114828>,\n",
       " <matplotlib.lines.Line2D at 0x19925114978>,\n",
       " <matplotlib.lines.Line2D at 0x19925114ac8>,\n",
       " <matplotlib.lines.Line2D at 0x19925114c18>,\n",
       " <matplotlib.lines.Line2D at 0x19925114d68>,\n",
       " <matplotlib.lines.Line2D at 0x19925114eb8>,\n",
       " <matplotlib.lines.Line2D at 0x1992511a048>,\n",
       " <matplotlib.lines.Line2D at 0x1992511a198>,\n",
       " <matplotlib.lines.Line2D at 0x1992511a2e8>,\n",
       " <matplotlib.lines.Line2D at 0x1992511a438>,\n",
       " <matplotlib.lines.Line2D at 0x1992511a588>,\n",
       " <matplotlib.lines.Line2D at 0x1992511a6d8>,\n",
       " <matplotlib.lines.Line2D at 0x1992511a828>,\n",
       " <matplotlib.lines.Line2D at 0x1992511a978>,\n",
       " <matplotlib.lines.Line2D at 0x1992511aac8>,\n",
       " <matplotlib.lines.Line2D at 0x1992511ac18>,\n",
       " <matplotlib.lines.Line2D at 0x1992511ad68>,\n",
       " <matplotlib.lines.Line2D at 0x1992511aeb8>,\n",
       " <matplotlib.lines.Line2D at 0x1992511e048>,\n",
       " <matplotlib.lines.Line2D at 0x1992511e198>,\n",
       " <matplotlib.lines.Line2D at 0x1992511e2e8>,\n",
       " <matplotlib.lines.Line2D at 0x1992511e438>,\n",
       " <matplotlib.lines.Line2D at 0x1992511e588>,\n",
       " <matplotlib.lines.Line2D at 0x1992511e6d8>,\n",
       " <matplotlib.lines.Line2D at 0x1992511e828>,\n",
       " <matplotlib.lines.Line2D at 0x1992511e978>,\n",
       " <matplotlib.lines.Line2D at 0x1992511eac8>,\n",
       " <matplotlib.lines.Line2D at 0x1992511ec18>,\n",
       " <matplotlib.lines.Line2D at 0x1992511ed68>,\n",
       " <matplotlib.lines.Line2D at 0x1992511eeb8>,\n",
       " <matplotlib.lines.Line2D at 0x19925124048>,\n",
       " <matplotlib.lines.Line2D at 0x19925124198>,\n",
       " <matplotlib.lines.Line2D at 0x199251242e8>,\n",
       " <matplotlib.lines.Line2D at 0x19925124438>,\n",
       " <matplotlib.lines.Line2D at 0x19925124588>,\n",
       " <matplotlib.lines.Line2D at 0x199251246d8>,\n",
       " <matplotlib.lines.Line2D at 0x19925124828>,\n",
       " <matplotlib.lines.Line2D at 0x19925124978>,\n",
       " <matplotlib.lines.Line2D at 0x19925124ac8>,\n",
       " <matplotlib.lines.Line2D at 0x19925124c18>,\n",
       " <matplotlib.lines.Line2D at 0x19925124d68>,\n",
       " <matplotlib.lines.Line2D at 0x19925124eb8>,\n",
       " <matplotlib.lines.Line2D at 0x19925129048>,\n",
       " <matplotlib.lines.Line2D at 0x19925129198>,\n",
       " <matplotlib.lines.Line2D at 0x199251292e8>,\n",
       " <matplotlib.lines.Line2D at 0x19925129438>,\n",
       " <matplotlib.lines.Line2D at 0x19925129588>,\n",
       " <matplotlib.lines.Line2D at 0x199251296d8>,\n",
       " <matplotlib.lines.Line2D at 0x19925129828>,\n",
       " <matplotlib.lines.Line2D at 0x19925129978>,\n",
       " <matplotlib.lines.Line2D at 0x19925129ac8>,\n",
       " <matplotlib.lines.Line2D at 0x19925129c18>,\n",
       " <matplotlib.lines.Line2D at 0x19925129d68>,\n",
       " <matplotlib.lines.Line2D at 0x19925129eb8>,\n",
       " <matplotlib.lines.Line2D at 0x1992512f048>,\n",
       " <matplotlib.lines.Line2D at 0x1992512f198>,\n",
       " <matplotlib.lines.Line2D at 0x1992512f2e8>,\n",
       " <matplotlib.lines.Line2D at 0x1992512f438>,\n",
       " <matplotlib.lines.Line2D at 0x1992512f588>,\n",
       " <matplotlib.lines.Line2D at 0x1992512f6d8>,\n",
       " <matplotlib.lines.Line2D at 0x1992512f828>,\n",
       " <matplotlib.lines.Line2D at 0x1992512f978>,\n",
       " <matplotlib.lines.Line2D at 0x1992512fac8>,\n",
       " <matplotlib.lines.Line2D at 0x1992512fc18>,\n",
       " <matplotlib.lines.Line2D at 0x1992512fd68>,\n",
       " <matplotlib.lines.Line2D at 0x1992512feb8>,\n",
       " <matplotlib.lines.Line2D at 0x19925133048>,\n",
       " <matplotlib.lines.Line2D at 0x19925133198>,\n",
       " <matplotlib.lines.Line2D at 0x199251332e8>,\n",
       " <matplotlib.lines.Line2D at 0x19925133438>,\n",
       " <matplotlib.lines.Line2D at 0x19925133588>,\n",
       " <matplotlib.lines.Line2D at 0x199251336d8>,\n",
       " <matplotlib.lines.Line2D at 0x19925133828>,\n",
       " <matplotlib.lines.Line2D at 0x19925133978>,\n",
       " <matplotlib.lines.Line2D at 0x19925133ac8>,\n",
       " <matplotlib.lines.Line2D at 0x19925133c18>,\n",
       " <matplotlib.lines.Line2D at 0x19925133d68>,\n",
       " <matplotlib.lines.Line2D at 0x19925133eb8>,\n",
       " <matplotlib.lines.Line2D at 0x19925139048>,\n",
       " <matplotlib.lines.Line2D at 0x19925139198>,\n",
       " <matplotlib.lines.Line2D at 0x199251392e8>,\n",
       " <matplotlib.lines.Line2D at 0x19925139438>,\n",
       " <matplotlib.lines.Line2D at 0x19925139588>,\n",
       " <matplotlib.lines.Line2D at 0x199251396d8>,\n",
       " <matplotlib.lines.Line2D at 0x19925139828>,\n",
       " <matplotlib.lines.Line2D at 0x19925139978>,\n",
       " <matplotlib.lines.Line2D at 0x19925139ac8>,\n",
       " <matplotlib.lines.Line2D at 0x19925139c18>,\n",
       " <matplotlib.lines.Line2D at 0x19925139d68>,\n",
       " <matplotlib.lines.Line2D at 0x19925139eb8>,\n",
       " <matplotlib.lines.Line2D at 0x1992513d048>,\n",
       " <matplotlib.lines.Line2D at 0x1992513d198>,\n",
       " <matplotlib.lines.Line2D at 0x1992513d2e8>,\n",
       " <matplotlib.lines.Line2D at 0x1992513d438>,\n",
       " <matplotlib.lines.Line2D at 0x1992513d588>,\n",
       " <matplotlib.lines.Line2D at 0x1992513d6d8>,\n",
       " <matplotlib.lines.Line2D at 0x1992513d828>,\n",
       " <matplotlib.lines.Line2D at 0x1992513d978>,\n",
       " <matplotlib.lines.Line2D at 0x1992513dac8>,\n",
       " <matplotlib.lines.Line2D at 0x1992513dc18>,\n",
       " <matplotlib.lines.Line2D at 0x1992513dd68>,\n",
       " <matplotlib.lines.Line2D at 0x1992513deb8>,\n",
       " <matplotlib.lines.Line2D at 0x19925143048>,\n",
       " <matplotlib.lines.Line2D at 0x19925143198>,\n",
       " <matplotlib.lines.Line2D at 0x199251432e8>,\n",
       " <matplotlib.lines.Line2D at 0x19925143438>,\n",
       " <matplotlib.lines.Line2D at 0x19925143588>,\n",
       " <matplotlib.lines.Line2D at 0x199251436d8>,\n",
       " <matplotlib.lines.Line2D at 0x19925143828>,\n",
       " <matplotlib.lines.Line2D at 0x19925143978>,\n",
       " <matplotlib.lines.Line2D at 0x19925143ac8>,\n",
       " <matplotlib.lines.Line2D at 0x19925143c18>,\n",
       " <matplotlib.lines.Line2D at 0x19925143d68>,\n",
       " <matplotlib.lines.Line2D at 0x19925143eb8>,\n",
       " <matplotlib.lines.Line2D at 0x19925147048>,\n",
       " <matplotlib.lines.Line2D at 0x19925147198>,\n",
       " <matplotlib.lines.Line2D at 0x199251472e8>,\n",
       " <matplotlib.lines.Line2D at 0x19925147438>,\n",
       " <matplotlib.lines.Line2D at 0x19925147588>,\n",
       " <matplotlib.lines.Line2D at 0x199251476d8>,\n",
       " <matplotlib.lines.Line2D at 0x19925147828>,\n",
       " <matplotlib.lines.Line2D at 0x19925147978>,\n",
       " <matplotlib.lines.Line2D at 0x19925147ac8>,\n",
       " <matplotlib.lines.Line2D at 0x19925147c18>,\n",
       " <matplotlib.lines.Line2D at 0x19925147d68>,\n",
       " <matplotlib.lines.Line2D at 0x19925147eb8>,\n",
       " <matplotlib.lines.Line2D at 0x1992514f048>,\n",
       " <matplotlib.lines.Line2D at 0x1992514f198>,\n",
       " <matplotlib.lines.Line2D at 0x1992514f2e8>,\n",
       " <matplotlib.lines.Line2D at 0x1992514f438>,\n",
       " <matplotlib.lines.Line2D at 0x1992514f588>,\n",
       " <matplotlib.lines.Line2D at 0x1992514f6d8>,\n",
       " <matplotlib.lines.Line2D at 0x1992514f828>,\n",
       " <matplotlib.lines.Line2D at 0x1992514f978>,\n",
       " <matplotlib.lines.Line2D at 0x1992514fac8>,\n",
       " <matplotlib.lines.Line2D at 0x1992514fc18>,\n",
       " <matplotlib.lines.Line2D at 0x1992514fd68>,\n",
       " <matplotlib.lines.Line2D at 0x1992514feb8>,\n",
       " <matplotlib.lines.Line2D at 0x19925152048>,\n",
       " <matplotlib.lines.Line2D at 0x19925152198>,\n",
       " <matplotlib.lines.Line2D at 0x199251522e8>,\n",
       " <matplotlib.lines.Line2D at 0x19925152438>,\n",
       " <matplotlib.lines.Line2D at 0x19925152588>,\n",
       " <matplotlib.lines.Line2D at 0x199251526d8>,\n",
       " <matplotlib.lines.Line2D at 0x19925152828>,\n",
       " <matplotlib.lines.Line2D at 0x19925152978>,\n",
       " <matplotlib.lines.Line2D at 0x19925152ac8>,\n",
       " <matplotlib.lines.Line2D at 0x19925152c18>,\n",
       " <matplotlib.lines.Line2D at 0x19925152d68>,\n",
       " <matplotlib.lines.Line2D at 0x19925152eb8>,\n",
       " <matplotlib.lines.Line2D at 0x19925158048>,\n",
       " <matplotlib.lines.Line2D at 0x19925158198>,\n",
       " <matplotlib.lines.Line2D at 0x199251582e8>,\n",
       " <matplotlib.lines.Line2D at 0x19925158438>,\n",
       " <matplotlib.lines.Line2D at 0x19925158588>,\n",
       " <matplotlib.lines.Line2D at 0x199251586d8>,\n",
       " <matplotlib.lines.Line2D at 0x19925158828>,\n",
       " <matplotlib.lines.Line2D at 0x19925158978>,\n",
       " <matplotlib.lines.Line2D at 0x19925158ac8>,\n",
       " <matplotlib.lines.Line2D at 0x19925158c18>,\n",
       " <matplotlib.lines.Line2D at 0x19925158d68>,\n",
       " <matplotlib.lines.Line2D at 0x19925158eb8>,\n",
       " <matplotlib.lines.Line2D at 0x1992515d048>,\n",
       " <matplotlib.lines.Line2D at 0x1992515d198>,\n",
       " <matplotlib.lines.Line2D at 0x1992515d2e8>,\n",
       " <matplotlib.lines.Line2D at 0x1992515d438>,\n",
       " <matplotlib.lines.Line2D at 0x1992515d588>,\n",
       " <matplotlib.lines.Line2D at 0x1992515d6d8>,\n",
       " <matplotlib.lines.Line2D at 0x1992515d828>,\n",
       " <matplotlib.lines.Line2D at 0x1992515d978>,\n",
       " <matplotlib.lines.Line2D at 0x1992515dac8>,\n",
       " <matplotlib.lines.Line2D at 0x1992515dc18>,\n",
       " <matplotlib.lines.Line2D at 0x1992515dd68>,\n",
       " <matplotlib.lines.Line2D at 0x1992515deb8>,\n",
       " <matplotlib.lines.Line2D at 0x19925163048>,\n",
       " <matplotlib.lines.Line2D at 0x19925163198>,\n",
       " <matplotlib.lines.Line2D at 0x199251632e8>,\n",
       " <matplotlib.lines.Line2D at 0x19925163438>,\n",
       " <matplotlib.lines.Line2D at 0x19925163588>,\n",
       " <matplotlib.lines.Line2D at 0x199251636d8>,\n",
       " <matplotlib.lines.Line2D at 0x19925163828>,\n",
       " <matplotlib.lines.Line2D at 0x19925163978>,\n",
       " <matplotlib.lines.Line2D at 0x19925163ac8>,\n",
       " <matplotlib.lines.Line2D at 0x19925163c18>,\n",
       " <matplotlib.lines.Line2D at 0x19925163d68>,\n",
       " <matplotlib.lines.Line2D at 0x19925163eb8>,\n",
       " <matplotlib.lines.Line2D at 0x19925166048>,\n",
       " <matplotlib.lines.Line2D at 0x19925166198>,\n",
       " <matplotlib.lines.Line2D at 0x199251662e8>,\n",
       " <matplotlib.lines.Line2D at 0x19925166438>,\n",
       " <matplotlib.lines.Line2D at 0x19925166588>,\n",
       " <matplotlib.lines.Line2D at 0x199251666d8>,\n",
       " <matplotlib.lines.Line2D at 0x19925166828>,\n",
       " <matplotlib.lines.Line2D at 0x19925166978>,\n",
       " <matplotlib.lines.Line2D at 0x19925166ac8>,\n",
       " <matplotlib.lines.Line2D at 0x19925166c18>,\n",
       " <matplotlib.lines.Line2D at 0x19925166d68>,\n",
       " <matplotlib.lines.Line2D at 0x19925166eb8>,\n",
       " <matplotlib.lines.Line2D at 0x1992516c048>,\n",
       " <matplotlib.lines.Line2D at 0x1992516c198>,\n",
       " <matplotlib.lines.Line2D at 0x1992516c2e8>,\n",
       " <matplotlib.lines.Line2D at 0x1992516c438>,\n",
       " <matplotlib.lines.Line2D at 0x1992516c588>,\n",
       " <matplotlib.lines.Line2D at 0x1992516c6d8>,\n",
       " <matplotlib.lines.Line2D at 0x1992516c828>,\n",
       " <matplotlib.lines.Line2D at 0x1992516c978>,\n",
       " <matplotlib.lines.Line2D at 0x1992516cac8>,\n",
       " <matplotlib.lines.Line2D at 0x1992516cc18>,\n",
       " <matplotlib.lines.Line2D at 0x1992516cd68>,\n",
       " <matplotlib.lines.Line2D at 0x1992516ceb8>,\n",
       " <matplotlib.lines.Line2D at 0x19925171048>,\n",
       " <matplotlib.lines.Line2D at 0x19925171198>,\n",
       " <matplotlib.lines.Line2D at 0x199251712e8>,\n",
       " <matplotlib.lines.Line2D at 0x19925171438>,\n",
       " <matplotlib.lines.Line2D at 0x19925171588>,\n",
       " <matplotlib.lines.Line2D at 0x199251716d8>,\n",
       " <matplotlib.lines.Line2D at 0x19925171828>,\n",
       " <matplotlib.lines.Line2D at 0x19925171978>,\n",
       " <matplotlib.lines.Line2D at 0x19925171ac8>,\n",
       " <matplotlib.lines.Line2D at 0x19925171c18>,\n",
       " <matplotlib.lines.Line2D at 0x19925171d68>,\n",
       " <matplotlib.lines.Line2D at 0x19925171eb8>,\n",
       " <matplotlib.lines.Line2D at 0x19925178048>,\n",
       " <matplotlib.lines.Line2D at 0x19925178198>,\n",
       " <matplotlib.lines.Line2D at 0x199251782e8>,\n",
       " <matplotlib.lines.Line2D at 0x19925178438>,\n",
       " <matplotlib.lines.Line2D at 0x19925178588>,\n",
       " <matplotlib.lines.Line2D at 0x199251786d8>,\n",
       " <matplotlib.lines.Line2D at 0x19925178828>,\n",
       " <matplotlib.lines.Line2D at 0x19925178978>,\n",
       " <matplotlib.lines.Line2D at 0x19925178ac8>,\n",
       " <matplotlib.lines.Line2D at 0x19925178c18>,\n",
       " <matplotlib.lines.Line2D at 0x19925178d68>,\n",
       " <matplotlib.lines.Line2D at 0x19925178eb8>,\n",
       " <matplotlib.lines.Line2D at 0x1992517b048>,\n",
       " <matplotlib.lines.Line2D at 0x1992517b198>,\n",
       " <matplotlib.lines.Line2D at 0x1992517b2e8>,\n",
       " <matplotlib.lines.Line2D at 0x1992517b438>,\n",
       " <matplotlib.lines.Line2D at 0x1992517b588>,\n",
       " <matplotlib.lines.Line2D at 0x1992517b6d8>,\n",
       " <matplotlib.lines.Line2D at 0x1992517b828>,\n",
       " <matplotlib.lines.Line2D at 0x1992517b978>,\n",
       " <matplotlib.lines.Line2D at 0x1992517bac8>,\n",
       " <matplotlib.lines.Line2D at 0x1992517bc18>,\n",
       " <matplotlib.lines.Line2D at 0x1992517bd68>,\n",
       " <matplotlib.lines.Line2D at 0x1992517beb8>,\n",
       " <matplotlib.lines.Line2D at 0x19925181048>,\n",
       " <matplotlib.lines.Line2D at 0x19925181198>,\n",
       " <matplotlib.lines.Line2D at 0x199251812e8>,\n",
       " <matplotlib.lines.Line2D at 0x19925181438>,\n",
       " <matplotlib.lines.Line2D at 0x19925181588>,\n",
       " <matplotlib.lines.Line2D at 0x199251816d8>,\n",
       " <matplotlib.lines.Line2D at 0x19925181828>,\n",
       " <matplotlib.lines.Line2D at 0x19925181978>,\n",
       " <matplotlib.lines.Line2D at 0x19925181ac8>,\n",
       " <matplotlib.lines.Line2D at 0x19925181c18>,\n",
       " <matplotlib.lines.Line2D at 0x19925181d68>,\n",
       " <matplotlib.lines.Line2D at 0x19925181eb8>,\n",
       " <matplotlib.lines.Line2D at 0x19925186048>,\n",
       " <matplotlib.lines.Line2D at 0x19925186198>,\n",
       " <matplotlib.lines.Line2D at 0x199251862e8>,\n",
       " <matplotlib.lines.Line2D at 0x19925186438>,\n",
       " <matplotlib.lines.Line2D at 0x19925186588>,\n",
       " <matplotlib.lines.Line2D at 0x199251866d8>,\n",
       " <matplotlib.lines.Line2D at 0x19925186828>,\n",
       " <matplotlib.lines.Line2D at 0x19925186978>,\n",
       " <matplotlib.lines.Line2D at 0x19925186ac8>,\n",
       " <matplotlib.lines.Line2D at 0x19925186c18>,\n",
       " <matplotlib.lines.Line2D at 0x19925186d68>,\n",
       " <matplotlib.lines.Line2D at 0x19925186eb8>,\n",
       " <matplotlib.lines.Line2D at 0x1992518b048>,\n",
       " <matplotlib.lines.Line2D at 0x1992518b198>,\n",
       " <matplotlib.lines.Line2D at 0x1992518b2e8>,\n",
       " <matplotlib.lines.Line2D at 0x1992518b438>,\n",
       " <matplotlib.lines.Line2D at 0x1992518b588>,\n",
       " <matplotlib.lines.Line2D at 0x1992518b6d8>,\n",
       " <matplotlib.lines.Line2D at 0x1992518b828>,\n",
       " <matplotlib.lines.Line2D at 0x1992518b978>,\n",
       " <matplotlib.lines.Line2D at 0x1992518bac8>,\n",
       " <matplotlib.lines.Line2D at 0x1992518bc18>,\n",
       " <matplotlib.lines.Line2D at 0x1992518bd68>,\n",
       " <matplotlib.lines.Line2D at 0x1992518beb8>,\n",
       " <matplotlib.lines.Line2D at 0x1992518f048>,\n",
       " <matplotlib.lines.Line2D at 0x1992518f198>,\n",
       " <matplotlib.lines.Line2D at 0x1992518f2e8>,\n",
       " <matplotlib.lines.Line2D at 0x1992518f438>,\n",
       " <matplotlib.lines.Line2D at 0x1992518f588>,\n",
       " <matplotlib.lines.Line2D at 0x1992518f6d8>,\n",
       " <matplotlib.lines.Line2D at 0x1992518f828>,\n",
       " <matplotlib.lines.Line2D at 0x1992518f978>,\n",
       " <matplotlib.lines.Line2D at 0x1992518fac8>,\n",
       " <matplotlib.lines.Line2D at 0x1992518fc18>,\n",
       " <matplotlib.lines.Line2D at 0x1992518fd68>,\n",
       " <matplotlib.lines.Line2D at 0x1992518feb8>,\n",
       " <matplotlib.lines.Line2D at 0x19925195048>,\n",
       " <matplotlib.lines.Line2D at 0x19925195198>,\n",
       " <matplotlib.lines.Line2D at 0x199251952e8>,\n",
       " <matplotlib.lines.Line2D at 0x19925195438>,\n",
       " <matplotlib.lines.Line2D at 0x19925195588>,\n",
       " <matplotlib.lines.Line2D at 0x199251956d8>,\n",
       " <matplotlib.lines.Line2D at 0x19925195828>,\n",
       " <matplotlib.lines.Line2D at 0x19925195978>,\n",
       " <matplotlib.lines.Line2D at 0x19925195ac8>,\n",
       " <matplotlib.lines.Line2D at 0x19925195c18>,\n",
       " <matplotlib.lines.Line2D at 0x19925195d68>,\n",
       " <matplotlib.lines.Line2D at 0x19925195eb8>,\n",
       " <matplotlib.lines.Line2D at 0x1992519a048>,\n",
       " <matplotlib.lines.Line2D at 0x1992519a198>,\n",
       " <matplotlib.lines.Line2D at 0x1992519a2e8>,\n",
       " <matplotlib.lines.Line2D at 0x1992519a438>,\n",
       " <matplotlib.lines.Line2D at 0x1992519a588>,\n",
       " <matplotlib.lines.Line2D at 0x1992519a6d8>,\n",
       " <matplotlib.lines.Line2D at 0x1992519a828>,\n",
       " <matplotlib.lines.Line2D at 0x1992519a978>,\n",
       " <matplotlib.lines.Line2D at 0x1992519aac8>,\n",
       " <matplotlib.lines.Line2D at 0x1992519ac18>,\n",
       " <matplotlib.lines.Line2D at 0x1992519ad68>,\n",
       " <matplotlib.lines.Line2D at 0x1992519aeb8>,\n",
       " <matplotlib.lines.Line2D at 0x1992519f048>,\n",
       " <matplotlib.lines.Line2D at 0x1992519f198>,\n",
       " <matplotlib.lines.Line2D at 0x1992519f2e8>,\n",
       " <matplotlib.lines.Line2D at 0x1992519f438>,\n",
       " <matplotlib.lines.Line2D at 0x1992519f588>,\n",
       " <matplotlib.lines.Line2D at 0x1992519f6d8>,\n",
       " <matplotlib.lines.Line2D at 0x1992519f828>,\n",
       " <matplotlib.lines.Line2D at 0x1992519f978>,\n",
       " <matplotlib.lines.Line2D at 0x1992519fac8>,\n",
       " <matplotlib.lines.Line2D at 0x1992519fc18>,\n",
       " <matplotlib.lines.Line2D at 0x1992519fd68>,\n",
       " <matplotlib.lines.Line2D at 0x1992519feb8>,\n",
       " <matplotlib.lines.Line2D at 0x199251a5048>,\n",
       " <matplotlib.lines.Line2D at 0x199251a5198>,\n",
       " <matplotlib.lines.Line2D at 0x199251a52e8>,\n",
       " <matplotlib.lines.Line2D at 0x199251a5438>,\n",
       " <matplotlib.lines.Line2D at 0x199251a5588>,\n",
       " <matplotlib.lines.Line2D at 0x199251a56d8>,\n",
       " <matplotlib.lines.Line2D at 0x199251a5828>,\n",
       " <matplotlib.lines.Line2D at 0x199251a5978>,\n",
       " <matplotlib.lines.Line2D at 0x199251a5ac8>,\n",
       " <matplotlib.lines.Line2D at 0x199251a5c18>,\n",
       " <matplotlib.lines.Line2D at 0x199251a5d68>,\n",
       " <matplotlib.lines.Line2D at 0x199251a5eb8>,\n",
       " <matplotlib.lines.Line2D at 0x199251aa048>,\n",
       " <matplotlib.lines.Line2D at 0x199251aa198>,\n",
       " <matplotlib.lines.Line2D at 0x199251aa2e8>,\n",
       " <matplotlib.lines.Line2D at 0x199251aa438>,\n",
       " <matplotlib.lines.Line2D at 0x199251aa588>,\n",
       " <matplotlib.lines.Line2D at 0x199251aa6d8>,\n",
       " <matplotlib.lines.Line2D at 0x199251aa828>,\n",
       " <matplotlib.lines.Line2D at 0x199251aa978>,\n",
       " <matplotlib.lines.Line2D at 0x199251aaac8>,\n",
       " <matplotlib.lines.Line2D at 0x199251aac18>,\n",
       " <matplotlib.lines.Line2D at 0x199251aad68>,\n",
       " <matplotlib.lines.Line2D at 0x199251aaeb8>,\n",
       " <matplotlib.lines.Line2D at 0x199251af048>,\n",
       " <matplotlib.lines.Line2D at 0x199251af198>,\n",
       " <matplotlib.lines.Line2D at 0x199251af2e8>,\n",
       " <matplotlib.lines.Line2D at 0x199251af438>,\n",
       " <matplotlib.lines.Line2D at 0x199251af588>,\n",
       " <matplotlib.lines.Line2D at 0x199251af6d8>,\n",
       " <matplotlib.lines.Line2D at 0x199251af828>,\n",
       " <matplotlib.lines.Line2D at 0x199251af978>,\n",
       " <matplotlib.lines.Line2D at 0x199251afac8>,\n",
       " <matplotlib.lines.Line2D at 0x199251afc18>,\n",
       " <matplotlib.lines.Line2D at 0x199251afd68>,\n",
       " <matplotlib.lines.Line2D at 0x199251afeb8>,\n",
       " <matplotlib.lines.Line2D at 0x199251b4048>,\n",
       " <matplotlib.lines.Line2D at 0x199251b4198>,\n",
       " <matplotlib.lines.Line2D at 0x199251b42e8>,\n",
       " <matplotlib.lines.Line2D at 0x199251b4438>,\n",
       " <matplotlib.lines.Line2D at 0x199251b4588>,\n",
       " <matplotlib.lines.Line2D at 0x199251b46d8>,\n",
       " <matplotlib.lines.Line2D at 0x199251b4828>,\n",
       " <matplotlib.lines.Line2D at 0x199251b4978>,\n",
       " <matplotlib.lines.Line2D at 0x199251b4ac8>,\n",
       " <matplotlib.lines.Line2D at 0x199251b4c18>,\n",
       " <matplotlib.lines.Line2D at 0x199251b4d68>,\n",
       " <matplotlib.lines.Line2D at 0x199251b4eb8>,\n",
       " <matplotlib.lines.Line2D at 0x199251ba048>,\n",
       " <matplotlib.lines.Line2D at 0x199251ba198>,\n",
       " <matplotlib.lines.Line2D at 0x199251ba2e8>,\n",
       " <matplotlib.lines.Line2D at 0x199251ba438>,\n",
       " <matplotlib.lines.Line2D at 0x199251ba588>,\n",
       " <matplotlib.lines.Line2D at 0x199251ba6d8>,\n",
       " <matplotlib.lines.Line2D at 0x199251ba828>,\n",
       " <matplotlib.lines.Line2D at 0x199251ba978>,\n",
       " <matplotlib.lines.Line2D at 0x199251baac8>,\n",
       " <matplotlib.lines.Line2D at 0x199251bac18>,\n",
       " <matplotlib.lines.Line2D at 0x199251bad68>,\n",
       " <matplotlib.lines.Line2D at 0x199251baeb8>,\n",
       " <matplotlib.lines.Line2D at 0x199251be048>,\n",
       " <matplotlib.lines.Line2D at 0x199251be198>,\n",
       " <matplotlib.lines.Line2D at 0x199251be2e8>,\n",
       " <matplotlib.lines.Line2D at 0x199251be438>,\n",
       " <matplotlib.lines.Line2D at 0x199251be588>,\n",
       " <matplotlib.lines.Line2D at 0x199251be6d8>,\n",
       " <matplotlib.lines.Line2D at 0x199251be828>,\n",
       " <matplotlib.lines.Line2D at 0x199251be978>,\n",
       " <matplotlib.lines.Line2D at 0x199251beac8>,\n",
       " <matplotlib.lines.Line2D at 0x199251bec18>,\n",
       " <matplotlib.lines.Line2D at 0x199251bed68>,\n",
       " <matplotlib.lines.Line2D at 0x199251beeb8>,\n",
       " <matplotlib.lines.Line2D at 0x199251c3048>,\n",
       " <matplotlib.lines.Line2D at 0x199251c3198>,\n",
       " <matplotlib.lines.Line2D at 0x199251c32e8>,\n",
       " <matplotlib.lines.Line2D at 0x199251c3438>,\n",
       " <matplotlib.lines.Line2D at 0x199251c3588>,\n",
       " <matplotlib.lines.Line2D at 0x199251c36d8>,\n",
       " <matplotlib.lines.Line2D at 0x199251c3828>,\n",
       " <matplotlib.lines.Line2D at 0x199251c3978>,\n",
       " <matplotlib.lines.Line2D at 0x199251c3ac8>,\n",
       " <matplotlib.lines.Line2D at 0x199251c3c18>,\n",
       " <matplotlib.lines.Line2D at 0x199251c3d68>,\n",
       " <matplotlib.lines.Line2D at 0x199251c3eb8>,\n",
       " <matplotlib.lines.Line2D at 0x199251c9048>,\n",
       " <matplotlib.lines.Line2D at 0x199251c9198>,\n",
       " <matplotlib.lines.Line2D at 0x199251c92e8>,\n",
       " <matplotlib.lines.Line2D at 0x199251c9438>,\n",
       " <matplotlib.lines.Line2D at 0x199251c9588>,\n",
       " <matplotlib.lines.Line2D at 0x199251c96d8>,\n",
       " <matplotlib.lines.Line2D at 0x199251c9828>,\n",
       " <matplotlib.lines.Line2D at 0x199251c9978>,\n",
       " <matplotlib.lines.Line2D at 0x199251c9ac8>,\n",
       " <matplotlib.lines.Line2D at 0x199251c9c18>,\n",
       " <matplotlib.lines.Line2D at 0x199251c9d68>,\n",
       " <matplotlib.lines.Line2D at 0x199251c9eb8>,\n",
       " <matplotlib.lines.Line2D at 0x199251cf048>,\n",
       " <matplotlib.lines.Line2D at 0x199251cf198>,\n",
       " <matplotlib.lines.Line2D at 0x199251cf2e8>,\n",
       " <matplotlib.lines.Line2D at 0x199251cf438>,\n",
       " <matplotlib.lines.Line2D at 0x199251cf588>,\n",
       " <matplotlib.lines.Line2D at 0x199251cf6d8>,\n",
       " <matplotlib.lines.Line2D at 0x199251cf828>,\n",
       " <matplotlib.lines.Line2D at 0x199251cf978>,\n",
       " <matplotlib.lines.Line2D at 0x199251cfac8>,\n",
       " <matplotlib.lines.Line2D at 0x199251cfc18>,\n",
       " <matplotlib.lines.Line2D at 0x199251cfd68>,\n",
       " <matplotlib.lines.Line2D at 0x199251cfeb8>,\n",
       " <matplotlib.lines.Line2D at 0x199251d3048>,\n",
       " <matplotlib.lines.Line2D at 0x199251d3198>,\n",
       " <matplotlib.lines.Line2D at 0x199251d32e8>,\n",
       " <matplotlib.lines.Line2D at 0x199251d3438>,\n",
       " <matplotlib.lines.Line2D at 0x199251d3588>,\n",
       " <matplotlib.lines.Line2D at 0x199251d36d8>,\n",
       " <matplotlib.lines.Line2D at 0x199251d3828>,\n",
       " <matplotlib.lines.Line2D at 0x199251d3978>,\n",
       " <matplotlib.lines.Line2D at 0x199251d3ac8>,\n",
       " <matplotlib.lines.Line2D at 0x199251d3c18>,\n",
       " <matplotlib.lines.Line2D at 0x199251d3d68>,\n",
       " <matplotlib.lines.Line2D at 0x199251d3eb8>,\n",
       " <matplotlib.lines.Line2D at 0x199251d8048>,\n",
       " <matplotlib.lines.Line2D at 0x199251d8198>,\n",
       " <matplotlib.lines.Line2D at 0x199251d82e8>,\n",
       " <matplotlib.lines.Line2D at 0x199251d8438>,\n",
       " <matplotlib.lines.Line2D at 0x199251d8588>,\n",
       " <matplotlib.lines.Line2D at 0x199251d86d8>,\n",
       " <matplotlib.lines.Line2D at 0x199251d8828>,\n",
       " <matplotlib.lines.Line2D at 0x199251d8978>,\n",
       " <matplotlib.lines.Line2D at 0x199251d8ac8>,\n",
       " <matplotlib.lines.Line2D at 0x199251d8c18>,\n",
       " <matplotlib.lines.Line2D at 0x199251d8d68>,\n",
       " <matplotlib.lines.Line2D at 0x199251d8eb8>,\n",
       " <matplotlib.lines.Line2D at 0x199251de048>,\n",
       " <matplotlib.lines.Line2D at 0x199251de198>,\n",
       " <matplotlib.lines.Line2D at 0x199251de2e8>,\n",
       " <matplotlib.lines.Line2D at 0x199251de438>,\n",
       " <matplotlib.lines.Line2D at 0x199251de588>,\n",
       " <matplotlib.lines.Line2D at 0x199251de6d8>,\n",
       " <matplotlib.lines.Line2D at 0x199251de828>,\n",
       " <matplotlib.lines.Line2D at 0x199251de978>,\n",
       " <matplotlib.lines.Line2D at 0x199251deac8>,\n",
       " <matplotlib.lines.Line2D at 0x199251dec18>]"
      ]
     },
     "execution_count": 105,
     "metadata": {},
     "output_type": "execute_result"
    },
    {
     "data": {
      "image/png": "[encoded data removed]",
      "text/plain": [
       "<Figure size 432x288 with 1 Axes>"
      ]
     },
     "metadata": {
      "needs_background": "light"
     },
     "output_type": "display_data"
    }
   ],
   "source": [
    "# 多个随机漫步\n",
    "draws = np.random.randint(0,2,size=(100,1000))\n",
    "steps = np.where(draws<1,1,-1)\n",
    "walks = np.cumsum(steps,1)\n",
    "plt.plot(walks)"
   ]
  },
  {
   "cell_type": "code",
   "execution_count": 107,
   "metadata": {},
   "outputs": [
    {
     "data": {
      "text/plain": [
       "array([ True,  True,  True, False,  True,  True,  True, False,  True,\n",
       "       False,  True, False,  True,  True,  True,  True,  True,  True,\n",
       "       False,  True,  True, False, False,  True, False, False, False,\n",
       "        True,  True,  True,  True, False,  True,  True,  True,  True,\n",
       "       False, False, False,  True,  True,  True,  True, False, False,\n",
       "        True,  True, False,  True,  True,  True,  True, False, False,\n",
       "        True,  True,  True, False, False,  True,  True, False, False,\n",
       "       False,  True, False, False,  True,  True,  True, False,  True,\n",
       "        True,  True,  True, False,  True,  True,  True, False,  True,\n",
       "       False,  True, False,  True, False,  True, False, False,  True,\n",
       "        True, False, False,  True, False,  True,  True, False, False,\n",
       "        True])"
      ]
     },
     "execution_count": 107,
     "metadata": {},
     "output_type": "execute_result"
    }
   ],
   "source": [
    "# 计算30或-30的最小穿越时间\n",
    "# 首先看是不是100个过程都到达了30\n",
    "hits30 = (np.abs(walks)>30).any(1)\n",
    "hits30"
   ]
  },
  {
   "cell_type": "code",
   "execution_count": 108,
   "metadata": {},
   "outputs": [
    {
     "data": {
      "text/plain": [
       "61"
      ]
     },
     "execution_count": 108,
     "metadata": {},
     "output_type": "execute_result"
    }
   ],
   "source": [
    "# 到达30或-30的数量\n",
    "# False == 0，True == 1\n",
    "hits30.sum()"
   ]
  },
  {
   "cell_type": "code",
   "execution_count": 111,
   "metadata": {},
   "outputs": [
    {
     "data": {
      "text/plain": [
       "array([821, 487, 169, 271, 303, 583, 525, 511, 539, 779, 799, 543, 201,\n",
       "       569, 395, 615, 267, 501, 339, 837, 657, 865, 869, 119, 373, 553,\n",
       "       907, 317, 745, 811, 441, 333, 395, 227, 861, 341, 213, 397, 173,\n",
       "       433, 255, 617, 167, 815, 993, 289, 895, 593, 525, 705, 263, 735,\n",
       "       555, 461, 421, 965, 725, 415, 695, 763, 309], dtype=int64)"
      ]
     },
     "execution_count": 111,
     "metadata": {},
     "output_type": "execute_result"
    }
   ],
   "source": [
    "crossing_time = (np.abs(walks[hits30]) >= 30).argmax(1)\n",
    "crossing_time"
   ]
  },
  {
   "cell_type": "code",
   "execution_count": null,
   "metadata": {},
   "outputs": [],
   "source": []
  }
 ],
 "metadata": {
  "kernelspec": {
   "display_name": "Python 3",
   "language": "python",
   "name": "python3"
  },
  "language_info": {
   "codemirror_mode": {
    "name": "ipython",
    "version": 3
   },
   "file_extension": ".py",
   "mimetype": "text/x-python",
   "name": "python",
   "nbconvert_exporter": "python",
   "pygments_lexer": "ipython3",
   "version": "3.7.0"
  }
 },
 "nbformat": 4,
 "nbformat_minor": 2
}
