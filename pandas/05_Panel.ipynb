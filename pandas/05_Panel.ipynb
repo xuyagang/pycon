{
 "cells": [
  {
   "cell_type": "code",
   "execution_count": 1,
   "metadata": {},
   "outputs": [],
   "source": [
    "import pandas as pd\n",
    "import numpy as np"
   ]
  },
  {
   "cell_type": "markdown",
   "metadata": {},
   "source": [
    "Pandas - pan(el)-da(ta)-s\n",
    "\n",
    "面板(Panel)是3D容器的数据\n",
    "\n",
    "3轴(axis)这个名称旨在给出描述涉及面板数据的操作的一些语义。它们是 \n",
    "- items - axis 0，每个项目对应于内部包含的数据帧(DataFrame)\n",
    "- major_axis - axis 1，它是每个数据帧(DataFrame)的索引(行)\n",
    "- minor_axis - axis 2，它是每个数据帧(DataFrame)的列"
   ]
  },
  {
   "cell_type": "markdown",
   "metadata": {},
   "source": [
    "### 创建面板 \n",
    "pandas.Panel(data, items, major_axis, minor_axis, dtype, copy)\n",
    "- data\t数据采取各种形式，如：ndarray，series，map，lists，dict，constant和另一个数据帧(DataFrame)\n",
    "- items\taxis=0\n",
    "- major_axis\taxis=1\n",
    "- minor_axis\taxis=2\n",
    "- dtype\t每列的数据类型"
   ]
  },
  {
   "cell_type": "markdown",
   "metadata": {},
   "source": [
    "#### 从3D ndarray创建"
   ]
  },
  {
   "cell_type": "code",
   "execution_count": 5,
   "metadata": {},
   "outputs": [
    {
     "name": "stdout",
     "output_type": "stream",
     "text": [
      "[[[0.18252648 0.65660018 0.21828736 0.08289793 0.69008165]\n",
      "  [0.38152691 0.37273923 0.1644577  0.46194451 0.69143726]\n",
      "  [0.79216801 0.3171716  0.2543276  0.20750491 0.75175804]\n",
      "  [0.11482468 0.70779947 0.6909232  0.38019337 0.79895831]]\n",
      "\n",
      " [[0.35243436 0.5082626  0.16515692 0.9538074  0.72333901]\n",
      "  [0.3883761  0.28348955 0.64051945 0.82883639 0.71307326]\n",
      "  [0.97637211 0.64972314 0.46054524 0.50102341 0.0211716 ]\n",
      "  [0.5223784  0.29306731 0.87704366 0.4917814  0.84689154]]]\n",
      "<class 'pandas.core.panel.Panel'>\n",
      "Dimensions: 2 (items) x 4 (major_axis) x 5 (minor_axis)\n",
      "Items axis: 0 to 1\n",
      "Major_axis axis: 0 to 3\n",
      "Minor_axis axis: 0 to 4\n"
     ]
    },
    {
     "name": "stderr",
     "output_type": "stream",
     "text": [
      "C:\\Users\\Dell\\Anaconda3\\lib\\site-packages\\IPython\\core\\interactiveshell.py:2961: FutureWarning: \n",
      "Panel is deprecated and will be removed in a future version.\n",
      "The recommended way to represent these types of 3-dimensional data are with a MultiIndex on a DataFrame, via the Panel.to_frame() method\n",
      "Alternatively, you can use the xarray package http://xarray.pydata.org/en/stable/.\n",
      "Pandas provides a `.to_xarray()` method to help automate this conversion.\n",
      "\n",
      "  exec(code_obj, self.user_global_ns, self.user_ns)\n"
     ]
    }
   ],
   "source": [
    "# rand(d0, d1, ..., dn)      Random values in a given shape.\n",
    "data = np.random.rand(2,4,5)\n",
    "print(data)\n",
    "p = pd.Panel(data)\n",
    "print(p)"
   ]
  },
  {
   "cell_type": "markdown",
   "metadata": {},
   "source": [
    "#### 从DataFrame对象的dict创建面板"
   ]
  },
  {
   "cell_type": "code",
   "execution_count": 9,
   "metadata": {},
   "outputs": [
    {
     "name": "stdout",
     "output_type": "stream",
     "text": [
      "<class 'pandas.core.panel.Panel'>\n",
      "Dimensions: 2 (items) x 4 (major_axis) x 3 (minor_axis)\n",
      "Items axis: item1 to item2\n",
      "Major_axis axis: 0 to 3\n",
      "Minor_axis axis: 0 to 2\n"
     ]
    },
    {
     "name": "stderr",
     "output_type": "stream",
     "text": [
      "C:\\Users\\Dell\\Anaconda3\\lib\\site-packages\\IPython\\core\\interactiveshell.py:2961: FutureWarning: \n",
      "Panel is deprecated and will be removed in a future version.\n",
      "The recommended way to represent these types of 3-dimensional data are with a MultiIndex on a DataFrame, via the Panel.to_frame() method\n",
      "Alternatively, you can use the xarray package http://xarray.pydata.org/en/stable/.\n",
      "Pandas provides a `.to_xarray()` method to help automate this conversion.\n",
      "\n",
      "  exec(code_obj, self.user_global_ns, self.user_ns)\n"
     ]
    }
   ],
   "source": [
    "data = {'item1':pd.DataFrame(np.random.randn(4,3)),\n",
    "       'item2':pd.DataFrame(np.random.randn(4,2))}\n",
    "p = pd.Panel(data)\n",
    "print(p)"
   ]
  },
  {
   "cell_type": "markdown",
   "metadata": {},
   "source": [
    "##### 创建一个空面板"
   ]
  },
  {
   "cell_type": "code",
   "execution_count": 10,
   "metadata": {},
   "outputs": [
    {
     "name": "stdout",
     "output_type": "stream",
     "text": [
      "<class 'pandas.core.panel.Panel'>\n",
      "Dimensions: 0 (items) x 0 (major_axis) x 0 (minor_axis)\n",
      "Items axis: None\n",
      "Major_axis axis: None\n",
      "Minor_axis axis: None\n"
     ]
    },
    {
     "name": "stderr",
     "output_type": "stream",
     "text": [
      "C:\\Users\\Dell\\Anaconda3\\lib\\site-packages\\IPython\\core\\interactiveshell.py:2961: FutureWarning: \n",
      "Panel is deprecated and will be removed in a future version.\n",
      "The recommended way to represent these types of 3-dimensional data are with a MultiIndex on a DataFrame, via the Panel.to_frame() method\n",
      "Alternatively, you can use the xarray package http://xarray.pydata.org/en/stable/.\n",
      "Pandas provides a `.to_xarray()` method to help automate this conversion.\n",
      "\n",
      "  exec(code_obj, self.user_global_ns, self.user_ns)\n"
     ]
    }
   ],
   "source": [
    "p = pd.Panel()\n",
    "print(p)"
   ]
  },
  {
   "cell_type": "markdown",
   "metadata": {},
   "source": [
    "### 选择数据\n",
    "要从面板中选择数据，可以使用以下方式 \n",
    "- Items\n",
    "- Major_axis\n",
    "- Minor_axis"
   ]
  },
  {
   "cell_type": "markdown",
   "metadata": {},
   "source": [
    "#### 使用items"
   ]
  },
  {
   "cell_type": "code",
   "execution_count": 13,
   "metadata": {},
   "outputs": [
    {
     "name": "stdout",
     "output_type": "stream",
     "text": [
      "          0         1         2\n",
      "0  0.995106  0.219615 -1.524843\n",
      "1  0.001384 -1.310988 -0.144153\n",
      "2 -1.094363  0.491156  1.999810\n",
      "3 -0.345671 -0.904226  0.509023\n",
      "          0         1   2\n",
      "0 -1.802569 -2.371812 NaN\n",
      "1  0.930160  0.873510 NaN\n",
      "2  1.011744  1.472528 NaN\n",
      "3 -1.703086 -0.161468 NaN\n"
     ]
    },
    {
     "name": "stderr",
     "output_type": "stream",
     "text": [
      "C:\\Users\\Dell\\Anaconda3\\lib\\site-packages\\IPython\\core\\interactiveshell.py:2961: FutureWarning: \n",
      "Panel is deprecated and will be removed in a future version.\n",
      "The recommended way to represent these types of 3-dimensional data are with a MultiIndex on a DataFrame, via the Panel.to_frame() method\n",
      "Alternatively, you can use the xarray package http://xarray.pydata.org/en/stable/.\n",
      "Pandas provides a `.to_xarray()` method to help automate this conversion.\n",
      "\n",
      "  exec(code_obj, self.user_global_ns, self.user_ns)\n"
     ]
    }
   ],
   "source": [
    "data = {'Item1' : pd.DataFrame(np.random.randn(4, 3)), \n",
    "        'Item2' : pd.DataFrame(np.random.randn(4, 2))}\n",
    "p = pd.Panel(data)\n",
    "print(p['Item1'])\n",
    "print(p['Item2'])"
   ]
  },
  {
   "cell_type": "markdown",
   "metadata": {},
   "source": [
    "#### 使用major_axis\n",
    "取行"
   ]
  },
  {
   "cell_type": "code",
   "execution_count": 16,
   "metadata": {},
   "outputs": [
    {
     "name": "stdout",
     "output_type": "stream",
     "text": [
      "      Item1    Item2\n",
      "0  0.001384  0.93016\n",
      "1 -1.310988  0.87351\n",
      "2 -0.144153      NaN\n",
      "RangeIndex(start=0, stop=4, step=1)\n"
     ]
    }
   ],
   "source": [
    "print(p.major_xs(1))\n",
    "print(p.major_axis)"
   ]
  },
  {
   "cell_type": "markdown",
   "metadata": {},
   "source": [
    "#### 使用minor_axis\n",
    "取列"
   ]
  },
  {
   "cell_type": "code",
   "execution_count": 18,
   "metadata": {},
   "outputs": [
    {
     "name": "stdout",
     "output_type": "stream",
     "text": [
      "RangeIndex(start=0, stop=3, step=1)\n",
      "      Item1     Item2\n",
      "0  0.995106 -1.802569\n",
      "1  0.001384  0.930160\n",
      "2 -1.094363  1.011744\n",
      "3 -0.345671 -1.703086\n"
     ]
    }
   ],
   "source": [
    "print(p.minor_axis)\n",
    "print(p.minor_xs(0))"
   ]
  },
  {
   "cell_type": "code",
   "execution_count": null,
   "metadata": {},
   "outputs": [],
   "source": []
  }
 ],
 "metadata": {
  "kernelspec": {
   "display_name": "Python 3",
   "language": "python",
   "name": "python3"
  },
  "language_info": {
   "codemirror_mode": {
    "name": "ipython",
    "version": 3
   },
   "file_extension": ".py",
   "mimetype": "text/x-python",
   "name": "python",
   "nbconvert_exporter": "python",
   "pygments_lexer": "ipython3",
   "version": "3.7.0"
  }
 },
 "nbformat": 4,
 "nbformat_minor": 2
}
