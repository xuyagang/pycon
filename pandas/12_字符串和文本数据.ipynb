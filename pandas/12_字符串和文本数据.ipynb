{
 "cells": [
  {
   "cell_type": "markdown",
   "metadata": {},
   "source": [
    "#### Pandas提供了一组字符串函数，可以方便地对字符串数据进行操作。 最重要的是，这些函数忽略(或排除)丢失/NaN值\n",
    "- lower() 将Series/Index中的字符串转换为小写\n",
    "- upper() 大写 \n",
    "- len() 字符串长度\n",
    "- strip() 从两侧的系列/索引中的每个字符串中删除空格(包括换行符)\n",
    "- split(' ') 用给定的模式拆分每个字符串\n",
    "- cat(sep=' ')  使用给定的分隔符连接系列/索引元素\n",
    "- get_dummies() 返回具有单热编码值的数据帧(DataFrame)\n",
    "- contains(pattern) 如果元素中包含子字符串，则返回每个元素的布尔值True，否则为False\n",
    "- replace(a,b) 将值a替换为值b\n",
    "- repeat(value) 重复每个元素指定的次数\n",
    "- count(pattern) 返回模式中每个元素的出现总数\n",
    "- startswith(pattern) 如果系列/索引中的元素以模式开始，则返回true\n",
    "- endswith(pattern)\n",
    "- find(pattern) 返回模式第一次出现的位置\n",
    "- findall(pattern) 返回模式的所有出现的列表。\n",
    "- swapcase  变换字母大小写。\n",
    "- islower() 检查系列/索引中每个字符串中的所有字符是否小写，返回布尔值\n",
    "- isupper() 检查系列/索引中每个字符串中的所有字符是否为数字，返回布尔值。"
   ]
  },
  {
   "cell_type": "markdown",
   "metadata": {},
   "source": [
    "##### 易忘\n",
    "- cat\n",
    "- get_dummies\n",
    "- contains\n"
   ]
  },
  {
   "cell_type": "code",
   "execution_count": 2,
   "metadata": {},
   "outputs": [
    {
     "data": {
      "text/plain": [
       "0             Tom\n",
       "1    William Rick\n",
       "2            John\n",
       "3         Alber@t\n",
       "4             NaN\n",
       "5            1234\n",
       "6      SteveMinsu\n",
       "dtype: object"
      ]
     },
     "execution_count": 2,
     "metadata": {},
     "output_type": "execute_result"
    }
   ],
   "source": [
    "import pandas as pd\n",
    "import numpy as np\n",
    "\n",
    "s = pd.Series(['Tom', 'William Rick', 'John', 'Alber@t', np.nan, '1234','SteveMinsu'])\n",
    "s"
   ]
  },
  {
   "cell_type": "code",
   "execution_count": 3,
   "metadata": {},
   "outputs": [
    {
     "name": "stdout",
     "output_type": "stream",
     "text": [
      "0             tom\n",
      "1    william rick\n",
      "2            john\n",
      "3         alber@t\n",
      "4             NaN\n",
      "5            1234\n",
      "6      steveminsu\n",
      "dtype: object\n"
     ]
    }
   ],
   "source": [
    "# lower\n",
    "print(s.str.lower())"
   ]
  },
  {
   "cell_type": "code",
   "execution_count": 4,
   "metadata": {},
   "outputs": [
    {
     "name": "stdout",
     "output_type": "stream",
     "text": [
      "0             TOM\n",
      "1    WILLIAM RICK\n",
      "2            JOHN\n",
      "3         ALBER@T\n",
      "4             NaN\n",
      "5            1234\n",
      "6      STEVEMINSU\n",
      "dtype: object\n"
     ]
    }
   ],
   "source": [
    "# upper\n",
    "print(s.str.upper())"
   ]
  },
  {
   "cell_type": "code",
   "execution_count": 5,
   "metadata": {},
   "outputs": [
    {
     "name": "stdout",
     "output_type": "stream",
     "text": [
      "0     3.0\n",
      "1    12.0\n",
      "2     4.0\n",
      "3     7.0\n",
      "4     NaN\n",
      "5     4.0\n",
      "6    10.0\n",
      "dtype: float64\n"
     ]
    }
   ],
   "source": [
    "# len\n",
    "print(s.str.len())"
   ]
  },
  {
   "cell_type": "code",
   "execution_count": 7,
   "metadata": {},
   "outputs": [
    {
     "name": "stdout",
     "output_type": "stream",
     "text": [
      "0                Tom \n",
      "1     William Rick   \n",
      "2                John\n",
      "3         Alber@t    \n",
      "dtype: object\n",
      "0             Tom\n",
      "1    William Rick\n",
      "2            John\n",
      "3         Alber@t\n",
      "dtype: object\n"
     ]
    }
   ],
   "source": [
    "# strip\n",
    "s = pd.Series(['    Tom ', ' William Rick   ', '  John', 'Alber@t    '])\n",
    "print(s)\n",
    "print(s.str.strip())"
   ]
  },
  {
   "cell_type": "code",
   "execution_count": 9,
   "metadata": {},
   "outputs": [
    {
     "name": "stdout",
     "output_type": "stream",
     "text": [
      "0            [, , , , Tom, ]\n",
      "1    [, William, Rick, , , ]\n",
      "2                 [, , John]\n",
      "3          [Alber@t, , , , ]\n",
      "dtype: object\n"
     ]
    }
   ],
   "source": [
    "# split\n",
    "print(s.str.split(' '))"
   ]
  },
  {
   "cell_type": "code",
   "execution_count": 11,
   "metadata": {},
   "outputs": [
    {
     "name": "stdout",
     "output_type": "stream",
     "text": [
      "0                Tom \n",
      "1     William Rick   \n",
      "2                John\n",
      "3         Alber@t    \n",
      "dtype: object\n",
      "    Tom <+> William Rick   <+>  John<+>Alber@t    \n"
     ]
    }
   ],
   "source": [
    "# cat(sep='')    使用给定的分隔符连接系列/索引元素\n",
    "print(s)\n",
    "print(s.str.cat(sep='<+>'))"
   ]
  },
  {
   "cell_type": "code",
   "execution_count": 12,
   "metadata": {
    "scrolled": true
   },
   "outputs": [
    {
     "name": "stdout",
     "output_type": "stream",
     "text": [
      "       Tom     John   William Rick     Alber@t    \n",
      "0         1       0                 0            0\n",
      "1         0       0                 1            0\n",
      "2         0       1                 0            0\n",
      "3         0       0                 0            1\n"
     ]
    }
   ],
   "source": [
    "# get_dummies()\n",
    "print(s.str.get_dummies())"
   ]
  },
  {
   "cell_type": "code",
   "execution_count": 14,
   "metadata": {},
   "outputs": [
    {
     "name": "stdout",
     "output_type": "stream",
     "text": [
      "0    False\n",
      "1     True\n",
      "2    False\n",
      "3     True\n",
      "dtype: bool\n"
     ]
    }
   ],
   "source": [
    "# contains\n",
    "print(s.str.contains('l'))"
   ]
  },
  {
   "cell_type": "code",
   "execution_count": 15,
   "metadata": {},
   "outputs": [
    {
     "name": "stdout",
     "output_type": "stream",
     "text": [
      "0              T<+>m \n",
      "1     William Rick   \n",
      "2              J<+>hn\n",
      "3         Alber@t    \n",
      "dtype: object\n"
     ]
    }
   ],
   "source": [
    "# replace\n",
    "print(s.str.replace('o','<+>'))"
   ]
  },
  {
   "cell_type": "code",
   "execution_count": 16,
   "metadata": {},
   "outputs": [
    {
     "name": "stdout",
     "output_type": "stream",
     "text": [
      "0                                Tom     Tom     Tom \n",
      "1     William Rick    William Rick    William Rick   \n",
      "2                                    John  John  John\n",
      "3                   Alber@t    Alber@t    Alber@t    \n",
      "dtype: object\n"
     ]
    }
   ],
   "source": [
    "# repeat\n",
    "print(s.str.repeat(3))"
   ]
  },
  {
   "cell_type": "code",
   "execution_count": 17,
   "metadata": {},
   "outputs": [
    {
     "name": "stdout",
     "output_type": "stream",
     "text": [
      "0    0\n",
      "1    3\n",
      "2    0\n",
      "3    0\n",
      "dtype: int64\n"
     ]
    }
   ],
   "source": [
    "# count startswith    endswith\n",
    "print(s.str.count('i'))"
   ]
  },
  {
   "cell_type": "code",
   "execution_count": 19,
   "metadata": {},
   "outputs": [
    {
     "name": "stdout",
     "output_type": "stream",
     "text": [
      "0                Tom \n",
      "1     William Rick   \n",
      "2                John\n",
      "3         Alber@t    \n",
      "dtype: object\n",
      "0    5\n",
      "1   -1\n",
      "2    3\n",
      "3   -1\n",
      "dtype: int64\n"
     ]
    }
   ],
   "source": [
    "# find(pattern)\n",
    "# -1表示元素中没有这样的模式可用\n",
    "print(s)\n",
    "print(s.str.find('o'))"
   ]
  },
  {
   "cell_type": "code",
   "execution_count": 21,
   "metadata": {},
   "outputs": [
    {
     "name": "stdout",
     "output_type": "stream",
     "text": [
      "0    [o]\n",
      "1     []\n",
      "2    [o]\n",
      "3     []\n",
      "dtype: object\n"
     ]
    }
   ],
   "source": [
    "# findall\n",
    "# 所有出现的列表\n",
    "print(s.str.findall('o'))"
   ]
  },
  {
   "cell_type": "code",
   "execution_count": 22,
   "metadata": {},
   "outputs": [
    {
     "name": "stdout",
     "output_type": "stream",
     "text": [
      "0                tOM \n",
      "1     wILLIAM rICK   \n",
      "2                jOHN\n",
      "3         aLBER@T    \n",
      "dtype: object\n"
     ]
    }
   ],
   "source": [
    "# swapcase\n",
    "print(s.str.swapcase())"
   ]
  },
  {
   "cell_type": "code",
   "execution_count": 23,
   "metadata": {},
   "outputs": [
    {
     "name": "stdout",
     "output_type": "stream",
     "text": [
      "0    False\n",
      "1    False\n",
      "2    False\n",
      "3    False\n",
      "dtype: bool\n"
     ]
    }
   ],
   "source": [
    "# islower     issupper\n",
    "print(s.str.islower())"
   ]
  },
  {
   "cell_type": "code",
   "execution_count": null,
   "metadata": {},
   "outputs": [],
   "source": []
  }
 ],
 "metadata": {
  "kernelspec": {
   "display_name": "Python 3",
   "language": "python",
   "name": "python3"
  },
  "language_info": {
   "codemirror_mode": {
    "name": "ipython",
    "version": 3
   },
   "file_extension": ".py",
   "mimetype": "text/x-python",
   "name": "python",
   "nbconvert_exporter": "python",
   "pygments_lexer": "ipython3",
   "version": "3.7.0"
  }
 },
 "nbformat": 4,
 "nbformat_minor": 2
}
