{
 "cells": [
  {
   "cell_type": "code",
   "execution_count": 1,
   "metadata": {},
   "outputs": [],
   "source": [
    "import numpy as np\n",
    "import pandas as pd"
   ]
  },
  {
   "cell_type": "markdown",
   "metadata": {},
   "source": [
    "#### Pandas现在支持三种类型的多轴索引\n",
    "- .loc     基于标签\n",
    "- .iloc    基于整数\n",
    "- .ix     基于标签和整数"
   ]
  },
  {
   "cell_type": "code",
   "execution_count": 2,
   "metadata": {},
   "outputs": [
    {
     "data": {
      "text/html": [
       "<div>\n",
       "<style scoped>\n",
       "    .dataframe tbody tr th:only-of-type {\n",
       "        vertical-align: middle;\n",
       "    }\n",
       "\n",
       "    .dataframe tbody tr th {\n",
       "        vertical-align: top;\n",
       "    }\n",
       "\n",
       "    .dataframe thead th {\n",
       "        text-align: right;\n",
       "    }\n",
       "</style>\n",
       "<table border=\"1\" class=\"dataframe\">\n",
       "  <thead>\n",
       "    <tr style=\"text-align: right;\">\n",
       "      <th></th>\n",
       "      <th>A</th>\n",
       "      <th>B</th>\n",
       "      <th>C</th>\n",
       "      <th>D</th>\n",
       "    </tr>\n",
       "  </thead>\n",
       "  <tbody>\n",
       "    <tr>\n",
       "      <th>a</th>\n",
       "      <td>1.637541</td>\n",
       "      <td>0.525852</td>\n",
       "      <td>-0.815922</td>\n",
       "      <td>0.237627</td>\n",
       "    </tr>\n",
       "    <tr>\n",
       "      <th>b</th>\n",
       "      <td>-0.215777</td>\n",
       "      <td>0.285644</td>\n",
       "      <td>0.196529</td>\n",
       "      <td>-0.374995</td>\n",
       "    </tr>\n",
       "    <tr>\n",
       "      <th>c</th>\n",
       "      <td>-1.575076</td>\n",
       "      <td>0.766560</td>\n",
       "      <td>0.597478</td>\n",
       "      <td>-0.423306</td>\n",
       "    </tr>\n",
       "    <tr>\n",
       "      <th>d</th>\n",
       "      <td>0.425084</td>\n",
       "      <td>0.580469</td>\n",
       "      <td>2.106732</td>\n",
       "      <td>-1.132376</td>\n",
       "    </tr>\n",
       "    <tr>\n",
       "      <th>e</th>\n",
       "      <td>0.973325</td>\n",
       "      <td>-0.138681</td>\n",
       "      <td>0.337150</td>\n",
       "      <td>-0.442461</td>\n",
       "    </tr>\n",
       "    <tr>\n",
       "      <th>f</th>\n",
       "      <td>1.015810</td>\n",
       "      <td>0.896994</td>\n",
       "      <td>0.753502</td>\n",
       "      <td>0.296023</td>\n",
       "    </tr>\n",
       "    <tr>\n",
       "      <th>g</th>\n",
       "      <td>0.767961</td>\n",
       "      <td>0.913784</td>\n",
       "      <td>1.264717</td>\n",
       "      <td>-1.011307</td>\n",
       "    </tr>\n",
       "    <tr>\n",
       "      <th>h</th>\n",
       "      <td>1.906192</td>\n",
       "      <td>0.077434</td>\n",
       "      <td>1.120128</td>\n",
       "      <td>0.354334</td>\n",
       "    </tr>\n",
       "  </tbody>\n",
       "</table>\n",
       "</div>"
      ],
      "text/plain": [
       "          A         B         C         D\n",
       "a  1.637541  0.525852 -0.815922  0.237627\n",
       "b -0.215777  0.285644  0.196529 -0.374995\n",
       "c -1.575076  0.766560  0.597478 -0.423306\n",
       "d  0.425084  0.580469  2.106732 -1.132376\n",
       "e  0.973325 -0.138681  0.337150 -0.442461\n",
       "f  1.015810  0.896994  0.753502  0.296023\n",
       "g  0.767961  0.913784  1.264717 -1.011307\n",
       "h  1.906192  0.077434  1.120128  0.354334"
      ]
     },
     "execution_count": 2,
     "metadata": {},
     "output_type": "execute_result"
    }
   ],
   "source": [
    "df = pd.DataFrame(np.random.randn(8,4),\n",
    "                 index=['a','b','c','d','e','f','g','h'],\n",
    "                  columns = ['A', 'B', 'C', 'D'])\n",
    "df"
   ]
  },
  {
   "cell_type": "markdown",
   "metadata": {},
   "source": [
    "##### .loc()\n",
    "- 需要两个参数，第一个表示行，第二个表示列\n",
    "- 输入一个参数时选择行"
   ]
  },
  {
   "cell_type": "code",
   "execution_count": 3,
   "metadata": {},
   "outputs": [
    {
     "name": "stdout",
     "output_type": "stream",
     "text": [
      "a   -0.815922\n",
      "b    0.196529\n",
      "c    0.597478\n",
      "d    2.106732\n",
      "e    0.337150\n",
      "f    0.753502\n",
      "g    1.264717\n",
      "h    1.120128\n",
      "Name: C, dtype: float64\n"
     ]
    }
   ],
   "source": [
    "print(df.loc[:,'C'])"
   ]
  },
  {
   "cell_type": "code",
   "execution_count": 4,
   "metadata": {},
   "outputs": [
    {
     "name": "stdout",
     "output_type": "stream",
     "text": [
      "          A         C\n",
      "b -0.215777  0.196529\n",
      "e  0.973325  0.337150\n"
     ]
    }
   ],
   "source": [
    "print(df.loc[['b','e'],['A','C']])"
   ]
  },
  {
   "cell_type": "code",
   "execution_count": 5,
   "metadata": {},
   "outputs": [
    {
     "name": "stdout",
     "output_type": "stream",
     "text": [
      "          A         B         C         D\n",
      "a  1.637541  0.525852 -0.815922  0.237627\n",
      "b -0.215777  0.285644  0.196529 -0.374995\n",
      "c -1.575076  0.766560  0.597478 -0.423306\n",
      "d  0.425084  0.580469  2.106732 -1.132376\n",
      "e  0.973325 -0.138681  0.337150 -0.442461\n"
     ]
    }
   ],
   "source": [
    "print(df.loc['a':'e'])"
   ]
  },
  {
   "cell_type": "code",
   "execution_count": 6,
   "metadata": {},
   "outputs": [
    {
     "name": "stdout",
     "output_type": "stream",
     "text": [
      "A    False\n",
      "B     True\n",
      "C     True\n",
      "D    False\n",
      "Name: b, dtype: bool\n"
     ]
    }
   ],
   "source": [
    "print(df.loc['b'] > 0)"
   ]
  },
  {
   "cell_type": "code",
   "execution_count": 7,
   "metadata": {},
   "outputs": [
    {
     "name": "stdout",
     "output_type": "stream",
     "text": [
      "B    0.285644\n",
      "C    0.196529\n",
      "Name: b, dtype: float64\n"
     ]
    }
   ],
   "source": [
    "print(df.loc['b'][df.loc['b'] > 0])"
   ]
  },
  {
   "cell_type": "code",
   "execution_count": 8,
   "metadata": {},
   "outputs": [
    {
     "name": "stdout",
     "output_type": "stream",
     "text": [
      "a     True\n",
      "b    False\n",
      "c    False\n",
      "d     True\n",
      "e     True\n",
      "f     True\n",
      "g     True\n",
      "h     True\n",
      "Name: A, dtype: bool\n"
     ]
    }
   ],
   "source": [
    "print(df.loc[:,'A'] > 0)"
   ]
  },
  {
   "cell_type": "markdown",
   "metadata": {},
   "source": [
    "##### .iloc\n",
    "纯整数索引"
   ]
  },
  {
   "cell_type": "code",
   "execution_count": 9,
   "metadata": {},
   "outputs": [
    {
     "data": {
      "text/html": [
       "<div>\n",
       "<style scoped>\n",
       "    .dataframe tbody tr th:only-of-type {\n",
       "        vertical-align: middle;\n",
       "    }\n",
       "\n",
       "    .dataframe tbody tr th {\n",
       "        vertical-align: top;\n",
       "    }\n",
       "\n",
       "    .dataframe thead th {\n",
       "        text-align: right;\n",
       "    }\n",
       "</style>\n",
       "<table border=\"1\" class=\"dataframe\">\n",
       "  <thead>\n",
       "    <tr style=\"text-align: right;\">\n",
       "      <th></th>\n",
       "      <th>A</th>\n",
       "      <th>B</th>\n",
       "      <th>C</th>\n",
       "      <th>D</th>\n",
       "    </tr>\n",
       "  </thead>\n",
       "  <tbody>\n",
       "    <tr>\n",
       "      <th>0</th>\n",
       "      <td>0.874386</td>\n",
       "      <td>0.865230</td>\n",
       "      <td>0.472691</td>\n",
       "      <td>-0.388515</td>\n",
       "    </tr>\n",
       "    <tr>\n",
       "      <th>1</th>\n",
       "      <td>1.575397</td>\n",
       "      <td>-0.023746</td>\n",
       "      <td>2.142885</td>\n",
       "      <td>1.563591</td>\n",
       "    </tr>\n",
       "    <tr>\n",
       "      <th>2</th>\n",
       "      <td>-1.143848</td>\n",
       "      <td>0.035520</td>\n",
       "      <td>1.959298</td>\n",
       "      <td>0.111515</td>\n",
       "    </tr>\n",
       "    <tr>\n",
       "      <th>3</th>\n",
       "      <td>-0.769100</td>\n",
       "      <td>1.700512</td>\n",
       "      <td>-0.450816</td>\n",
       "      <td>-0.642036</td>\n",
       "    </tr>\n",
       "    <tr>\n",
       "      <th>4</th>\n",
       "      <td>-1.348551</td>\n",
       "      <td>1.896085</td>\n",
       "      <td>-1.177693</td>\n",
       "      <td>-0.205088</td>\n",
       "    </tr>\n",
       "    <tr>\n",
       "      <th>5</th>\n",
       "      <td>1.186869</td>\n",
       "      <td>-1.152398</td>\n",
       "      <td>-0.128733</td>\n",
       "      <td>0.535670</td>\n",
       "    </tr>\n",
       "    <tr>\n",
       "      <th>6</th>\n",
       "      <td>2.055234</td>\n",
       "      <td>1.083284</td>\n",
       "      <td>0.020620</td>\n",
       "      <td>0.373573</td>\n",
       "    </tr>\n",
       "    <tr>\n",
       "      <th>7</th>\n",
       "      <td>1.489464</td>\n",
       "      <td>1.630541</td>\n",
       "      <td>-0.860682</td>\n",
       "      <td>1.003008</td>\n",
       "    </tr>\n",
       "  </tbody>\n",
       "</table>\n",
       "</div>"
      ],
      "text/plain": [
       "          A         B         C         D\n",
       "0  0.874386  0.865230  0.472691 -0.388515\n",
       "1  1.575397 -0.023746  2.142885  1.563591\n",
       "2 -1.143848  0.035520  1.959298  0.111515\n",
       "3 -0.769100  1.700512 -0.450816 -0.642036\n",
       "4 -1.348551  1.896085 -1.177693 -0.205088\n",
       "5  1.186869 -1.152398 -0.128733  0.535670\n",
       "6  2.055234  1.083284  0.020620  0.373573\n",
       "7  1.489464  1.630541 -0.860682  1.003008"
      ]
     },
     "execution_count": 9,
     "metadata": {},
     "output_type": "execute_result"
    }
   ],
   "source": [
    "df = pd.DataFrame(np.random.randn(8,4),\n",
    "                 columns=['A', 'B', 'C', 'D'])\n",
    "df"
   ]
  },
  {
   "cell_type": "code",
   "execution_count": 10,
   "metadata": {},
   "outputs": [
    {
     "name": "stdout",
     "output_type": "stream",
     "text": [
      "          A         B         C         D\n",
      "0  0.874386  0.865230  0.472691 -0.388515\n",
      "1  1.575397 -0.023746  2.142885  1.563591\n",
      "2 -1.143848  0.035520  1.959298  0.111515\n",
      "3 -0.769100  1.700512 -0.450816 -0.642036\n"
     ]
    }
   ],
   "source": [
    "print(df.iloc[:4])"
   ]
  },
  {
   "cell_type": "code",
   "execution_count": 11,
   "metadata": {},
   "outputs": [
    {
     "name": "stdout",
     "output_type": "stream",
     "text": [
      "          B         C\n",
      "2  0.035520  1.959298\n",
      "3  1.700512 -0.450816\n"
     ]
    }
   ],
   "source": [
    "print(df.iloc[[2,3],1:3])"
   ]
  },
  {
   "cell_type": "code",
   "execution_count": 12,
   "metadata": {},
   "outputs": [
    {
     "name": "stdout",
     "output_type": "stream",
     "text": [
      "          B         C         D\n",
      "1 -0.023746  2.142885  1.563591\n",
      "3  1.700512 -0.450816 -0.642036\n",
      "5 -1.152398 -0.128733  0.535670\n"
     ]
    }
   ],
   "source": [
    "print(df.iloc[[1,3,5],[1,2,3]])"
   ]
  },
  {
   "cell_type": "markdown",
   "metadata": {},
   "source": [
    "##### .ix\n",
    "除了基于纯标签和整数之外，Pandas还提供了一种使用.ix()运算符进行选择和子集化对象的混合方法"
   ]
  },
  {
   "cell_type": "code",
   "execution_count": 13,
   "metadata": {},
   "outputs": [
    {
     "data": {
      "text/html": [
       "<div>\n",
       "<style scoped>\n",
       "    .dataframe tbody tr th:only-of-type {\n",
       "        vertical-align: middle;\n",
       "    }\n",
       "\n",
       "    .dataframe tbody tr th {\n",
       "        vertical-align: top;\n",
       "    }\n",
       "\n",
       "    .dataframe thead th {\n",
       "        text-align: right;\n",
       "    }\n",
       "</style>\n",
       "<table border=\"1\" class=\"dataframe\">\n",
       "  <thead>\n",
       "    <tr style=\"text-align: right;\">\n",
       "      <th></th>\n",
       "      <th>A</th>\n",
       "      <th>B</th>\n",
       "      <th>C</th>\n",
       "      <th>D</th>\n",
       "    </tr>\n",
       "  </thead>\n",
       "  <tbody>\n",
       "    <tr>\n",
       "      <th>0</th>\n",
       "      <td>0.762830</td>\n",
       "      <td>-0.612935</td>\n",
       "      <td>1.527079</td>\n",
       "      <td>0.328054</td>\n",
       "    </tr>\n",
       "    <tr>\n",
       "      <th>1</th>\n",
       "      <td>1.352134</td>\n",
       "      <td>-1.275036</td>\n",
       "      <td>0.056576</td>\n",
       "      <td>-0.313414</td>\n",
       "    </tr>\n",
       "    <tr>\n",
       "      <th>2</th>\n",
       "      <td>1.147115</td>\n",
       "      <td>-0.991426</td>\n",
       "      <td>-0.702798</td>\n",
       "      <td>-1.007665</td>\n",
       "    </tr>\n",
       "    <tr>\n",
       "      <th>3</th>\n",
       "      <td>1.126891</td>\n",
       "      <td>1.251847</td>\n",
       "      <td>1.998576</td>\n",
       "      <td>-0.560872</td>\n",
       "    </tr>\n",
       "    <tr>\n",
       "      <th>4</th>\n",
       "      <td>-0.837773</td>\n",
       "      <td>-0.430303</td>\n",
       "      <td>-0.488772</td>\n",
       "      <td>-0.879680</td>\n",
       "    </tr>\n",
       "    <tr>\n",
       "      <th>5</th>\n",
       "      <td>-0.505453</td>\n",
       "      <td>-0.863307</td>\n",
       "      <td>-1.078854</td>\n",
       "      <td>1.053906</td>\n",
       "    </tr>\n",
       "    <tr>\n",
       "      <th>6</th>\n",
       "      <td>-1.167010</td>\n",
       "      <td>2.365442</td>\n",
       "      <td>1.409395</td>\n",
       "      <td>-0.537281</td>\n",
       "    </tr>\n",
       "    <tr>\n",
       "      <th>7</th>\n",
       "      <td>0.798214</td>\n",
       "      <td>1.605708</td>\n",
       "      <td>0.815651</td>\n",
       "      <td>-0.380213</td>\n",
       "    </tr>\n",
       "  </tbody>\n",
       "</table>\n",
       "</div>"
      ],
      "text/plain": [
       "          A         B         C         D\n",
       "0  0.762830 -0.612935  1.527079  0.328054\n",
       "1  1.352134 -1.275036  0.056576 -0.313414\n",
       "2  1.147115 -0.991426 -0.702798 -1.007665\n",
       "3  1.126891  1.251847  1.998576 -0.560872\n",
       "4 -0.837773 -0.430303 -0.488772 -0.879680\n",
       "5 -0.505453 -0.863307 -1.078854  1.053906\n",
       "6 -1.167010  2.365442  1.409395 -0.537281\n",
       "7  0.798214  1.605708  0.815651 -0.380213"
      ]
     },
     "execution_count": 13,
     "metadata": {},
     "output_type": "execute_result"
    }
   ],
   "source": [
    "df = pd.DataFrame(np.random.randn(8,4),\n",
    "                 columns=['A', 'B', 'C', 'D'])\n",
    "df"
   ]
  },
  {
   "cell_type": "code",
   "execution_count": 14,
   "metadata": {},
   "outputs": [
    {
     "name": "stdout",
     "output_type": "stream",
     "text": [
      "          A         B         C         D\n",
      "0  0.762830 -0.612935  1.527079  0.328054\n",
      "1  1.352134 -1.275036  0.056576 -0.313414\n",
      "2  1.147115 -0.991426 -0.702798 -1.007665\n",
      "3  1.126891  1.251847  1.998576 -0.560872\n",
      "4 -0.837773 -0.430303 -0.488772 -0.879680\n"
     ]
    },
    {
     "name": "stderr",
     "output_type": "stream",
     "text": [
      "C:\\Users\\Dell\\Anaconda3\\lib\\site-packages\\ipykernel_launcher.py:1: DeprecationWarning: \n",
      ".ix is deprecated. Please use\n",
      ".loc for label based indexing or\n",
      ".iloc for positional indexing\n",
      "\n",
      "See the documentation here:\n",
      "http://pandas.pydata.org/pandas-docs/stable/indexing.html#ix-indexer-is-deprecated\n",
      "  \"\"\"Entry point for launching an IPython kernel.\n"
     ]
    }
   ],
   "source": [
    "print(df.ix[:4])"
   ]
  },
  {
   "cell_type": "code",
   "execution_count": 15,
   "metadata": {},
   "outputs": [
    {
     "name": "stdout",
     "output_type": "stream",
     "text": [
      "0   -0.612935\n",
      "1   -1.275036\n",
      "2   -0.991426\n",
      "3    1.251847\n",
      "4   -0.430303\n",
      "5   -0.863307\n",
      "6    2.365442\n",
      "7    1.605708\n",
      "Name: B, dtype: float64\n"
     ]
    },
    {
     "name": "stderr",
     "output_type": "stream",
     "text": [
      "C:\\Users\\Dell\\Anaconda3\\lib\\site-packages\\ipykernel_launcher.py:1: DeprecationWarning: \n",
      ".ix is deprecated. Please use\n",
      ".loc for label based indexing or\n",
      ".iloc for positional indexing\n",
      "\n",
      "See the documentation here:\n",
      "http://pandas.pydata.org/pandas-docs/stable/indexing.html#ix-indexer-is-deprecated\n",
      "  \"\"\"Entry point for launching an IPython kernel.\n"
     ]
    }
   ],
   "source": [
    "print(df.ix[:,'B'])"
   ]
  },
  {
   "cell_type": "code",
   "execution_count": 16,
   "metadata": {},
   "outputs": [
    {
     "name": "stdout",
     "output_type": "stream",
     "text": [
      "          C         D\n",
      "0  1.527079  0.328054\n",
      "1  0.056576 -0.313414\n",
      "2 -0.702798 -1.007665\n",
      "3  1.998576 -0.560872\n",
      "4 -0.488772 -0.879680\n",
      "5 -1.078854  1.053906\n",
      "6  1.409395 -0.537281\n",
      "7  0.815651 -0.380213\n",
      "          C         D\n",
      "0  1.527079  0.328054\n",
      "1  0.056576 -0.313414\n",
      "2 -0.702798 -1.007665\n",
      "3  1.998576 -0.560872\n",
      "4 -0.488772 -0.879680\n",
      "5 -1.078854  1.053906\n",
      "6  1.409395 -0.537281\n",
      "7  0.815651 -0.380213\n"
     ]
    },
    {
     "name": "stderr",
     "output_type": "stream",
     "text": [
      "C:\\Users\\Dell\\Anaconda3\\lib\\site-packages\\ipykernel_launcher.py:1: DeprecationWarning: \n",
      ".ix is deprecated. Please use\n",
      ".loc for label based indexing or\n",
      ".iloc for positional indexing\n",
      "\n",
      "See the documentation here:\n",
      "http://pandas.pydata.org/pandas-docs/stable/indexing.html#ix-indexer-is-deprecated\n",
      "  \"\"\"Entry point for launching an IPython kernel.\n",
      "C:\\Users\\Dell\\Anaconda3\\lib\\site-packages\\ipykernel_launcher.py:2: DeprecationWarning: \n",
      ".ix is deprecated. Please use\n",
      ".loc for label based indexing or\n",
      ".iloc for positional indexing\n",
      "\n",
      "See the documentation here:\n",
      "http://pandas.pydata.org/pandas-docs/stable/indexing.html#ix-indexer-is-deprecated\n",
      "  \n"
     ]
    }
   ],
   "source": [
    "print(df.ix[:,[2,3]])\n",
    "print(df.ix[:,['C','D']])"
   ]
  },
  {
   "cell_type": "code",
   "execution_count": 17,
   "metadata": {},
   "outputs": [
    {
     "data": {
      "text/html": [
       "<div>\n",
       "<style scoped>\n",
       "    .dataframe tbody tr th:only-of-type {\n",
       "        vertical-align: middle;\n",
       "    }\n",
       "\n",
       "    .dataframe tbody tr th {\n",
       "        vertical-align: top;\n",
       "    }\n",
       "\n",
       "    .dataframe thead th {\n",
       "        text-align: right;\n",
       "    }\n",
       "</style>\n",
       "<table border=\"1\" class=\"dataframe\">\n",
       "  <thead>\n",
       "    <tr style=\"text-align: right;\">\n",
       "      <th></th>\n",
       "      <th>A</th>\n",
       "      <th>B</th>\n",
       "      <th>C</th>\n",
       "      <th>D</th>\n",
       "    </tr>\n",
       "  </thead>\n",
       "  <tbody>\n",
       "    <tr>\n",
       "      <th>0</th>\n",
       "      <td>0.762830</td>\n",
       "      <td>-0.612935</td>\n",
       "      <td>1.527079</td>\n",
       "      <td>0.328054</td>\n",
       "    </tr>\n",
       "    <tr>\n",
       "      <th>1</th>\n",
       "      <td>1.352134</td>\n",
       "      <td>-1.275036</td>\n",
       "      <td>0.056576</td>\n",
       "      <td>-0.313414</td>\n",
       "    </tr>\n",
       "    <tr>\n",
       "      <th>2</th>\n",
       "      <td>1.147115</td>\n",
       "      <td>-0.991426</td>\n",
       "      <td>-0.702798</td>\n",
       "      <td>-1.007665</td>\n",
       "    </tr>\n",
       "    <tr>\n",
       "      <th>3</th>\n",
       "      <td>1.126891</td>\n",
       "      <td>1.251847</td>\n",
       "      <td>1.998576</td>\n",
       "      <td>-0.560872</td>\n",
       "    </tr>\n",
       "    <tr>\n",
       "      <th>4</th>\n",
       "      <td>-0.837773</td>\n",
       "      <td>-0.430303</td>\n",
       "      <td>-0.488772</td>\n",
       "      <td>-0.879680</td>\n",
       "    </tr>\n",
       "    <tr>\n",
       "      <th>5</th>\n",
       "      <td>-0.505453</td>\n",
       "      <td>-0.863307</td>\n",
       "      <td>-1.078854</td>\n",
       "      <td>1.053906</td>\n",
       "    </tr>\n",
       "    <tr>\n",
       "      <th>6</th>\n",
       "      <td>-1.167010</td>\n",
       "      <td>2.365442</td>\n",
       "      <td>1.409395</td>\n",
       "      <td>-0.537281</td>\n",
       "    </tr>\n",
       "    <tr>\n",
       "      <th>7</th>\n",
       "      <td>0.798214</td>\n",
       "      <td>1.605708</td>\n",
       "      <td>0.815651</td>\n",
       "      <td>-0.380213</td>\n",
       "    </tr>\n",
       "  </tbody>\n",
       "</table>\n",
       "</div>"
      ],
      "text/plain": [
       "          A         B         C         D\n",
       "0  0.762830 -0.612935  1.527079  0.328054\n",
       "1  1.352134 -1.275036  0.056576 -0.313414\n",
       "2  1.147115 -0.991426 -0.702798 -1.007665\n",
       "3  1.126891  1.251847  1.998576 -0.560872\n",
       "4 -0.837773 -0.430303 -0.488772 -0.879680\n",
       "5 -0.505453 -0.863307 -1.078854  1.053906\n",
       "6 -1.167010  2.365442  1.409395 -0.537281\n",
       "7  0.798214  1.605708  0.815651 -0.380213"
      ]
     },
     "execution_count": 17,
     "metadata": {},
     "output_type": "execute_result"
    }
   ],
   "source": [
    "df"
   ]
  },
  {
   "cell_type": "code",
   "execution_count": 18,
   "metadata": {},
   "outputs": [
    {
     "name": "stdout",
     "output_type": "stream",
     "text": [
      "0    0.762830\n",
      "1    1.352134\n",
      "2    1.147115\n",
      "3    1.126891\n",
      "4   -0.837773\n",
      "5   -0.505453\n",
      "6   -1.167010\n",
      "7    0.798214\n",
      "Name: A, dtype: float64\n",
      "          A         B\n",
      "0  0.762830 -0.612935\n",
      "1  1.352134 -1.275036\n",
      "2  1.147115 -0.991426\n",
      "3  1.126891  1.251847\n",
      "4 -0.837773 -0.430303\n",
      "5 -0.505453 -0.863307\n",
      "6 -1.167010  2.365442\n",
      "7  0.798214  1.605708\n",
      "          A         B         C         D\n",
      "2  1.147115 -0.991426 -0.702798 -1.007665\n",
      "3  1.126891  1.251847  1.998576 -0.560872\n"
     ]
    }
   ],
   "source": [
    "print(df['A'])\n",
    "print(df[['A','B']])\n",
    "print(df[2:4])"
   ]
  },
  {
   "cell_type": "markdown",
   "metadata": {},
   "source": [
    "##### 可以使用属性运算符.来选择列"
   ]
  },
  {
   "cell_type": "code",
   "execution_count": 19,
   "metadata": {},
   "outputs": [
    {
     "name": "stdout",
     "output_type": "stream",
     "text": [
      "0    1.527079\n",
      "1    0.056576\n",
      "2   -0.702798\n",
      "3    1.998576\n",
      "4   -0.488772\n",
      "5   -1.078854\n",
      "6    1.409395\n",
      "7    0.815651\n",
      "Name: C, dtype: float64\n"
     ]
    }
   ],
   "source": [
    "print(df.C)"
   ]
  },
  {
   "cell_type": "markdown",
   "metadata": {},
   "source": [
    "### 增删改查"
   ]
  },
  {
   "cell_type": "raw",
   "metadata": {},
   "source": [
    "pandas的索引函数主要有三种： \n",
    "loc 标签索引，行和列的名称 \n",
    "iloc 整型索引（绝对位置索引），绝对意义上的几行几列，起始索引为0 \n",
    "ix 是 iloc 和 loc的合体 \n",
    "at是loc的快捷方式 \n",
    "iat是iloc的快捷方式"
   ]
  },
  {
   "cell_type": "code",
   "execution_count": 20,
   "metadata": {},
   "outputs": [
    {
     "name": "stdout",
     "output_type": "stream",
     "text": [
      "   a  b  c\n",
      "0  1  a  A\n",
      "1  2  b  B\n",
      "2  3  c  C\n"
     ]
    }
   ],
   "source": [
    "df = pd.DataFrame({'a': [1, 2, 3], 'b': ['a', 'b', 'c'],'c': [\"A\",\"B\",\"C\"]})\n",
    "print(df)"
   ]
  },
  {
   "cell_type": "code",
   "execution_count": 21,
   "metadata": {},
   "outputs": [
    {
     "name": "stdout",
     "output_type": "stream",
     "text": [
      "a    2\n",
      "b    b\n",
      "c    B\n",
      "Name: 1, dtype: object\n"
     ]
    }
   ],
   "source": [
    "# 选择某行\n",
    "print(df.loc[1,:])"
   ]
  },
  {
   "cell_type": "code",
   "execution_count": 24,
   "metadata": {},
   "outputs": [
    {
     "name": "stdout",
     "output_type": "stream",
     "text": [
      "0    A\n",
      "1    B\n",
      "2    C\n",
      "Name: c, dtype: object\n"
     ]
    }
   ],
   "source": [
    "#选择所有行\n",
    "print(df.loc[::, 'c'])"
   ]
  },
  {
   "cell_type": "code",
   "execution_count": 25,
   "metadata": {},
   "outputs": [
    {
     "data": {
      "text/plain": [
       "0    False\n",
       "1    False\n",
       "2     True\n",
       "Name: a, dtype: bool"
      ]
     },
     "execution_count": 25,
     "metadata": {},
     "output_type": "execute_result"
    }
   ],
   "source": [
    "df.loc[:,'a'] >2"
   ]
  },
  {
   "cell_type": "markdown",
   "metadata": {},
   "source": [
    "#### isin"
   ]
  },
  {
   "cell_type": "code",
   "execution_count": 26,
   "metadata": {},
   "outputs": [
    {
     "data": {
      "text/plain": [
       "4    0\n",
       "3    1\n",
       "2    2\n",
       "1    3\n",
       "0    4\n",
       "dtype: int64"
      ]
     },
     "execution_count": 26,
     "metadata": {},
     "output_type": "execute_result"
    }
   ],
   "source": [
    "s = pd.Series(np.arange(5), index=np.arange(5)[::-1], dtype='int64')\n",
    "s"
   ]
  },
  {
   "cell_type": "code",
   "execution_count": 27,
   "metadata": {},
   "outputs": [
    {
     "data": {
      "text/plain": [
       "4    False\n",
       "3    False\n",
       "2     True\n",
       "1    False\n",
       "0     True\n",
       "dtype: bool"
      ]
     },
     "execution_count": 27,
     "metadata": {},
     "output_type": "execute_result"
    }
   ],
   "source": [
    "s.isin([2,4,6])"
   ]
  },
  {
   "cell_type": "code",
   "execution_count": null,
   "metadata": {},
   "outputs": [],
   "source": []
  },
  {
   "cell_type": "code",
   "execution_count": null,
   "metadata": {},
   "outputs": [],
   "source": []
  },
  {
   "cell_type": "code",
   "execution_count": null,
   "metadata": {},
   "outputs": [],
   "source": []
  },
  {
   "cell_type": "code",
   "execution_count": null,
   "metadata": {},
   "outputs": [],
   "source": []
  }
 ],
 "metadata": {
  "kernelspec": {
   "display_name": "Python 3",
   "language": "python",
   "name": "python3"
  },
  "language_info": {
   "codemirror_mode": {
    "name": "ipython",
    "version": 3
   },
   "file_extension": ".py",
   "mimetype": "text/x-python",
   "name": "python",
   "nbconvert_exporter": "python",
   "pygments_lexer": "ipython3",
   "version": "3.7.0"
  }
 },
 "nbformat": 4,
 "nbformat_minor": 2
}
