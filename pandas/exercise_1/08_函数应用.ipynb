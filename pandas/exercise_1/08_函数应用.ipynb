{
 "cells": [
  {
   "cell_type": "markdown",
   "metadata": {},
   "source": [
    "### 要将自定义或其他库的函数应用于Pandas对象，有三个重要的方法，使用适当的方法取决于函数是否期望在整个DataFrame，行或列或元素上进行操作\n",
    "- 表合理函数应用：pipe()\n",
    "- 行或列函数应用：apply()\n",
    "- 元素函数应用：applymap()"
   ]
  },
  {
   "cell_type": "code",
   "execution_count": 2,
   "metadata": {},
   "outputs": [],
   "source": [
    "import pandas as pd\n",
    "import numpy as np"
   ]
  },
  {
   "cell_type": "markdown",
   "metadata": {},
   "source": [
    "#### 表格函数应用"
   ]
  },
  {
   "cell_type": "code",
   "execution_count": 9,
   "metadata": {},
   "outputs": [],
   "source": [
    "# adder函数将两个数值作为参数相加并返回总和\n",
    "def adder(ele1,ele2):\n",
    "    return ele1+ele2"
   ]
  },
  {
   "cell_type": "code",
   "execution_count": 12,
   "metadata": {},
   "outputs": [
    {
     "name": "stdout",
     "output_type": "stream",
     "text": [
      "       clo1      col2      col3\n",
      "0 -0.493900 -1.470664  0.714617\n",
      "1  0.908406  0.637907 -1.190225\n",
      "2 -1.291511 -1.873455 -0.383651\n",
      "3 -1.029983 -1.443772  0.321035\n",
      "4 -0.849906  0.719356  0.861700\n"
     ]
    }
   ],
   "source": [
    "df = pd.DataFrame(np.random.randn(5,3),columns=['clo1','col2','col3'])\n",
    "print(df)"
   ]
  },
  {
   "cell_type": "code",
   "execution_count": 14,
   "metadata": {},
   "outputs": [
    {
     "name": "stdout",
     "output_type": "stream",
     "text": [
      "       clo1      col2      col3\n",
      "0  1.506100  0.529336  2.714617\n",
      "1  2.908406  2.637907  0.809775\n",
      "2  0.708489  0.126545  1.616349\n",
      "3  0.970017  0.556228  2.321035\n",
      "4  1.150094  2.719356  2.861700\n"
     ]
    }
   ],
   "source": [
    "# 使用自定义函数对DataFrame进行操作\n",
    "a = df.pipe(adder,2)\n",
    "print(a)"
   ]
  },
  {
   "cell_type": "markdown",
   "metadata": {},
   "source": [
    "#### 行或列合理函数应用\n",
    "可以使用apply()方法沿DataFrame或Panel的轴应用任意函数，它与描述性统计方法一样，采用可选的axis参数。 默认情况下，操作按列执行，将每列列为数组。"
   ]
  },
  {
   "cell_type": "code",
   "execution_count": 19,
   "metadata": {},
   "outputs": [
    {
     "name": "stdout",
     "output_type": "stream",
     "text": [
      "          a         b         c\n",
      "0  0.695208 -0.342895  0.552203\n",
      "1 -0.894263  0.860777 -0.862322\n",
      "2 -0.575652 -1.226566 -0.105119\n",
      "3 -0.736085 -0.281561  0.762520\n",
      "4  0.079703 -1.809781  1.937632\n",
      "a   -0.286218\n",
      "b   -0.560005\n",
      "c    0.456983\n",
      "dtype: float64\n",
      "0    0.301505\n",
      "1   -0.298603\n",
      "2   -0.635779\n",
      "3   -0.085042\n",
      "4    0.069185\n",
      "dtype: float64\n"
     ]
    }
   ],
   "source": [
    "df = pd.DataFrame(np.random.randn(5,3),columns=['a','b','c'])\n",
    "print(df)\n",
    "a = df.apply(np.mean)\n",
    "print(a)\n",
    "a = df.apply(np.mean,axis=1)\n",
    "print(a)"
   ]
  },
  {
   "cell_type": "code",
   "execution_count": 20,
   "metadata": {},
   "outputs": [
    {
     "name": "stdout",
     "output_type": "stream",
     "text": [
      "a    1.589472\n",
      "b    2.670558\n",
      "c    2.799954\n",
      "dtype: float64\n"
     ]
    }
   ],
   "source": [
    "a = df.apply(lambda x: x.max() - x.min())\n",
    "print(a)"
   ]
  },
  {
   "cell_type": "markdown",
   "metadata": {},
   "source": [
    "#### 元素合理函数应用\n",
    "并不是所有的函数都可以向量化，在DataFrame上的方法applymap()和类似于在Series上的map()接受任何Python函数，并且返回单个值。"
   ]
  },
  {
   "cell_type": "code",
   "execution_count": 22,
   "metadata": {},
   "outputs": [
    {
     "name": "stdout",
     "output_type": "stream",
     "text": [
      "0    69.520847\n",
      "1   -89.426318\n",
      "2   -57.565207\n",
      "3   -73.608457\n",
      "4     7.970273\n",
      "Name: a, dtype: float64\n"
     ]
    }
   ],
   "source": [
    "a = df['a'].map(lambda x: x*100)\n",
    "print(a)"
   ]
  },
  {
   "cell_type": "code",
   "execution_count": 24,
   "metadata": {},
   "outputs": [
    {
     "name": "stdout",
     "output_type": "stream",
     "text": [
      "           a           b           c\n",
      "0  69.520847  -34.289542   55.220308\n",
      "1 -89.426318   86.077655  -86.232159\n",
      "2 -57.565207 -122.656621  -10.511907\n",
      "3 -73.608457  -28.156111   76.251998\n",
      "4   7.970273 -180.978131  193.763242\n"
     ]
    }
   ],
   "source": [
    "b = df.applymap(lambda x:x*100)\n",
    "print(b)"
   ]
  },
  {
   "cell_type": "code",
   "execution_count": null,
   "metadata": {},
   "outputs": [],
   "source": []
  }
 ],
 "metadata": {
  "kernelspec": {
   "display_name": "Python 3",
   "language": "python",
   "name": "python3"
  },
  "language_info": {
   "codemirror_mode": {
    "name": "ipython",
    "version": 3
   },
   "file_extension": ".py",
   "mimetype": "text/x-python",
   "name": "python",
   "nbconvert_exporter": "python",
   "pygments_lexer": "ipython3",
   "version": "3.7.0"
  }
 },
 "nbformat": 4,
 "nbformat_minor": 2
}
