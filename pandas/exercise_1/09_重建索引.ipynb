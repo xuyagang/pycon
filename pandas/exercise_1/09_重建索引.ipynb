{
 "cells": [
  {
   "cell_type": "markdown",
   "metadata": {},
   "source": [
    "#### 重新索引会更改DataFrame的行标签和列标签。重新索引意味着符合数据以匹配特定轴上的一组给定的标签\n",
    "\n",
    "可以通过索引来实现多个操作 \n",
    "- 重新排序现有数据以匹配一组新的标签\n",
    "- 在没有标签数据的标签位置插入缺失值(NA)标记"
   ]
  },
  {
   "cell_type": "code",
   "execution_count": 1,
   "metadata": {},
   "outputs": [],
   "source": [
    "import pandas as pd\n",
    "import numpy as np"
   ]
  },
  {
   "cell_type": "code",
   "execution_count": 6,
   "metadata": {},
   "outputs": [
    {
     "name": "stdout",
     "output_type": "stream",
     "text": [
      "            A     x         y       C           D\n",
      "0  2016-01-01   0.0  0.425114  Medium  110.471487\n",
      "1  2016-01-02   1.0  0.952838  Medium  103.465138\n",
      "2  2016-01-03   2.0  0.806734  Medium  110.816858\n",
      "3  2016-01-04   3.0  0.561123    High  105.271105\n",
      "4  2016-01-05   4.0  0.346727    High  110.588747\n",
      "5  2016-01-06   5.0  0.895504    High   97.627335\n",
      "6  2016-01-07   6.0  0.265211    High  133.348236\n",
      "7  2016-01-08   7.0  0.449431     Low  106.661851\n",
      "8  2016-01-09   8.0  0.396488  Medium  104.229236\n",
      "9  2016-01-10   9.0  0.705134     Low  108.708545\n",
      "10 2016-01-11  10.0  0.905684     Low  109.354427\n",
      "11 2016-01-12  11.0  0.206094  Medium  116.558456\n",
      "12 2016-01-13  12.0  0.632706     Low   91.573393\n",
      "13 2016-01-14  13.0  0.799740     Low  105.091410\n",
      "14 2016-01-15  14.0  0.193575  Medium  100.195360\n",
      "15 2016-01-16  15.0  0.773390    High  106.558555\n",
      "16 2016-01-17  16.0  0.376898  Medium  105.485829\n",
      "17 2016-01-18  17.0  0.926362  Medium   87.142722\n",
      "18 2016-01-19  18.0  0.150365  Medium  108.704257\n",
      "19 2016-01-20  19.0  0.700032     Low   97.904961\n"
     ]
    }
   ],
   "source": [
    "N = 20\n",
    "df = pd.DataFrame({\n",
    "    'A': pd.date_range(start='2016-01-01',periods=N,freq='D'),\n",
    "    'x': np.linspace(0,stop=N-1,num=N),\n",
    "    'y': np.random.rand(N),\n",
    "    'C': np.random.choice(['Low','Medium','High'],N).tolist(),\n",
    "    'D': np.random.normal(100,10,size=(N)).tolist()\n",
    "})\n",
    "print(df)"
   ]
  },
  {
   "cell_type": "code",
   "execution_count": 7,
   "metadata": {},
   "outputs": [
    {
     "name": "stdout",
     "output_type": "stream",
     "text": [
      "           A       C   B\n",
      "0 2016-01-01  Medium NaN\n",
      "2 2016-01-03  Medium NaN\n",
      "5 2016-01-06    High NaN\n"
     ]
    }
   ],
   "source": [
    "print(df.reindex(index=[0,2,5],columns=['A','C','B']))"
   ]
  },
  {
   "cell_type": "markdown",
   "metadata": {},
   "source": [
    "##### 重建索引与其他对象对齐"
   ]
  },
  {
   "cell_type": "code",
   "execution_count": 11,
   "metadata": {},
   "outputs": [
    {
     "name": "stdout",
     "output_type": "stream",
     "text": [
      "       col1      col2      col3\n",
      "0 -1.054494 -0.718627  0.751840\n",
      "1 -0.843253 -0.564547 -0.693670\n",
      "2 -0.212982  0.374131  0.264305\n",
      "3 -2.040167  1.001551  0.023500\n",
      "4 -0.082310 -0.300913 -0.771044\n",
      "5  0.578025  2.314423 -0.163690\n",
      "6 -1.040979  1.160951 -0.000084\n"
     ]
    }
   ],
   "source": [
    "df1 = pd.DataFrame(np.random.randn(10,3),columns=['col1','col2','col3'])\n",
    "df2 = pd.DataFrame(np.random.randn(7,3),columns=['col1','col2','col3'])\n",
    "# 将df1 的结构与 df2 对齐\n",
    "df1 = df1.reindex_like(df2)\n",
    "print(df1)"
   ]
  },
  {
   "cell_type": "markdown",
   "metadata": {},
   "source": [
    "##### 填充时重新加注\n",
    "\n",
    "reindex()采用可选参数方法，它是一个填充方法，其值如下：\n",
    "- pad/ffill - 向前填充值\n",
    "- bfill/backfill - 向后填充值\n",
    "- nearest - 从最近的索引值填充"
   ]
  },
  {
   "cell_type": "code",
   "execution_count": 12,
   "metadata": {},
   "outputs": [
    {
     "name": "stdout",
     "output_type": "stream",
     "text": [
      "       col1      col2      col3\n",
      "0 -0.320928  0.058253  0.356232\n",
      "1 -0.325466 -0.210986  0.236315\n",
      "2  0.025567 -0.529625  1.182881\n",
      "3  0.135355 -0.164084 -0.319665\n",
      "4 -0.011445  0.138167  0.506889\n",
      "5  0.633903  0.590875  1.006885 \n",
      "        col1      col2      col3\n",
      "0  0.645344  1.466209 -0.239169\n",
      "1 -0.669016  0.289807  1.690039\n"
     ]
    }
   ],
   "source": [
    "df1 = pd.DataFrame(np.random.randn(6,3),columns=['col1','col2','col3'])\n",
    "df2 = pd.DataFrame(np.random.randn(2,3),columns=['col1','col2','col3'])\n",
    "print(df1,'\\n',df2)"
   ]
  },
  {
   "cell_type": "code",
   "execution_count": 13,
   "metadata": {},
   "outputs": [
    {
     "name": "stdout",
     "output_type": "stream",
     "text": [
      "       col1      col2      col3\n",
      "0  0.645344  1.466209 -0.239169\n",
      "1 -0.669016  0.289807  1.690039\n",
      "2       NaN       NaN       NaN\n",
      "3       NaN       NaN       NaN\n",
      "4       NaN       NaN       NaN\n",
      "5       NaN       NaN       NaN\n"
     ]
    }
   ],
   "source": [
    "print(df2.reindex_like(df1))"
   ]
  },
  {
   "cell_type": "code",
   "execution_count": 16,
   "metadata": {},
   "outputs": [
    {
     "name": "stdout",
     "output_type": "stream",
     "text": [
      "       col1      col2      col3\n",
      "0  0.645344  1.466209 -0.239169\n",
      "1 -0.669016  0.289807  1.690039\n",
      "2 -0.669016  0.289807  1.690039\n",
      "3 -0.669016  0.289807  1.690039\n",
      "4 -0.669016  0.289807  1.690039\n",
      "5 -0.669016  0.289807  1.690039\n"
     ]
    }
   ],
   "source": [
    "print(df2.reindex_like(df1,method='ffill'))"
   ]
  },
  {
   "cell_type": "markdown",
   "metadata": {},
   "source": [
    "##### 重建索引时的填充限制\n",
    "限制参数在重建索引时提供对填充的额外控制。限制指定连续匹配的最大计数"
   ]
  },
  {
   "cell_type": "code",
   "execution_count": 17,
   "metadata": {
    "scrolled": true
   },
   "outputs": [
    {
     "name": "stdout",
     "output_type": "stream",
     "text": [
      "       col1      col2      col3\n",
      "0  0.645344  1.466209 -0.239169\n",
      "1 -0.669016  0.289807  1.690039\n",
      "2 -0.669016  0.289807  1.690039\n",
      "3 -0.669016  0.289807  1.690039\n",
      "4       NaN       NaN       NaN\n",
      "5       NaN       NaN       NaN\n"
     ]
    }
   ],
   "source": [
    "print(df2.reindex_like(df1,method='ffill',limit=2))"
   ]
  },
  {
   "cell_type": "markdown",
   "metadata": {},
   "source": [
    "#### 重命名\n",
    "rename()方法允许基于一些映射(字典或者系列)或任意函数来重新标记一个轴"
   ]
  },
  {
   "cell_type": "code",
   "execution_count": 18,
   "metadata": {},
   "outputs": [
    {
     "name": "stdout",
     "output_type": "stream",
     "text": [
      "       col1      col2      col3\n",
      "0  0.607176 -0.859705  1.266207\n",
      "1  1.832341  1.472115 -0.069837\n",
      "2  0.828657  1.151359  0.254053\n",
      "3  0.205373  0.862467  3.031926\n",
      "4  0.441787 -1.308610  0.542002\n",
      "5 -0.249803 -0.664396  0.170352\n"
     ]
    }
   ],
   "source": [
    "df1 = pd.DataFrame(np.random.randn(6,3),columns=['col1','col2','col3'])\n",
    "print(df1)"
   ]
  },
  {
   "cell_type": "code",
   "execution_count": 20,
   "metadata": {},
   "outputs": [
    {
     "name": "stdout",
     "output_type": "stream",
     "text": [
      "              c1        c2      col3\n",
      "apple   0.607176 -0.859705  1.266207\n",
      "banana  1.832341  1.472115 -0.069837\n",
      "durian  0.828657  1.151359  0.254053\n",
      "3       0.205373  0.862467  3.031926\n",
      "4       0.441787 -1.308610  0.542002\n",
      "5      -0.249803 -0.664396  0.170352\n"
     ]
    }
   ],
   "source": [
    "print(df1.rename(columns={'col1':'c1','col2':'c2'},\n",
    "                index={0:'apple',1:'banana',2:'durian'}))"
   ]
  },
  {
   "cell_type": "code",
   "execution_count": null,
   "metadata": {},
   "outputs": [],
   "source": []
  }
 ],
 "metadata": {
  "kernelspec": {
   "display_name": "Python 3",
   "language": "python",
   "name": "python3"
  },
  "language_info": {
   "codemirror_mode": {
    "name": "ipython",
    "version": 3
   },
   "file_extension": ".py",
   "mimetype": "text/x-python",
   "name": "python",
   "nbconvert_exporter": "python",
   "pygments_lexer": "ipython3",
   "version": "3.7.0"
  }
 },
 "nbformat": 4,
 "nbformat_minor": 2
}
