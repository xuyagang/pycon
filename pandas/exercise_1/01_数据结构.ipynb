{
 "cells": [
  {
   "cell_type": "markdown",
   "metadata": {},
   "source": [
    "#### pandas提供了大量能使我们快速便捷地处理数据的函数和方法"
   ]
  },
  {
   "cell_type": "markdown",
   "metadata": {},
   "source": [
    "andas处理以下三个数据结构 \n",
    "- 系列(Series)\n",
    "- 数据帧(DataFrame)\n",
    "- 面板(Panel)\n",
    "\n",
    "较高维数据结构是其较低维数据结构的容器。 例如，DataFrame是Series的容器，Panel是DataFrame的容器。\n",
    "\n",
    "构建和处理两个或更多个维数组是一项繁琐的任务，用户在编写函数时要考虑数据集的方向。 但是使用Pandas数据结构，减少了用户的思考\n",
    "\n",
    "所有Pandas数据结构是值可变的(可以更改)，除了系列都是大小可变的。系列是大小不变的。"
   ]
  },
  {
   "cell_type": "markdown",
   "metadata": {},
   "source": [
    "##### series\n",
    "具有均匀数据的一维数组结构\n",
    "- 均匀数据\n",
    "- 尺寸大小不变\n",
    "- 数据的值可变"
   ]
  },
  {
   "cell_type": "markdown",
   "metadata": {},
   "source": [
    "##### DataFrame\n",
    "数据帧(DataFrame)是一个具有异构数据的二维数组\n",
    "- 异构数据\n",
    "- 大小可变\n",
    "- 数据可变"
   ]
  },
  {
   "cell_type": "markdown",
   "metadata": {},
   "source": [
    "##### Panel\n",
    "面板是具有异构数据的三维数据结构\n",
    "- 异构数据\n",
    "- 大小可变\n",
    "- 数据可变"
   ]
  },
  {
   "cell_type": "code",
   "execution_count": null,
   "metadata": {},
   "outputs": [],
   "source": []
  }
 ],
 "metadata": {
  "kernelspec": {
   "display_name": "Python 3",
   "language": "python",
   "name": "python3"
  },
  "language_info": {
   "codemirror_mode": {
    "name": "ipython",
    "version": 3
   },
   "file_extension": ".py",
   "mimetype": "text/x-python",
   "name": "python",
   "nbconvert_exporter": "python",
   "pygments_lexer": "ipython3",
   "version": "3.7.0"
  }
 },
 "nbformat": 4,
 "nbformat_minor": 2
}
