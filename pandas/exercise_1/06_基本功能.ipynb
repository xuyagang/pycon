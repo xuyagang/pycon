{
 "cells": [
  {
   "cell_type": "markdown",
   "metadata": {},
   "source": [
    "#### 系列基本功能\n",
    "- axes\t返回行轴标签列表\n",
    "- dtype\t返回对象的数据类型(dtype)\n",
    "- empty\t如果系列为空，则返回True\n",
    "- ndim\t返回底层数据的维数，默认定义：1\n",
    "- size\t返回基础数据中的元素数\n",
    "- values\t将系列作为ndarray返回\n",
    "- head()\t返回前n行\n",
    "- tail()\t返回最后n行"
   ]
  },
  {
   "cell_type": "code",
   "execution_count": 1,
   "metadata": {},
   "outputs": [],
   "source": [
    "import numpy as np\n",
    "import pandas as pd"
   ]
  },
  {
   "cell_type": "code",
   "execution_count": 6,
   "metadata": {},
   "outputs": [
    {
     "name": "stdout",
     "output_type": "stream",
     "text": [
      "0    0.768893\n",
      "1   -1.751479\n",
      "2   -0.323780\n",
      "3    0.595828\n",
      "dtype: float64\n"
     ]
    }
   ],
   "source": [
    "# create a series with 100 random numbers\n",
    "s = pd.Series(np.random.randn(4))\n",
    "print(s)"
   ]
  },
  {
   "cell_type": "code",
   "execution_count": 12,
   "metadata": {},
   "outputs": [
    {
     "name": "stdout",
     "output_type": "stream",
     "text": [
      "[RangeIndex(start=0, stop=4, step=1)]\n"
     ]
    }
   ],
   "source": [
    "# axes 返回标签列表\n",
    "print(s.axes)"
   ]
  },
  {
   "cell_type": "code",
   "execution_count": 8,
   "metadata": {},
   "outputs": [
    {
     "name": "stdout",
     "output_type": "stream",
     "text": [
      "False\n"
     ]
    }
   ],
   "source": [
    "# 返回布尔值，表示对象是否为空。返回True则表示对象为空\n",
    "print(s.empty)"
   ]
  },
  {
   "cell_type": "code",
   "execution_count": 9,
   "metadata": {},
   "outputs": [
    {
     "name": "stdout",
     "output_type": "stream",
     "text": [
      "1\n"
     ]
    }
   ],
   "source": [
    "# 返回对象的维数。根据定义，一个系列是一个1D数据结构\n",
    "print(s.ndim)"
   ]
  },
  {
   "cell_type": "code",
   "execution_count": 10,
   "metadata": {},
   "outputs": [
    {
     "name": "stdout",
     "output_type": "stream",
     "text": [
      "4\n"
     ]
    }
   ],
   "source": [
    "# 返回系列的大小(长度)\n",
    "print(s.size)"
   ]
  },
  {
   "cell_type": "code",
   "execution_count": 11,
   "metadata": {},
   "outputs": [
    {
     "name": "stdout",
     "output_type": "stream",
     "text": [
      "[ 0.76889307 -1.75147896 -0.32377983  0.59582834]\n",
      "<bound method IndexOpsMixin.value_counts of 0    0.768893\n",
      "1   -1.751479\n",
      "2   -0.323780\n",
      "3    0.595828\n",
      "dtype: float64>\n"
     ]
    }
   ],
   "source": [
    "# 以数组形式返回系列中的实际数据值\n",
    "print(s.values)\n",
    "# value_counts()是一种查看表格某列中有多少个不同值的快捷方法，并计算每个不同值有在该列中有多少重复值。\n",
    "print(s.value_counts)"
   ]
  },
  {
   "cell_type": "code",
   "execution_count": 13,
   "metadata": {},
   "outputs": [
    {
     "name": "stdout",
     "output_type": "stream",
     "text": [
      "0    0.768893\n",
      "1   -1.751479\n",
      "dtype: float64\n",
      "2   -0.323780\n",
      "3    0.595828\n",
      "dtype: float64\n"
     ]
    }
   ],
   "source": [
    "# 要查看Series或DataFrame对象的小样本，请使用head()和tail()方法\n",
    "# head()返回前n行\n",
    "# tail()返回最后n行\n",
    "print(s.head(2))\n",
    "print(s.tail(2))"
   ]
  },
  {
   "cell_type": "markdown",
   "metadata": {},
   "source": [
    "### DataFrame基本功能\n",
    "- T\t转置行和列\n",
    "- axes\t返回一个列，行轴标签和列轴标签作为唯一的成员\n",
    "- dtypes\t返回此对象中的数据类型(dtypes)\n",
    "- empty\t如果NDFrame完全为空[无项目]，则返回为True; 如果任何轴的长度为0\n",
    "- ndim\t轴/数组维度大小\n",
    "- shape\t返回表示DataFrame的维度的元组\n",
    "- size\tNDFrame中的元素数\n",
    "- values\tNDFrame的Numpy表示\n",
    "- head()\t返回开头前n行\n",
    "- tail()\t返回最后n行"
   ]
  },
  {
   "cell_type": "code",
   "execution_count": 14,
   "metadata": {},
   "outputs": [
    {
     "name": "stdout",
     "output_type": "stream",
     "text": [
      "    name  age  rating\n",
      "0    Tom   25    4.23\n",
      "1  James   26    3.24\n",
      "2  Ricky   25    3.98\n",
      "3    Vin   23    2.56\n",
      "4  Steve   30    3.20\n",
      "5  Minsu   29    4.60\n",
      "6   Jack   23    3.80\n"
     ]
    }
   ],
   "source": [
    "d = {'name':pd.Series(['Tom','James','Ricky','Vin','Steve','Minsu','Jack']),\n",
    "    'age':pd.Series([25,26,25,23,30,29,23]),\n",
    "    'rating':pd.Series([4.23,3.24,3.98,2.56,3.20,4.6,3.8])}\n",
    "df = pd.DataFrame(d)\n",
    "print(df)"
   ]
  },
  {
   "cell_type": "code",
   "execution_count": 15,
   "metadata": {},
   "outputs": [
    {
     "name": "stdout",
     "output_type": "stream",
     "text": [
      "           0      1      2     3      4      5     6\n",
      "name     Tom  James  Ricky   Vin  Steve  Minsu  Jack\n",
      "age       25     26     25    23     30     29    23\n",
      "rating  4.23   3.24   3.98  2.56    3.2    4.6   3.8\n"
     ]
    }
   ],
   "source": [
    "# T(转置)示例返回DataFrame的转置。行和列将交换\n",
    "\n",
    "print(df.T)"
   ]
  },
  {
   "cell_type": "code",
   "execution_count": 16,
   "metadata": {},
   "outputs": [
    {
     "name": "stdout",
     "output_type": "stream",
     "text": [
      "[RangeIndex(start=0, stop=7, step=1), Index(['name', 'age', 'rating'], dtype='object')]\n"
     ]
    }
   ],
   "source": [
    "# axes示例:返回行轴标签和列轴标签列表\n",
    "print(df.axes)"
   ]
  },
  {
   "cell_type": "code",
   "execution_count": 17,
   "metadata": {},
   "outputs": [
    {
     "name": "stdout",
     "output_type": "stream",
     "text": [
      "21\n"
     ]
    }
   ],
   "source": [
    "print(df.size)"
   ]
  },
  {
   "cell_type": "code",
   "execution_count": 18,
   "metadata": {},
   "outputs": [
    {
     "name": "stdout",
     "output_type": "stream",
     "text": [
      "[['Tom' 25 4.23]\n",
      " ['James' 26 3.24]\n",
      " ['Ricky' 25 3.98]\n",
      " ['Vin' 23 2.56]\n",
      " ['Steve' 30 3.2]\n",
      " ['Minsu' 29 4.6]\n",
      " ['Jack' 23 3.8]]\n"
     ]
    }
   ],
   "source": [
    "print(df.values)"
   ]
  },
  {
   "cell_type": "code",
   "execution_count": null,
   "metadata": {},
   "outputs": [],
   "source": []
  }
 ],
 "metadata": {
  "kernelspec": {
   "display_name": "Python 3",
   "language": "python",
   "name": "python3"
  },
  "language_info": {
   "codemirror_mode": {
    "name": "ipython",
    "version": 3
   },
   "file_extension": ".py",
   "mimetype": "text/x-python",
   "name": "python",
   "nbconvert_exporter": "python",
   "pygments_lexer": "ipython3",
   "version": "3.7.0"
  }
 },
 "nbformat": 4,
 "nbformat_minor": 2
}
