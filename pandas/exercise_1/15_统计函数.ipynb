{
 "cells": [
  {
   "cell_type": "markdown",
   "metadata": {},
   "source": [
    "##### 统计方法有助于理解和分析数据的行为"
   ]
  },
  {
   "cell_type": "code",
   "execution_count": 2,
   "metadata": {},
   "outputs": [],
   "source": [
    "import pandas as pd\n",
    "import numpy as np"
   ]
  },
  {
   "cell_type": "markdown",
   "metadata": {},
   "source": [
    "#### pct_change()\n",
    "此函数将每个元素与其前一个元素进行比较，并计算变化百分比"
   ]
  },
  {
   "cell_type": "code",
   "execution_count": 3,
   "metadata": {},
   "outputs": [
    {
     "name": "stdout",
     "output_type": "stream",
     "text": [
      "0    1\n",
      "1    2\n",
      "2    3\n",
      "3    4\n",
      "4    5\n",
      "5    4\n",
      "dtype: int64\n",
      "0         NaN\n",
      "1    1.000000\n",
      "2    0.500000\n",
      "3    0.333333\n",
      "4    0.250000\n",
      "5   -0.200000\n",
      "dtype: float64\n"
     ]
    }
   ],
   "source": [
    "s = pd.Series([1,2,3,4,5,4])\n",
    "print(s)\n",
    "print(s.pct_change())"
   ]
  },
  {
   "cell_type": "code",
   "execution_count": 4,
   "metadata": {},
   "outputs": [
    {
     "name": "stdout",
     "output_type": "stream",
     "text": [
      "          0         1\n",
      "0 -0.747259 -0.887362\n",
      "1  0.112792 -2.075690\n",
      "2  1.099312 -1.502084\n",
      "3 -0.832515 -0.956793\n",
      "4 -0.439081  0.815584\n",
      "          0         1\n",
      "0       NaN       NaN\n",
      "1 -1.150941  1.339169\n",
      "2  8.746370 -0.276345\n",
      "3 -1.757306 -0.363023\n",
      "4 -0.472585 -1.852414\n"
     ]
    }
   ],
   "source": [
    "df = pd.DataFrame(np.random.randn(5,2))\n",
    "print(df)\n",
    "print(df.pct_change())"
   ]
  },
  {
   "cell_type": "markdown",
   "metadata": {},
   "source": [
    "#### 协方差\n",
    "Series对象有一个方法cov用来计算序列对象之间的协方差。NA将被自动排除。"
   ]
  },
  {
   "cell_type": "code",
   "execution_count": 5,
   "metadata": {
    "scrolled": false
   },
   "outputs": [
    {
     "name": "stdout",
     "output_type": "stream",
     "text": [
      "0   -1.451090\n",
      "1   -0.306418\n",
      "2    0.683553\n",
      "3    0.526187\n",
      "4   -1.477250\n",
      "5   -0.665632\n",
      "6   -0.621975\n",
      "7    1.497105\n",
      "8    0.694618\n",
      "9    0.799649\n",
      "dtype: float64\n",
      "0    1.024354\n",
      "1    0.754664\n",
      "2   -0.791322\n",
      "3    0.475300\n",
      "4    0.535453\n",
      "5   -0.100175\n",
      "6   -0.042820\n",
      "7   -1.614471\n",
      "8    1.352680\n",
      "9    0.456267\n",
      "dtype: float64\n"
     ]
    }
   ],
   "source": [
    "s1 = pd.Series(np.random.randn(10))\n",
    "s2 = pd.Series(np.random.randn(10))\n",
    "print(s1)\n",
    "print(s2)"
   ]
  },
  {
   "cell_type": "code",
   "execution_count": 6,
   "metadata": {},
   "outputs": [
    {
     "name": "stdout",
     "output_type": "stream",
     "text": [
      "-0.41698902970580976\n"
     ]
    }
   ],
   "source": [
    "print(s1.cov(s2))"
   ]
  },
  {
   "cell_type": "code",
   "execution_count": 7,
   "metadata": {},
   "outputs": [
    {
     "name": "stdout",
     "output_type": "stream",
     "text": [
      "Help on function cov in module pandas.core.frame:\n",
      "\n",
      "cov(self, min_periods=None)\n",
      "    Compute pairwise covariance of columns, excluding NA/null values.\n",
      "    \n",
      "    Compute the pairwise covariance among the series of a DataFrame.\n",
      "    The returned data frame is the `covariance matrix\n",
      "    <https://en.wikipedia.org/wiki/Covariance_matrix>`__ of the columns\n",
      "    of the DataFrame.\n",
      "    \n",
      "    Both NA and null values are automatically excluded from the\n",
      "    calculation. (See the note below about bias from missing values.)\n",
      "    A threshold can be set for the minimum number of\n",
      "    observations for each value created. Comparisons with observations\n",
      "    below this threshold will be returned as ``NaN``.\n",
      "    \n",
      "    This method is generally used for the analysis of time series data to\n",
      "    understand the relationship between different measures\n",
      "    across time.\n",
      "    \n",
      "    Parameters\n",
      "    ----------\n",
      "    min_periods : int, optional\n",
      "        Minimum number of observations required per pair of columns\n",
      "        to have a valid result.\n",
      "    \n",
      "    Returns\n",
      "    -------\n",
      "    DataFrame\n",
      "        The covariance matrix of the series of the DataFrame.\n",
      "    \n",
      "    See Also\n",
      "    --------\n",
      "    pandas.Series.cov : compute covariance with another Series\n",
      "    pandas.core.window.EWM.cov: expoential weighted sample covariance\n",
      "    pandas.core.window.Expanding.cov : expanding sample covariance\n",
      "    pandas.core.window.Rolling.cov : rolling sample covariance\n",
      "    \n",
      "    Notes\n",
      "    -----\n",
      "    Returns the covariance matrix of the DataFrame's time series.\n",
      "    The covariance is normalized by N-1.\n",
      "    \n",
      "    For DataFrames that have Series that are missing data (assuming that\n",
      "    data is `missing at random\n",
      "    <https://en.wikipedia.org/wiki/Missing_data#Missing_at_random>`__)\n",
      "    the returned covariance matrix will be an unbiased estimate\n",
      "    of the variance and covariance between the member Series.\n",
      "    \n",
      "    However, for many applications this estimate may not be acceptable\n",
      "    because the estimate covariance matrix is not guaranteed to be positive\n",
      "    semi-definite. This could lead to estimate correlations having\n",
      "    absolute values which are greater than one, and/or a non-invertible\n",
      "    covariance matrix. See `Estimation of covariance matrices\n",
      "    <http://en.wikipedia.org/w/index.php?title=Estimation_of_covariance_\n",
      "    matrices>`__ for more details.\n",
      "    \n",
      "    Examples\n",
      "    --------\n",
      "    >>> df = pd.DataFrame([(1, 2), (0, 3), (2, 0), (1, 1)],\n",
      "    ...                   columns=['dogs', 'cats'])\n",
      "    >>> df.cov()\n",
      "              dogs      cats\n",
      "    dogs  0.666667 -1.000000\n",
      "    cats -1.000000  1.666667\n",
      "    \n",
      "    >>> np.random.seed(42)\n",
      "    >>> df = pd.DataFrame(np.random.randn(1000, 5),\n",
      "    ...                   columns=['a', 'b', 'c', 'd', 'e'])\n",
      "    >>> df.cov()\n",
      "              a         b         c         d         e\n",
      "    a  0.998438 -0.020161  0.059277 -0.008943  0.014144\n",
      "    b -0.020161  1.059352 -0.008543 -0.024738  0.009826\n",
      "    c  0.059277 -0.008543  1.010670 -0.001486 -0.000271\n",
      "    d -0.008943 -0.024738 -0.001486  0.921297 -0.013692\n",
      "    e  0.014144  0.009826 -0.000271 -0.013692  0.977795\n",
      "    \n",
      "    **Minimum number of periods**\n",
      "    \n",
      "    This method also supports an optional ``min_periods`` keyword\n",
      "    that specifies the required minimum number of non-NA observations for\n",
      "    each column pair in order to have a valid result:\n",
      "    \n",
      "    >>> np.random.seed(42)\n",
      "    >>> df = pd.DataFrame(np.random.randn(20, 3),\n",
      "    ...                   columns=['a', 'b', 'c'])\n",
      "    >>> df.loc[df.index[:5], 'a'] = np.nan\n",
      "    >>> df.loc[df.index[5:10], 'b'] = np.nan\n",
      "    >>> df.cov(min_periods=12)\n",
      "              a         b         c\n",
      "    a  0.316741       NaN -0.150812\n",
      "    b       NaN  1.248003  0.191417\n",
      "    c -0.150812  0.191417  0.895202\n",
      "\n",
      "None\n"
     ]
    }
   ],
   "source": [
    "print(help(pd.DataFrame.cov))"
   ]
  },
  {
   "cell_type": "markdown",
   "metadata": {},
   "source": [
    "##### 当应用于DataFrame时，协方差方法计算所有列之间的协方差(cov)值。"
   ]
  },
  {
   "cell_type": "code",
   "execution_count": 8,
   "metadata": {},
   "outputs": [
    {
     "name": "stdout",
     "output_type": "stream",
     "text": [
      "          a         b         c         d         e\n",
      "0 -0.703660 -1.514744 -0.885523 -2.222260 -0.070883\n",
      "1  0.697156  0.430342 -0.567606  0.688849 -0.787842\n",
      "2 -0.368070 -0.261166  1.458766  0.782605 -0.824378\n",
      "3  0.626566  0.835859 -0.064046 -0.505192 -0.820484\n",
      "4 -0.797495 -0.337524  0.055754 -1.758250 -0.186476\n",
      "5  0.573183 -0.125357 -0.453431  0.816166 -0.334878\n",
      "6 -0.529514  1.302971 -0.709794  0.281086  0.007070\n",
      "7  0.525901  0.406519 -0.473657  1.287054 -0.400794\n",
      "8  0.173768  0.405239  0.950309  0.905681 -2.566420\n",
      "9  0.338142 -1.093717  0.161111  2.275042  0.955446\n",
      "0.1560985052768006\n",
      "          a         b         c         d         e\n",
      "a  0.349614  0.156099 -0.031039  0.514149 -0.091233\n",
      "b  0.156099  0.733260 -0.022817  0.253661 -0.312403\n",
      "c -0.031039 -0.022817  0.564050  0.315061 -0.318265\n",
      "d  0.514149  0.253661  0.315061  1.902128  0.006347\n",
      "e -0.091233 -0.312403 -0.318265  0.006347  0.806198\n"
     ]
    }
   ],
   "source": [
    "frame = pd.DataFrame(np.random.randn(10,5), columns=['a', 'b', 'c', 'd', 'e'])\n",
    "print(frame)\n",
    "print(frame['a'].cov(frame['b']))\n",
    "print(frame.cov())"
   ]
  },
  {
   "cell_type": "markdown",
   "metadata": {},
   "source": [
    "#### 相关性\n",
    "相关性显示了任何两个数值(系列)之间的线性关系。有多种方法来计算pearson(默认)，spearman和kendall之间的相关性"
   ]
  },
  {
   "cell_type": "code",
   "execution_count": 9,
   "metadata": {},
   "outputs": [
    {
     "name": "stdout",
     "output_type": "stream",
     "text": [
      "          a         b         c         d         e\n",
      "0 -0.703660 -1.514744 -0.885523 -2.222260 -0.070883\n",
      "1  0.697156  0.430342 -0.567606  0.688849 -0.787842\n",
      "2 -0.368070 -0.261166  1.458766  0.782605 -0.824378\n",
      "3  0.626566  0.835859 -0.064046 -0.505192 -0.820484\n",
      "4 -0.797495 -0.337524  0.055754 -1.758250 -0.186476\n",
      "5  0.573183 -0.125357 -0.453431  0.816166 -0.334878\n",
      "6 -0.529514  1.302971 -0.709794  0.281086  0.007070\n",
      "7  0.525901  0.406519 -0.473657  1.287054 -0.400794\n",
      "8  0.173768  0.405239  0.950309  0.905681 -2.566420\n",
      "9  0.338142 -1.093717  0.161111  2.275042  0.955446\n",
      "0.30830118644704313\n",
      "          a         b         c         d         e\n",
      "a  1.000000  0.308301 -0.069897  0.630485 -0.171844\n",
      "b  0.308301  1.000000 -0.035480  0.214785 -0.406317\n",
      "c -0.069897 -0.035480  1.000000  0.304169 -0.471965\n",
      "d  0.630485  0.214785  0.304169  1.000000  0.005126\n",
      "e -0.171844 -0.406317 -0.471965  0.005126  1.000000\n"
     ]
    }
   ],
   "source": [
    "print(frame)\n",
    "print(frame['a'].corr(frame['b']))\n",
    "print(frame.corr())"
   ]
  },
  {
   "cell_type": "markdown",
   "metadata": {},
   "source": [
    "#### 数据排名\n",
    "数据排名为元素数组中的每个元素生成排名。在关系的情况下，分配平均等级\n",
    "\n",
    "Rank支持不同的tie-breaking方法，用方法参数指定 \n",
    "\n",
    "- average - 并列组平均排序等级\n",
    "- min - 组中最低的排序等\n",
    "- max - 组中最高的排序等级\n",
    "- first - 按照它们出现在数组中的顺序分配队列"
   ]
  },
  {
   "cell_type": "code",
   "execution_count": 10,
   "metadata": {},
   "outputs": [
    {
     "data": {
      "text/plain": [
       "a   -0.168469\n",
       "b    1.251046\n",
       "c   -0.907354\n",
       "d    1.251046\n",
       "e    0.922703\n",
       "dtype: float64"
      ]
     },
     "execution_count": 10,
     "metadata": {},
     "output_type": "execute_result"
    }
   ],
   "source": [
    "s = pd.Series(np.random.randn(5), index=list('abcde'))\n",
    "s['d'] = s['b']\n",
    "s"
   ]
  },
  {
   "cell_type": "code",
   "execution_count": 11,
   "metadata": {},
   "outputs": [
    {
     "name": "stdout",
     "output_type": "stream",
     "text": [
      "a    2.0\n",
      "b    4.5\n",
      "c    1.0\n",
      "d    4.5\n",
      "e    3.0\n",
      "dtype: float64\n"
     ]
    }
   ],
   "source": [
    "print(s.rank())"
   ]
  },
  {
   "cell_type": "code",
   "execution_count": null,
   "metadata": {},
   "outputs": [],
   "source": []
  },
  {
   "cell_type": "code",
   "execution_count": null,
   "metadata": {},
   "outputs": [],
   "source": []
  },
  {
   "cell_type": "code",
   "execution_count": null,
   "metadata": {},
   "outputs": [],
   "source": []
  }
 ],
 "metadata": {
  "kernelspec": {
   "display_name": "Python 3",
   "language": "python",
   "name": "python3"
  },
  "language_info": {
   "codemirror_mode": {
    "name": "ipython",
    "version": 3
   },
   "file_extension": ".py",
   "mimetype": "text/x-python",
   "name": "python",
   "nbconvert_exporter": "python",
   "pygments_lexer": "ipython3",
   "version": "3.7.0"
  }
 },
 "nbformat": 4,
 "nbformat_minor": 2
}
