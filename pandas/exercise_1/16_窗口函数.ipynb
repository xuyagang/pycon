{
 "cells": [
  {
   "cell_type": "raw",
   "metadata": {},
   "source": [
    "为了处理数字数据，Pandas提供了几个变体，如滚动，展开和指数移动窗口统计的权重。 其中包括总和，均值，中位数，方差，协方差，相关性等"
   ]
  },
  {
   "cell_type": "code",
   "execution_count": 2,
   "metadata": {},
   "outputs": [],
   "source": [
    "import numpy as np\n",
    "import pandas as pd"
   ]
  },
  {
   "cell_type": "markdown",
   "metadata": {},
   "source": [
    "#### .rolling()\n",
    "pd.DataFrame.rolling(self, window, min_periods=None, center=False, win_type=None, on=None, axis=0, closed=None)\n",
    "\n",
    "为了提升数据的准确性，将某个点的取值扩大到包含这个点的一段区间，用区间来进行判断，这个区间就是窗口。移动窗口就是窗口向一端滑行，默认是从右往左，每次滑行并不是区间整块的滑行，而是一个单位一个单位的滑行\n",
    "\n",
    "- rolling.count()\n",
    "- rolling.sum()\n",
    "- rolling.mean()\n",
    "- rolling.median()\n",
    "- rolling.var()\n",
    "- rolling.std()\n",
    "- rolling.min()\n",
    "- rolling.max()\n",
    "- rolling.corr()\n",
    "- rolling.cov()\n",
    "- rolling.skew()\n",
    "- rolling.kurt()\n",
    "- rolling.apply()\n",
    "- rolling.aggregate()\n",
    "- rolling.quantile()\n",
    "- window.mean()\n",
    "- window.sum()"
   ]
  },
  {
   "cell_type": "code",
   "execution_count": 8,
   "metadata": {},
   "outputs": [],
   "source": [
    "?pd.DataFrame.rolling"
   ]
  },
  {
   "cell_type": "code",
   "execution_count": 4,
   "metadata": {},
   "outputs": [
    {
     "data": {
      "text/html": [
       "<div>\n",
       "<style scoped>\n",
       "    .dataframe tbody tr th:only-of-type {\n",
       "        vertical-align: middle;\n",
       "    }\n",
       "\n",
       "    .dataframe tbody tr th {\n",
       "        vertical-align: top;\n",
       "    }\n",
       "\n",
       "    .dataframe thead th {\n",
       "        text-align: right;\n",
       "    }\n",
       "</style>\n",
       "<table border=\"1\" class=\"dataframe\">\n",
       "  <thead>\n",
       "    <tr style=\"text-align: right;\">\n",
       "      <th></th>\n",
       "      <th>A</th>\n",
       "      <th>B</th>\n",
       "      <th>C</th>\n",
       "      <th>D</th>\n",
       "    </tr>\n",
       "  </thead>\n",
       "  <tbody>\n",
       "    <tr>\n",
       "      <th>2020-01-01</th>\n",
       "      <td>-0.677624</td>\n",
       "      <td>0.532643</td>\n",
       "      <td>-0.743832</td>\n",
       "      <td>0.585472</td>\n",
       "    </tr>\n",
       "    <tr>\n",
       "      <th>2020-01-02</th>\n",
       "      <td>0.883832</td>\n",
       "      <td>-0.257482</td>\n",
       "      <td>0.974277</td>\n",
       "      <td>0.674554</td>\n",
       "    </tr>\n",
       "    <tr>\n",
       "      <th>2020-01-03</th>\n",
       "      <td>1.574149</td>\n",
       "      <td>-0.216789</td>\n",
       "      <td>-0.453324</td>\n",
       "      <td>-0.584092</td>\n",
       "    </tr>\n",
       "    <tr>\n",
       "      <th>2020-01-04</th>\n",
       "      <td>-0.822878</td>\n",
       "      <td>1.491618</td>\n",
       "      <td>-1.670234</td>\n",
       "      <td>-0.458146</td>\n",
       "    </tr>\n",
       "    <tr>\n",
       "      <th>2020-01-05</th>\n",
       "      <td>3.002026</td>\n",
       "      <td>-1.582740</td>\n",
       "      <td>-2.522191</td>\n",
       "      <td>-1.518793</td>\n",
       "    </tr>\n",
       "    <tr>\n",
       "      <th>2020-01-06</th>\n",
       "      <td>-1.726871</td>\n",
       "      <td>0.849565</td>\n",
       "      <td>0.573229</td>\n",
       "      <td>1.413285</td>\n",
       "    </tr>\n",
       "    <tr>\n",
       "      <th>2020-01-07</th>\n",
       "      <td>0.158200</td>\n",
       "      <td>-0.671495</td>\n",
       "      <td>-0.650608</td>\n",
       "      <td>-0.242980</td>\n",
       "    </tr>\n",
       "    <tr>\n",
       "      <th>2020-01-08</th>\n",
       "      <td>0.393098</td>\n",
       "      <td>0.915213</td>\n",
       "      <td>0.730224</td>\n",
       "      <td>-0.708156</td>\n",
       "    </tr>\n",
       "    <tr>\n",
       "      <th>2020-01-09</th>\n",
       "      <td>1.029165</td>\n",
       "      <td>0.415691</td>\n",
       "      <td>-0.291715</td>\n",
       "      <td>-2.210826</td>\n",
       "    </tr>\n",
       "    <tr>\n",
       "      <th>2020-01-10</th>\n",
       "      <td>0.913747</td>\n",
       "      <td>-0.001523</td>\n",
       "      <td>0.001213</td>\n",
       "      <td>-1.339052</td>\n",
       "    </tr>\n",
       "  </tbody>\n",
       "</table>\n",
       "</div>"
      ],
      "text/plain": [
       "                   A         B         C         D\n",
       "2020-01-01 -0.677624  0.532643 -0.743832  0.585472\n",
       "2020-01-02  0.883832 -0.257482  0.974277  0.674554\n",
       "2020-01-03  1.574149 -0.216789 -0.453324 -0.584092\n",
       "2020-01-04 -0.822878  1.491618 -1.670234 -0.458146\n",
       "2020-01-05  3.002026 -1.582740 -2.522191 -1.518793\n",
       "2020-01-06 -1.726871  0.849565  0.573229  1.413285\n",
       "2020-01-07  0.158200 -0.671495 -0.650608 -0.242980\n",
       "2020-01-08  0.393098  0.915213  0.730224 -0.708156\n",
       "2020-01-09  1.029165  0.415691 -0.291715 -2.210826\n",
       "2020-01-10  0.913747 -0.001523  0.001213 -1.339052"
      ]
     },
     "execution_count": 4,
     "metadata": {},
     "output_type": "execute_result"
    }
   ],
   "source": [
    "df = pd.DataFrame(np.random.randn(10,4),\n",
    "                 index=pd.date_range('1/1/2020',periods=10),\n",
    "                 columns=['A', 'B', 'C', 'D'\n",
    "])\n",
    "df"
   ]
  },
  {
   "cell_type": "code",
   "execution_count": 5,
   "metadata": {},
   "outputs": [
    {
     "name": "stdout",
     "output_type": "stream",
     "text": [
      "                   A         B         C         D\n",
      "2020-01-01       NaN       NaN       NaN       NaN\n",
      "2020-01-02  0.103104  0.137581  0.115222  0.630013\n",
      "2020-01-03  1.228991 -0.237135  0.260477  0.045231\n",
      "2020-01-04  0.375635  0.637414 -1.061779 -0.521119\n",
      "2020-01-05  1.089574 -0.045561 -2.096213 -0.988470\n",
      "2020-01-06  0.637578 -0.366588 -0.974481 -0.052754\n",
      "2020-01-07 -0.784336  0.089035 -0.038689  0.585152\n",
      "2020-01-08  0.275649  0.121859  0.039808 -0.475568\n",
      "2020-01-09  0.711132  0.665452  0.219254 -1.459491\n",
      "2020-01-10  0.971456  0.207084 -0.145251 -1.774939\n"
     ]
    }
   ],
   "source": [
    "print(df.rolling(window=2).mean())"
   ]
  },
  {
   "cell_type": "markdown",
   "metadata": {},
   "source": [
    "#### .expanding()\n",
    "\n",
    "- expanding.count()\n",
    "- expanding.sum()\n",
    "- expanding.mean()\n",
    "- expanding.median()\n",
    "- expanding.ver()\n",
    "- expanding.std()\n",
    "- expanding.min()\n",
    "- expanding.max()\n",
    "- expanding.corr()\n",
    "- expanding.cov()\n",
    "- expanding.skew()\n",
    "- expanding.kurt()\n",
    "- expanding.apply()\n",
    "- expanding.aggregate()\n",
    "- expanding.quantile()"
   ]
  },
  {
   "cell_type": "code",
   "execution_count": 6,
   "metadata": {},
   "outputs": [
    {
     "name": "stdout",
     "output_type": "stream",
     "text": [
      "                   A         B         C         D\n",
      "2020-01-01       NaN       NaN       NaN       NaN\n",
      "2020-01-02       NaN       NaN       NaN       NaN\n",
      "2020-01-03  0.593453  0.019457 -0.074293  0.225311\n",
      "2020-01-04  0.239370  0.387498 -0.473278  0.054447\n",
      "2020-01-05  0.791901 -0.006550 -0.883061 -0.260201\n",
      "2020-01-06  0.372106  0.136136 -0.640346  0.018713\n",
      "2020-01-07  0.341548  0.020760 -0.641812 -0.018672\n",
      "2020-01-08  0.347992  0.132567 -0.470307 -0.104857\n",
      "2020-01-09  0.423678  0.164025 -0.450464 -0.338854\n",
      "2020-01-10  0.472684  0.147470 -0.405296 -0.438873\n"
     ]
    }
   ],
   "source": [
    "print(df.expanding(min_periods=3).mean())"
   ]
  },
  {
   "cell_type": "markdown",
   "metadata": {},
   "source": [
    "#### .ewm()"
   ]
  },
  {
   "cell_type": "code",
   "execution_count": 7,
   "metadata": {},
   "outputs": [
    {
     "data": {
      "text/html": [
       "<div>\n",
       "<style scoped>\n",
       "    .dataframe tbody tr th:only-of-type {\n",
       "        vertical-align: middle;\n",
       "    }\n",
       "\n",
       "    .dataframe tbody tr th {\n",
       "        vertical-align: top;\n",
       "    }\n",
       "\n",
       "    .dataframe thead th {\n",
       "        text-align: right;\n",
       "    }\n",
       "</style>\n",
       "<table border=\"1\" class=\"dataframe\">\n",
       "  <thead>\n",
       "    <tr style=\"text-align: right;\">\n",
       "      <th></th>\n",
       "      <th>A</th>\n",
       "      <th>B</th>\n",
       "      <th>C</th>\n",
       "      <th>D</th>\n",
       "    </tr>\n",
       "  </thead>\n",
       "  <tbody>\n",
       "    <tr>\n",
       "      <th>2020-01-01</th>\n",
       "      <td>-0.677624</td>\n",
       "      <td>0.532643</td>\n",
       "      <td>-0.743832</td>\n",
       "      <td>0.585472</td>\n",
       "    </tr>\n",
       "    <tr>\n",
       "      <th>2020-01-02</th>\n",
       "      <td>0.493468</td>\n",
       "      <td>-0.059950</td>\n",
       "      <td>0.544750</td>\n",
       "      <td>0.652283</td>\n",
       "    </tr>\n",
       "    <tr>\n",
       "      <th>2020-01-03</th>\n",
       "      <td>1.241632</td>\n",
       "      <td>-0.168531</td>\n",
       "      <td>-0.146224</td>\n",
       "      <td>-0.203669</td>\n",
       "    </tr>\n",
       "    <tr>\n",
       "      <th>2020-01-04</th>\n",
       "      <td>-0.151913</td>\n",
       "      <td>0.952069</td>\n",
       "      <td>-1.174931</td>\n",
       "      <td>-0.375441</td>\n",
       "    </tr>\n",
       "    <tr>\n",
       "      <th>2020-01-05</th>\n",
       "      <td>1.959402</td>\n",
       "      <td>-0.744787</td>\n",
       "      <td>-2.076816</td>\n",
       "      <td>-1.140826</td>\n",
       "    </tr>\n",
       "    <tr>\n",
       "      <th>2020-01-06</th>\n",
       "      <td>-0.501489</td>\n",
       "      <td>0.319574</td>\n",
       "      <td>-0.307693</td>\n",
       "      <td>0.564253</td>\n",
       "    </tr>\n",
       "    <tr>\n",
       "      <th>2020-01-07</th>\n",
       "      <td>-0.061495</td>\n",
       "      <td>-0.341441</td>\n",
       "      <td>-0.536407</td>\n",
       "      <td>0.025852</td>\n",
       "    </tr>\n",
       "    <tr>\n",
       "      <th>2020-01-08</th>\n",
       "      <td>0.241613</td>\n",
       "      <td>0.496456</td>\n",
       "      <td>0.308142</td>\n",
       "      <td>-0.463561</td>\n",
       "    </tr>\n",
       "    <tr>\n",
       "      <th>2020-01-09</th>\n",
       "      <td>0.766675</td>\n",
       "      <td>0.442610</td>\n",
       "      <td>-0.091783</td>\n",
       "      <td>-1.628463</td>\n",
       "    </tr>\n",
       "    <tr>\n",
       "      <th>2020-01-10</th>\n",
       "      <td>0.864724</td>\n",
       "      <td>0.146516</td>\n",
       "      <td>-0.029785</td>\n",
       "      <td>-1.435519</td>\n",
       "    </tr>\n",
       "  </tbody>\n",
       "</table>\n",
       "</div>"
      ],
      "text/plain": [
       "                   A         B         C         D\n",
       "2020-01-01 -0.677624  0.532643 -0.743832  0.585472\n",
       "2020-01-02  0.493468 -0.059950  0.544750  0.652283\n",
       "2020-01-03  1.241632 -0.168531 -0.146224 -0.203669\n",
       "2020-01-04 -0.151913  0.952069 -1.174931 -0.375441\n",
       "2020-01-05  1.959402 -0.744787 -2.076816 -1.140826\n",
       "2020-01-06 -0.501489  0.319574 -0.307693  0.564253\n",
       "2020-01-07 -0.061495 -0.341441 -0.536407  0.025852\n",
       "2020-01-08  0.241613  0.496456  0.308142 -0.463561\n",
       "2020-01-09  0.766675  0.442610 -0.091783 -1.628463\n",
       "2020-01-10  0.864724  0.146516 -0.029785 -1.435519"
      ]
     },
     "execution_count": 7,
     "metadata": {},
     "output_type": "execute_result"
    }
   ],
   "source": [
    "df.ewm(com=0.5).mean()"
   ]
  },
  {
   "cell_type": "code",
   "execution_count": null,
   "metadata": {},
   "outputs": [],
   "source": []
  }
 ],
 "metadata": {
  "kernelspec": {
   "display_name": "Python 3",
   "language": "python",
   "name": "python3"
  },
  "language_info": {
   "codemirror_mode": {
    "name": "ipython",
    "version": 3
   },
   "file_extension": ".py",
   "mimetype": "text/x-python",
   "name": "python",
   "nbconvert_exporter": "python",
   "pygments_lexer": "ipython3",
   "version": "3.7.0"
  }
 },
 "nbformat": 4,
 "nbformat_minor": 2
}
