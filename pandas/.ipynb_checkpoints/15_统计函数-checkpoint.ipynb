{
 "cells": [
  {
   "cell_type": "markdown",
   "metadata": {},
   "source": [
    "##### 统计方法有助于理解和分析数据的行为"
   ]
  },
  {
   "cell_type": "code",
   "execution_count": 1,
   "metadata": {},
   "outputs": [],
   "source": [
    "import pandas as pd\n",
    "import numpy as np"
   ]
  },
  {
   "cell_type": "markdown",
   "metadata": {},
   "source": [
    "#### pct_change()\n",
    "此函数将每个元素与其前一个元素进行比较，并计算变化百分比"
   ]
  },
  {
   "cell_type": "code",
   "execution_count": 2,
   "metadata": {},
   "outputs": [
    {
     "name": "stdout",
     "output_type": "stream",
     "text": [
      "0    1\n",
      "1    2\n",
      "2    3\n",
      "3    4\n",
      "4    5\n",
      "5    4\n",
      "dtype: int64\n",
      "0         NaN\n",
      "1    1.000000\n",
      "2    0.500000\n",
      "3    0.333333\n",
      "4    0.250000\n",
      "5   -0.200000\n",
      "dtype: float64\n"
     ]
    }
   ],
   "source": [
    "s = pd.Series([1,2,3,4,5,4])\n",
    "print(s)\n",
    "print(s.pct_change())"
   ]
  },
  {
   "cell_type": "code",
   "execution_count": 3,
   "metadata": {},
   "outputs": [
    {
     "name": "stdout",
     "output_type": "stream",
     "text": [
      "          0         1\n",
      "0  1.047755 -0.902037\n",
      "1  0.574110  1.068281\n",
      "2 -1.570391 -1.684186\n",
      "3 -0.827252 -1.561630\n",
      "4 -0.924718 -0.911742\n",
      "          0         1\n",
      "0       NaN       NaN\n",
      "1 -0.452057 -2.184298\n",
      "2 -3.735347 -2.576538\n",
      "3 -0.473219 -0.072769\n",
      "4  0.117818 -0.416160\n"
     ]
    }
   ],
   "source": [
    "df = pd.DataFrame(np.random.randn(5,2))\n",
    "print(df)\n",
    "print(df.pct_change())"
   ]
  },
  {
   "cell_type": "markdown",
   "metadata": {},
   "source": [
    "#### 协方差\n",
    "Series对象有一个方法cov用来计算序列对象之间的协方差。NA将被自动排除。"
   ]
  },
  {
   "cell_type": "code",
   "execution_count": 7,
   "metadata": {},
   "outputs": [
    {
     "name": "stdout",
     "output_type": "stream",
     "text": [
      "0   -0.955514\n",
      "1    0.315436\n",
      "2   -0.167226\n",
      "3   -0.704854\n",
      "4    0.766544\n",
      "5   -1.584474\n",
      "6    0.267582\n",
      "7   -0.617931\n",
      "8    1.693813\n",
      "9    0.699864\n",
      "dtype: float64\n",
      "0   -0.803392\n",
      "1    0.041531\n",
      "2   -0.928118\n",
      "3   -1.330413\n",
      "4   -0.625608\n",
      "5   -0.515786\n",
      "6   -1.001059\n",
      "7   -2.569825\n",
      "8    0.609901\n",
      "9   -2.089757\n",
      "dtype: float64\n"
     ]
    }
   ],
   "source": [
    "s1 = pd.Series(np.random.randn(10))\n",
    "s2 = pd.Series(np.random.randn(10))\n",
    "print(s1)\n",
    "print(s2)"
   ]
  },
  {
   "cell_type": "code",
   "execution_count": 8,
   "metadata": {},
   "outputs": [
    {
     "name": "stdout",
     "output_type": "stream",
     "text": [
      "0.31531588800713495\n"
     ]
    }
   ],
   "source": [
    "print(s1.cov(s2))"
   ]
  },
  {
   "cell_type": "markdown",
   "metadata": {},
   "source": [
    "##### 当应用于DataFrame时，协方差方法计算所有列之间的协方差(cov)值。"
   ]
  },
  {
   "cell_type": "code",
   "execution_count": 11,
   "metadata": {},
   "outputs": [
    {
     "name": "stdout",
     "output_type": "stream",
     "text": [
      "          a         b         c         d         e\n",
      "0  1.699501  0.614042 -0.354822  0.828747 -0.292708\n",
      "1 -1.613300 -0.210075 -0.046507  0.457616  0.386191\n",
      "2 -0.921647 -1.124952 -0.145588 -0.196851 -1.345305\n",
      "3 -0.365916  1.139972 -0.650955 -1.333227  0.443523\n",
      "4  1.434953 -0.033024  2.462441 -0.409308  0.016077\n",
      "5 -0.149650 -1.039498 -2.174251 -0.211683  1.558303\n",
      "6  0.782164 -2.050544 -0.927806  0.876850 -0.038256\n",
      "7  2.327593  1.937128  0.139896  0.600984  1.005344\n",
      "8 -0.221105 -0.172807 -0.808411 -0.655769  0.437150\n",
      "9 -0.435836 -0.749290  1.306850 -1.003377  0.284053\n",
      "0.645395130176195\n",
      "          a         b         c         d         e\n",
      "a  1.575628  0.645395  0.357394  0.412904  0.134890\n",
      "b  0.645395  1.370120  0.280429 -0.066384  0.254429\n",
      "c  0.357394  0.280429  1.606886 -0.178055 -0.318582\n",
      "d  0.412904 -0.066384 -0.178055  0.598028 -0.052566\n",
      "e  0.134890  0.254429 -0.318582 -0.052566  0.594613\n"
     ]
    }
   ],
   "source": [
    "frame = pd.DataFrame(np.random.randn(10,5), columns=['a', 'b', 'c', 'd', 'e'])\n",
    "print(frame)\n",
    "print(frame['a'].cov(frame['b']))\n",
    "print(frame.cov())"
   ]
  },
  {
   "cell_type": "markdown",
   "metadata": {},
   "source": [
    "#### 相关性\n",
    "相关性显示了任何两个数值(系列)之间的线性关系。有多种方法来计算pearson(默认)，spearman和kendall之间的相关性"
   ]
  },
  {
   "cell_type": "code",
   "execution_count": 12,
   "metadata": {},
   "outputs": [
    {
     "name": "stdout",
     "output_type": "stream",
     "text": [
      "          a         b         c         d         e\n",
      "0  1.699501  0.614042 -0.354822  0.828747 -0.292708\n",
      "1 -1.613300 -0.210075 -0.046507  0.457616  0.386191\n",
      "2 -0.921647 -1.124952 -0.145588 -0.196851 -1.345305\n",
      "3 -0.365916  1.139972 -0.650955 -1.333227  0.443523\n",
      "4  1.434953 -0.033024  2.462441 -0.409308  0.016077\n",
      "5 -0.149650 -1.039498 -2.174251 -0.211683  1.558303\n",
      "6  0.782164 -2.050544 -0.927806  0.876850 -0.038256\n",
      "7  2.327593  1.937128  0.139896  0.600984  1.005344\n",
      "8 -0.221105 -0.172807 -0.808411 -0.655769  0.437150\n",
      "9 -0.435836 -0.749290  1.306850 -1.003377  0.284053\n",
      "0.4392578854608845\n",
      "          a         b         c         d         e\n",
      "a  1.000000  0.439258  0.224609  0.425365  0.139359\n",
      "b  0.439258  1.000000  0.188996 -0.073337  0.281884\n",
      "c  0.224609  0.188996  1.000000 -0.181635 -0.325920\n",
      "d  0.425365 -0.073337 -0.181635  1.000000 -0.088151\n",
      "e  0.139359  0.281884 -0.325920 -0.088151  1.000000\n"
     ]
    }
   ],
   "source": [
    "print(frame)\n",
    "print(frame['a'].corr(frame['b']))\n",
    "print(frame.corr())"
   ]
  },
  {
   "cell_type": "markdown",
   "metadata": {},
   "source": [
    "#### 数据排名\n",
    "数据排名为元素数组中的每个元素生成排名。在关系的情况下，分配平均等级\n",
    "\n",
    "Rank支持不同的tie-breaking方法，用方法参数指定 \n",
    "\n",
    "- average - 并列组平均排序等级\n",
    "- min - 组中最低的排序等\n",
    "- max - 组中最高的排序等级\n",
    "- first - 按照它们出现在数组中的顺序分配队列"
   ]
  },
  {
   "cell_type": "code",
   "execution_count": 16,
   "metadata": {},
   "outputs": [
    {
     "data": {
      "text/plain": [
       "a    0.367734\n",
       "b   -0.562750\n",
       "c    2.570850\n",
       "d   -0.562750\n",
       "e   -0.854715\n",
       "dtype: float64"
      ]
     },
     "execution_count": 16,
     "metadata": {},
     "output_type": "execute_result"
    }
   ],
   "source": [
    "s = pd.Series(np.random.randn(5), index=list('abcde'))\n",
    "s['d'] = s['b']\n",
    "s"
   ]
  },
  {
   "cell_type": "code",
   "execution_count": 17,
   "metadata": {},
   "outputs": [
    {
     "name": "stdout",
     "output_type": "stream",
     "text": [
      "a    4.0\n",
      "b    2.5\n",
      "c    5.0\n",
      "d    2.5\n",
      "e    1.0\n",
      "dtype: float64\n"
     ]
    }
   ],
   "source": [
    "print(s.rank())"
   ]
  },
  {
   "cell_type": "code",
   "execution_count": null,
   "metadata": {},
   "outputs": [],
   "source": []
  },
  {
   "cell_type": "code",
   "execution_count": null,
   "metadata": {},
   "outputs": [],
   "source": []
  },
  {
   "cell_type": "code",
   "execution_count": null,
   "metadata": {},
   "outputs": [],
   "source": []
  }
 ],
 "metadata": {
  "kernelspec": {
   "display_name": "Python 3",
   "language": "python",
   "name": "python3"
  },
  "language_info": {
   "codemirror_mode": {
    "name": "ipython",
    "version": 3
   },
   "file_extension": ".py",
   "mimetype": "text/x-python",
   "name": "python",
   "nbconvert_exporter": "python",
   "pygments_lexer": "ipython3",
   "version": "3.7.0"
  }
 },
 "nbformat": 4,
 "nbformat_minor": 2
}
