{
 "cells": [
  {
   "cell_type": "code",
   "execution_count": 1,
   "metadata": {},
   "outputs": [],
   "source": [
    "import numpy as np\n",
    "import pandas as pd"
   ]
  },
  {
   "cell_type": "markdown",
   "metadata": {},
   "source": [
    "#### Pandas现在支持三种类型的多轴索引\n",
    "- .loc     基于标签\n",
    "- .iloc    基于整数\n",
    "- .ix     基于标签和整数"
   ]
  },
  {
   "cell_type": "code",
   "execution_count": 4,
   "metadata": {},
   "outputs": [
    {
     "data": {
      "text/html": [
       "<div>\n",
       "<style scoped>\n",
       "    .dataframe tbody tr th:only-of-type {\n",
       "        vertical-align: middle;\n",
       "    }\n",
       "\n",
       "    .dataframe tbody tr th {\n",
       "        vertical-align: top;\n",
       "    }\n",
       "\n",
       "    .dataframe thead th {\n",
       "        text-align: right;\n",
       "    }\n",
       "</style>\n",
       "<table border=\"1\" class=\"dataframe\">\n",
       "  <thead>\n",
       "    <tr style=\"text-align: right;\">\n",
       "      <th></th>\n",
       "      <th>A</th>\n",
       "      <th>B</th>\n",
       "      <th>C</th>\n",
       "      <th>D</th>\n",
       "    </tr>\n",
       "  </thead>\n",
       "  <tbody>\n",
       "    <tr>\n",
       "      <th>a</th>\n",
       "      <td>0.125916</td>\n",
       "      <td>0.475352</td>\n",
       "      <td>0.221792</td>\n",
       "      <td>0.218378</td>\n",
       "    </tr>\n",
       "    <tr>\n",
       "      <th>b</th>\n",
       "      <td>-0.494115</td>\n",
       "      <td>-1.748760</td>\n",
       "      <td>-0.865947</td>\n",
       "      <td>1.688864</td>\n",
       "    </tr>\n",
       "    <tr>\n",
       "      <th>c</th>\n",
       "      <td>-0.045945</td>\n",
       "      <td>0.714812</td>\n",
       "      <td>0.465002</td>\n",
       "      <td>-0.165955</td>\n",
       "    </tr>\n",
       "    <tr>\n",
       "      <th>d</th>\n",
       "      <td>-0.175863</td>\n",
       "      <td>-0.102781</td>\n",
       "      <td>0.595543</td>\n",
       "      <td>1.058762</td>\n",
       "    </tr>\n",
       "    <tr>\n",
       "      <th>e</th>\n",
       "      <td>-0.422683</td>\n",
       "      <td>0.116108</td>\n",
       "      <td>0.435662</td>\n",
       "      <td>-0.479290</td>\n",
       "    </tr>\n",
       "    <tr>\n",
       "      <th>f</th>\n",
       "      <td>0.276660</td>\n",
       "      <td>-1.672454</td>\n",
       "      <td>-0.644499</td>\n",
       "      <td>-0.389559</td>\n",
       "    </tr>\n",
       "    <tr>\n",
       "      <th>g</th>\n",
       "      <td>-0.251339</td>\n",
       "      <td>1.382029</td>\n",
       "      <td>1.116166</td>\n",
       "      <td>-1.500624</td>\n",
       "    </tr>\n",
       "    <tr>\n",
       "      <th>h</th>\n",
       "      <td>1.146690</td>\n",
       "      <td>-0.120183</td>\n",
       "      <td>1.527530</td>\n",
       "      <td>0.419149</td>\n",
       "    </tr>\n",
       "  </tbody>\n",
       "</table>\n",
       "</div>"
      ],
      "text/plain": [
       "          A         B         C         D\n",
       "a  0.125916  0.475352  0.221792  0.218378\n",
       "b -0.494115 -1.748760 -0.865947  1.688864\n",
       "c -0.045945  0.714812  0.465002 -0.165955\n",
       "d -0.175863 -0.102781  0.595543  1.058762\n",
       "e -0.422683  0.116108  0.435662 -0.479290\n",
       "f  0.276660 -1.672454 -0.644499 -0.389559\n",
       "g -0.251339  1.382029  1.116166 -1.500624\n",
       "h  1.146690 -0.120183  1.527530  0.419149"
      ]
     },
     "execution_count": 4,
     "metadata": {},
     "output_type": "execute_result"
    }
   ],
   "source": [
    "df = pd.DataFrame(np.random.randn(8,4),\n",
    "                 index=['a','b','c','d','e','f','g','h'],\n",
    "                  columns = ['A', 'B', 'C', 'D'])\n",
    "df"
   ]
  },
  {
   "cell_type": "markdown",
   "metadata": {},
   "source": [
    "##### .loc()\n",
    "- 需要两个参数，第一个表示行，第二个表示列\n",
    "- 输入一个参数时选择行"
   ]
  },
  {
   "cell_type": "code",
   "execution_count": 8,
   "metadata": {},
   "outputs": [
    {
     "name": "stdout",
     "output_type": "stream",
     "text": [
      "a    0.221792\n",
      "b   -0.865947\n",
      "c    0.465002\n",
      "d    0.595543\n",
      "e    0.435662\n",
      "f   -0.644499\n",
      "g    1.116166\n",
      "h    1.527530\n",
      "Name: C, dtype: float64\n"
     ]
    }
   ],
   "source": [
    "print(df.loc[:,'C'])"
   ]
  },
  {
   "cell_type": "code",
   "execution_count": 11,
   "metadata": {},
   "outputs": [
    {
     "name": "stdout",
     "output_type": "stream",
     "text": [
      "          A         C\n",
      "b -0.494115 -0.865947\n",
      "e -0.422683  0.435662\n"
     ]
    }
   ],
   "source": [
    "print(df.loc[['b','e'],['A','C']])"
   ]
  },
  {
   "cell_type": "code",
   "execution_count": 12,
   "metadata": {},
   "outputs": [
    {
     "name": "stdout",
     "output_type": "stream",
     "text": [
      "          A         B         C         D\n",
      "a  0.125916  0.475352  0.221792  0.218378\n",
      "b -0.494115 -1.748760 -0.865947  1.688864\n",
      "c -0.045945  0.714812  0.465002 -0.165955\n",
      "d -0.175863 -0.102781  0.595543  1.058762\n",
      "e -0.422683  0.116108  0.435662 -0.479290\n"
     ]
    }
   ],
   "source": [
    "print(df.loc['a':'e'])"
   ]
  },
  {
   "cell_type": "code",
   "execution_count": 14,
   "metadata": {},
   "outputs": [
    {
     "name": "stdout",
     "output_type": "stream",
     "text": [
      "A    False\n",
      "B    False\n",
      "C    False\n",
      "D     True\n",
      "Name: b, dtype: bool\n"
     ]
    }
   ],
   "source": [
    "print(df.loc['b'] > 0)"
   ]
  },
  {
   "cell_type": "code",
   "execution_count": 16,
   "metadata": {},
   "outputs": [
    {
     "name": "stdout",
     "output_type": "stream",
     "text": [
      "D    1.688864\n",
      "Name: b, dtype: float64\n"
     ]
    }
   ],
   "source": [
    "print(df.loc['b'][df.loc['b'] > 0])"
   ]
  },
  {
   "cell_type": "code",
   "execution_count": 22,
   "metadata": {},
   "outputs": [
    {
     "name": "stdout",
     "output_type": "stream",
     "text": [
      "a     True\n",
      "b    False\n",
      "c    False\n",
      "d    False\n",
      "e    False\n",
      "f     True\n",
      "g    False\n",
      "h     True\n",
      "Name: A, dtype: bool\n"
     ]
    }
   ],
   "source": [
    "print(df.loc[:,'A'] > 0)"
   ]
  },
  {
   "cell_type": "markdown",
   "metadata": {},
   "source": [
    "##### .iloc\n",
    "纯整数索引"
   ]
  },
  {
   "cell_type": "code",
   "execution_count": 23,
   "metadata": {},
   "outputs": [
    {
     "data": {
      "text/html": [
       "<div>\n",
       "<style scoped>\n",
       "    .dataframe tbody tr th:only-of-type {\n",
       "        vertical-align: middle;\n",
       "    }\n",
       "\n",
       "    .dataframe tbody tr th {\n",
       "        vertical-align: top;\n",
       "    }\n",
       "\n",
       "    .dataframe thead th {\n",
       "        text-align: right;\n",
       "    }\n",
       "</style>\n",
       "<table border=\"1\" class=\"dataframe\">\n",
       "  <thead>\n",
       "    <tr style=\"text-align: right;\">\n",
       "      <th></th>\n",
       "      <th>A</th>\n",
       "      <th>B</th>\n",
       "      <th>C</th>\n",
       "      <th>D</th>\n",
       "    </tr>\n",
       "  </thead>\n",
       "  <tbody>\n",
       "    <tr>\n",
       "      <th>0</th>\n",
       "      <td>-1.090718</td>\n",
       "      <td>0.254269</td>\n",
       "      <td>-0.909619</td>\n",
       "      <td>1.720310</td>\n",
       "    </tr>\n",
       "    <tr>\n",
       "      <th>1</th>\n",
       "      <td>0.129194</td>\n",
       "      <td>0.084971</td>\n",
       "      <td>-1.198115</td>\n",
       "      <td>-0.856544</td>\n",
       "    </tr>\n",
       "    <tr>\n",
       "      <th>2</th>\n",
       "      <td>-1.650031</td>\n",
       "      <td>-0.370692</td>\n",
       "      <td>0.828190</td>\n",
       "      <td>-1.263205</td>\n",
       "    </tr>\n",
       "    <tr>\n",
       "      <th>3</th>\n",
       "      <td>-0.853226</td>\n",
       "      <td>0.070118</td>\n",
       "      <td>2.896814</td>\n",
       "      <td>-0.585147</td>\n",
       "    </tr>\n",
       "    <tr>\n",
       "      <th>4</th>\n",
       "      <td>-0.205723</td>\n",
       "      <td>0.115824</td>\n",
       "      <td>1.159482</td>\n",
       "      <td>0.379207</td>\n",
       "    </tr>\n",
       "    <tr>\n",
       "      <th>5</th>\n",
       "      <td>-1.424121</td>\n",
       "      <td>-0.017419</td>\n",
       "      <td>-1.183574</td>\n",
       "      <td>-0.346212</td>\n",
       "    </tr>\n",
       "    <tr>\n",
       "      <th>6</th>\n",
       "      <td>-0.604628</td>\n",
       "      <td>0.359756</td>\n",
       "      <td>-0.047044</td>\n",
       "      <td>0.763839</td>\n",
       "    </tr>\n",
       "    <tr>\n",
       "      <th>7</th>\n",
       "      <td>-0.838696</td>\n",
       "      <td>-0.893007</td>\n",
       "      <td>0.377517</td>\n",
       "      <td>0.090746</td>\n",
       "    </tr>\n",
       "  </tbody>\n",
       "</table>\n",
       "</div>"
      ],
      "text/plain": [
       "          A         B         C         D\n",
       "0 -1.090718  0.254269 -0.909619  1.720310\n",
       "1  0.129194  0.084971 -1.198115 -0.856544\n",
       "2 -1.650031 -0.370692  0.828190 -1.263205\n",
       "3 -0.853226  0.070118  2.896814 -0.585147\n",
       "4 -0.205723  0.115824  1.159482  0.379207\n",
       "5 -1.424121 -0.017419 -1.183574 -0.346212\n",
       "6 -0.604628  0.359756 -0.047044  0.763839\n",
       "7 -0.838696 -0.893007  0.377517  0.090746"
      ]
     },
     "execution_count": 23,
     "metadata": {},
     "output_type": "execute_result"
    }
   ],
   "source": [
    "df = pd.DataFrame(np.random.randn(8,4),\n",
    "                 columns=['A', 'B', 'C', 'D'])\n",
    "df"
   ]
  },
  {
   "cell_type": "code",
   "execution_count": 24,
   "metadata": {},
   "outputs": [
    {
     "name": "stdout",
     "output_type": "stream",
     "text": [
      "          A         B         C         D\n",
      "0 -1.090718  0.254269 -0.909619  1.720310\n",
      "1  0.129194  0.084971 -1.198115 -0.856544\n",
      "2 -1.650031 -0.370692  0.828190 -1.263205\n",
      "3 -0.853226  0.070118  2.896814 -0.585147\n"
     ]
    }
   ],
   "source": [
    "print(df.iloc[:4])"
   ]
  },
  {
   "cell_type": "code",
   "execution_count": 27,
   "metadata": {},
   "outputs": [
    {
     "name": "stdout",
     "output_type": "stream",
     "text": [
      "          B         C\n",
      "2 -0.370692  0.828190\n",
      "3  0.070118  2.896814\n"
     ]
    }
   ],
   "source": [
    "print(df.iloc[[2,3],1:3])"
   ]
  },
  {
   "cell_type": "code",
   "execution_count": 28,
   "metadata": {},
   "outputs": [
    {
     "name": "stdout",
     "output_type": "stream",
     "text": [
      "          B         C         D\n",
      "1  0.084971 -1.198115 -0.856544\n",
      "3  0.070118  2.896814 -0.585147\n",
      "5 -0.017419 -1.183574 -0.346212\n"
     ]
    }
   ],
   "source": [
    "print(df.iloc[[1,3,5],[1,2,3]])"
   ]
  },
  {
   "cell_type": "markdown",
   "metadata": {},
   "source": [
    "##### .ix\n",
    "除了基于纯标签和整数之外，Pandas还提供了一种使用.ix()运算符进行选择和子集化对象的混合方法"
   ]
  },
  {
   "cell_type": "code",
   "execution_count": 29,
   "metadata": {},
   "outputs": [
    {
     "data": {
      "text/html": [
       "<div>\n",
       "<style scoped>\n",
       "    .dataframe tbody tr th:only-of-type {\n",
       "        vertical-align: middle;\n",
       "    }\n",
       "\n",
       "    .dataframe tbody tr th {\n",
       "        vertical-align: top;\n",
       "    }\n",
       "\n",
       "    .dataframe thead th {\n",
       "        text-align: right;\n",
       "    }\n",
       "</style>\n",
       "<table border=\"1\" class=\"dataframe\">\n",
       "  <thead>\n",
       "    <tr style=\"text-align: right;\">\n",
       "      <th></th>\n",
       "      <th>A</th>\n",
       "      <th>B</th>\n",
       "      <th>C</th>\n",
       "      <th>D</th>\n",
       "    </tr>\n",
       "  </thead>\n",
       "  <tbody>\n",
       "    <tr>\n",
       "      <th>0</th>\n",
       "      <td>-0.227314</td>\n",
       "      <td>1.448933</td>\n",
       "      <td>0.403585</td>\n",
       "      <td>0.513819</td>\n",
       "    </tr>\n",
       "    <tr>\n",
       "      <th>1</th>\n",
       "      <td>-0.674064</td>\n",
       "      <td>0.085764</td>\n",
       "      <td>0.234554</td>\n",
       "      <td>0.793815</td>\n",
       "    </tr>\n",
       "    <tr>\n",
       "      <th>2</th>\n",
       "      <td>2.841261</td>\n",
       "      <td>-1.569087</td>\n",
       "      <td>-0.351255</td>\n",
       "      <td>-0.743865</td>\n",
       "    </tr>\n",
       "    <tr>\n",
       "      <th>3</th>\n",
       "      <td>1.038130</td>\n",
       "      <td>0.667940</td>\n",
       "      <td>-0.241093</td>\n",
       "      <td>-0.938924</td>\n",
       "    </tr>\n",
       "    <tr>\n",
       "      <th>4</th>\n",
       "      <td>0.320032</td>\n",
       "      <td>0.006643</td>\n",
       "      <td>0.978423</td>\n",
       "      <td>-0.565050</td>\n",
       "    </tr>\n",
       "    <tr>\n",
       "      <th>5</th>\n",
       "      <td>-1.188213</td>\n",
       "      <td>1.499092</td>\n",
       "      <td>0.095014</td>\n",
       "      <td>-0.816905</td>\n",
       "    </tr>\n",
       "    <tr>\n",
       "      <th>6</th>\n",
       "      <td>0.938079</td>\n",
       "      <td>-1.452045</td>\n",
       "      <td>-0.258749</td>\n",
       "      <td>0.648919</td>\n",
       "    </tr>\n",
       "    <tr>\n",
       "      <th>7</th>\n",
       "      <td>-0.298663</td>\n",
       "      <td>0.442213</td>\n",
       "      <td>0.394918</td>\n",
       "      <td>-0.064370</td>\n",
       "    </tr>\n",
       "  </tbody>\n",
       "</table>\n",
       "</div>"
      ],
      "text/plain": [
       "          A         B         C         D\n",
       "0 -0.227314  1.448933  0.403585  0.513819\n",
       "1 -0.674064  0.085764  0.234554  0.793815\n",
       "2  2.841261 -1.569087 -0.351255 -0.743865\n",
       "3  1.038130  0.667940 -0.241093 -0.938924\n",
       "4  0.320032  0.006643  0.978423 -0.565050\n",
       "5 -1.188213  1.499092  0.095014 -0.816905\n",
       "6  0.938079 -1.452045 -0.258749  0.648919\n",
       "7 -0.298663  0.442213  0.394918 -0.064370"
      ]
     },
     "execution_count": 29,
     "metadata": {},
     "output_type": "execute_result"
    }
   ],
   "source": [
    "df = pd.DataFrame(np.random.randn(8,4),\n",
    "                 columns=['A', 'B', 'C', 'D'])\n",
    "df"
   ]
  },
  {
   "cell_type": "code",
   "execution_count": 30,
   "metadata": {},
   "outputs": [
    {
     "name": "stdout",
     "output_type": "stream",
     "text": [
      "          A         B         C         D\n",
      "0 -0.227314  1.448933  0.403585  0.513819\n",
      "1 -0.674064  0.085764  0.234554  0.793815\n",
      "2  2.841261 -1.569087 -0.351255 -0.743865\n",
      "3  1.038130  0.667940 -0.241093 -0.938924\n",
      "4  0.320032  0.006643  0.978423 -0.565050\n"
     ]
    },
    {
     "name": "stderr",
     "output_type": "stream",
     "text": [
      "C:\\Users\\Dell\\Anaconda3\\lib\\site-packages\\ipykernel_launcher.py:1: DeprecationWarning: \n",
      ".ix is deprecated. Please use\n",
      ".loc for label based indexing or\n",
      ".iloc for positional indexing\n",
      "\n",
      "See the documentation here:\n",
      "http://pandas.pydata.org/pandas-docs/stable/indexing.html#ix-indexer-is-deprecated\n",
      "  \"\"\"Entry point for launching an IPython kernel.\n"
     ]
    }
   ],
   "source": [
    "print(df.ix[:4])"
   ]
  },
  {
   "cell_type": "code",
   "execution_count": 31,
   "metadata": {},
   "outputs": [
    {
     "name": "stdout",
     "output_type": "stream",
     "text": [
      "0    1.448933\n",
      "1    0.085764\n",
      "2   -1.569087\n",
      "3    0.667940\n",
      "4    0.006643\n",
      "5    1.499092\n",
      "6   -1.452045\n",
      "7    0.442213\n",
      "Name: B, dtype: float64\n"
     ]
    },
    {
     "name": "stderr",
     "output_type": "stream",
     "text": [
      "C:\\Users\\Dell\\Anaconda3\\lib\\site-packages\\ipykernel_launcher.py:1: DeprecationWarning: \n",
      ".ix is deprecated. Please use\n",
      ".loc for label based indexing or\n",
      ".iloc for positional indexing\n",
      "\n",
      "See the documentation here:\n",
      "http://pandas.pydata.org/pandas-docs/stable/indexing.html#ix-indexer-is-deprecated\n",
      "  \"\"\"Entry point for launching an IPython kernel.\n"
     ]
    }
   ],
   "source": [
    "print(df.ix[:,'B'])"
   ]
  },
  {
   "cell_type": "code",
   "execution_count": 34,
   "metadata": {},
   "outputs": [
    {
     "name": "stdout",
     "output_type": "stream",
     "text": [
      "          C         D\n",
      "0  0.403585  0.513819\n",
      "1  0.234554  0.793815\n",
      "2 -0.351255 -0.743865\n",
      "3 -0.241093 -0.938924\n",
      "4  0.978423 -0.565050\n",
      "5  0.095014 -0.816905\n",
      "6 -0.258749  0.648919\n",
      "7  0.394918 -0.064370\n",
      "          C         D\n",
      "0  0.403585  0.513819\n",
      "1  0.234554  0.793815\n",
      "2 -0.351255 -0.743865\n",
      "3 -0.241093 -0.938924\n",
      "4  0.978423 -0.565050\n",
      "5  0.095014 -0.816905\n",
      "6 -0.258749  0.648919\n",
      "7  0.394918 -0.064370\n"
     ]
    },
    {
     "name": "stderr",
     "output_type": "stream",
     "text": [
      "C:\\Users\\Dell\\Anaconda3\\lib\\site-packages\\ipykernel_launcher.py:1: DeprecationWarning: \n",
      ".ix is deprecated. Please use\n",
      ".loc for label based indexing or\n",
      ".iloc for positional indexing\n",
      "\n",
      "See the documentation here:\n",
      "http://pandas.pydata.org/pandas-docs/stable/indexing.html#ix-indexer-is-deprecated\n",
      "  \"\"\"Entry point for launching an IPython kernel.\n",
      "C:\\Users\\Dell\\Anaconda3\\lib\\site-packages\\ipykernel_launcher.py:2: DeprecationWarning: \n",
      ".ix is deprecated. Please use\n",
      ".loc for label based indexing or\n",
      ".iloc for positional indexing\n",
      "\n",
      "See the documentation here:\n",
      "http://pandas.pydata.org/pandas-docs/stable/indexing.html#ix-indexer-is-deprecated\n",
      "  \n"
     ]
    }
   ],
   "source": [
    "print(df.ix[:,[2,3]])\n",
    "print(df.ix[:,['C','D']])"
   ]
  },
  {
   "cell_type": "code",
   "execution_count": 35,
   "metadata": {},
   "outputs": [
    {
     "data": {
      "text/html": [
       "<div>\n",
       "<style scoped>\n",
       "    .dataframe tbody tr th:only-of-type {\n",
       "        vertical-align: middle;\n",
       "    }\n",
       "\n",
       "    .dataframe tbody tr th {\n",
       "        vertical-align: top;\n",
       "    }\n",
       "\n",
       "    .dataframe thead th {\n",
       "        text-align: right;\n",
       "    }\n",
       "</style>\n",
       "<table border=\"1\" class=\"dataframe\">\n",
       "  <thead>\n",
       "    <tr style=\"text-align: right;\">\n",
       "      <th></th>\n",
       "      <th>A</th>\n",
       "      <th>B</th>\n",
       "      <th>C</th>\n",
       "      <th>D</th>\n",
       "    </tr>\n",
       "  </thead>\n",
       "  <tbody>\n",
       "    <tr>\n",
       "      <th>0</th>\n",
       "      <td>-0.227314</td>\n",
       "      <td>1.448933</td>\n",
       "      <td>0.403585</td>\n",
       "      <td>0.513819</td>\n",
       "    </tr>\n",
       "    <tr>\n",
       "      <th>1</th>\n",
       "      <td>-0.674064</td>\n",
       "      <td>0.085764</td>\n",
       "      <td>0.234554</td>\n",
       "      <td>0.793815</td>\n",
       "    </tr>\n",
       "    <tr>\n",
       "      <th>2</th>\n",
       "      <td>2.841261</td>\n",
       "      <td>-1.569087</td>\n",
       "      <td>-0.351255</td>\n",
       "      <td>-0.743865</td>\n",
       "    </tr>\n",
       "    <tr>\n",
       "      <th>3</th>\n",
       "      <td>1.038130</td>\n",
       "      <td>0.667940</td>\n",
       "      <td>-0.241093</td>\n",
       "      <td>-0.938924</td>\n",
       "    </tr>\n",
       "    <tr>\n",
       "      <th>4</th>\n",
       "      <td>0.320032</td>\n",
       "      <td>0.006643</td>\n",
       "      <td>0.978423</td>\n",
       "      <td>-0.565050</td>\n",
       "    </tr>\n",
       "    <tr>\n",
       "      <th>5</th>\n",
       "      <td>-1.188213</td>\n",
       "      <td>1.499092</td>\n",
       "      <td>0.095014</td>\n",
       "      <td>-0.816905</td>\n",
       "    </tr>\n",
       "    <tr>\n",
       "      <th>6</th>\n",
       "      <td>0.938079</td>\n",
       "      <td>-1.452045</td>\n",
       "      <td>-0.258749</td>\n",
       "      <td>0.648919</td>\n",
       "    </tr>\n",
       "    <tr>\n",
       "      <th>7</th>\n",
       "      <td>-0.298663</td>\n",
       "      <td>0.442213</td>\n",
       "      <td>0.394918</td>\n",
       "      <td>-0.064370</td>\n",
       "    </tr>\n",
       "  </tbody>\n",
       "</table>\n",
       "</div>"
      ],
      "text/plain": [
       "          A         B         C         D\n",
       "0 -0.227314  1.448933  0.403585  0.513819\n",
       "1 -0.674064  0.085764  0.234554  0.793815\n",
       "2  2.841261 -1.569087 -0.351255 -0.743865\n",
       "3  1.038130  0.667940 -0.241093 -0.938924\n",
       "4  0.320032  0.006643  0.978423 -0.565050\n",
       "5 -1.188213  1.499092  0.095014 -0.816905\n",
       "6  0.938079 -1.452045 -0.258749  0.648919\n",
       "7 -0.298663  0.442213  0.394918 -0.064370"
      ]
     },
     "execution_count": 35,
     "metadata": {},
     "output_type": "execute_result"
    }
   ],
   "source": [
    "df"
   ]
  },
  {
   "cell_type": "code",
   "execution_count": 43,
   "metadata": {},
   "outputs": [
    {
     "name": "stdout",
     "output_type": "stream",
     "text": [
      "0   -0.227314\n",
      "1   -0.674064\n",
      "2    2.841261\n",
      "3    1.038130\n",
      "4    0.320032\n",
      "5   -1.188213\n",
      "6    0.938079\n",
      "7   -0.298663\n",
      "Name: A, dtype: float64\n",
      "          A         B\n",
      "0 -0.227314  1.448933\n",
      "1 -0.674064  0.085764\n",
      "2  2.841261 -1.569087\n",
      "3  1.038130  0.667940\n",
      "4  0.320032  0.006643\n",
      "5 -1.188213  1.499092\n",
      "6  0.938079 -1.452045\n",
      "7 -0.298663  0.442213\n",
      "          A         B         C         D\n",
      "2  2.841261 -1.569087 -0.351255 -0.743865\n",
      "3  1.038130  0.667940 -0.241093 -0.938924\n"
     ]
    }
   ],
   "source": [
    "print(df['A'])\n",
    "print(df[['A','B']])\n",
    "print(df[2:4])"
   ]
  },
  {
   "cell_type": "markdown",
   "metadata": {},
   "source": [
    "##### 可以使用属性运算符.来选择列"
   ]
  },
  {
   "cell_type": "code",
   "execution_count": 45,
   "metadata": {},
   "outputs": [
    {
     "name": "stdout",
     "output_type": "stream",
     "text": [
      "0    0.403585\n",
      "1    0.234554\n",
      "2   -0.351255\n",
      "3   -0.241093\n",
      "4    0.978423\n",
      "5    0.095014\n",
      "6   -0.258749\n",
      "7    0.394918\n",
      "Name: C, dtype: float64\n"
     ]
    }
   ],
   "source": [
    "print(df.C)"
   ]
  },
  {
   "cell_type": "code",
   "execution_count": null,
   "metadata": {},
   "outputs": [],
   "source": []
  },
  {
   "cell_type": "code",
   "execution_count": null,
   "metadata": {},
   "outputs": [],
   "source": []
  },
  {
   "cell_type": "code",
   "execution_count": null,
   "metadata": {},
   "outputs": [],
   "source": []
  },
  {
   "cell_type": "code",
   "execution_count": null,
   "metadata": {},
   "outputs": [],
   "source": []
  },
  {
   "cell_type": "code",
   "execution_count": null,
   "metadata": {},
   "outputs": [],
   "source": []
  },
  {
   "cell_type": "code",
   "execution_count": null,
   "metadata": {},
   "outputs": [],
   "source": []
  },
  {
   "cell_type": "code",
   "execution_count": null,
   "metadata": {},
   "outputs": [],
   "source": []
  },
  {
   "cell_type": "code",
   "execution_count": null,
   "metadata": {},
   "outputs": [],
   "source": []
  },
  {
   "cell_type": "code",
   "execution_count": null,
   "metadata": {},
   "outputs": [],
   "source": []
  },
  {
   "cell_type": "code",
   "execution_count": null,
   "metadata": {},
   "outputs": [],
   "source": []
  }
 ],
 "metadata": {
  "kernelspec": {
   "display_name": "Python 3",
   "language": "python",
   "name": "python3"
  },
  "language_info": {
   "codemirror_mode": {
    "name": "ipython",
    "version": 3
   },
   "file_extension": ".py",
   "mimetype": "text/x-python",
   "name": "python",
   "nbconvert_exporter": "python",
   "pygments_lexer": "ipython3",
   "version": "3.7.0"
  }
 },
 "nbformat": 4,
 "nbformat_minor": 2
}
