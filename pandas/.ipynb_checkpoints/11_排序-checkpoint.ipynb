{
 "cells": [
  {
   "cell_type": "markdown",
   "metadata": {},
   "source": [
    "### pandas 有两种排序方式\n",
    "- 标签\n",
    "- 实际值"
   ]
  },
  {
   "cell_type": "code",
   "execution_count": 1,
   "metadata": {},
   "outputs": [],
   "source": [
    "import pandas as pd\n",
    "import numpy as np"
   ]
  },
  {
   "cell_type": "code",
   "execution_count": 10,
   "metadata": {},
   "outputs": [
    {
     "name": "stdout",
     "output_type": "stream",
     "text": [
      "       col2      col1\n",
      "1 -0.559278 -1.028259\n",
      "4  0.815226 -1.152493\n",
      "6  1.428783 -1.364132\n",
      "2  1.230276 -0.870841\n",
      "3 -1.816709 -0.207930\n",
      "5 -0.668685  0.951301\n",
      "9  1.153351  0.541196\n",
      "8  0.358566  1.439728\n",
      "0  0.556483  1.475399\n",
      "7 -0.658930  0.003307\n"
     ]
    }
   ],
   "source": [
    "unsorted_df = pd.DataFrame(np.random.randn(10,2),index=[1,4,6,2,3,5,9,8,0,7],columns=['col2','col1'])\n",
    "print(unsorted_df)"
   ]
  },
  {
   "cell_type": "markdown",
   "metadata": {},
   "source": [
    "#### 按标签\n",
    "使用 sort_index()方法，通过axis参数和排序顺序\n"
   ]
  },
  {
   "cell_type": "code",
   "execution_count": 11,
   "metadata": {},
   "outputs": [
    {
     "name": "stdout",
     "output_type": "stream",
     "text": [
      "       col2      col1\n",
      "0  0.556483  1.475399\n",
      "1 -0.559278 -1.028259\n",
      "2  1.230276 -0.870841\n",
      "3 -1.816709 -0.207930\n",
      "4  0.815226 -1.152493\n",
      "5 -0.668685  0.951301\n",
      "6  1.428783 -1.364132\n",
      "7 -0.658930  0.003307\n",
      "8  0.358566  1.439728\n",
      "9  1.153351  0.541196\n"
     ]
    }
   ],
   "source": [
    "sorted_df = unsorted_df.sort_index()\n",
    "print(sorted_df)"
   ]
  },
  {
   "cell_type": "markdown",
   "metadata": {},
   "source": [
    "#### 排序顺序\n",
    "通过将布尔值传递给升序参数，可以控制排序顺序\n",
    "- ascending_升序"
   ]
  },
  {
   "cell_type": "code",
   "execution_count": 12,
   "metadata": {},
   "outputs": [
    {
     "name": "stdout",
     "output_type": "stream",
     "text": [
      "       col2      col1\n",
      "9  1.153351  0.541196\n",
      "8  0.358566  1.439728\n",
      "7 -0.658930  0.003307\n",
      "6  1.428783 -1.364132\n",
      "5 -0.668685  0.951301\n",
      "4  0.815226 -1.152493\n",
      "3 -1.816709 -0.207930\n",
      "2  1.230276 -0.870841\n",
      "1 -0.559278 -1.028259\n",
      "0  0.556483  1.475399\n"
     ]
    }
   ],
   "source": [
    "sorted_df = unsorted_df.sort_index(ascending=False)\n",
    "print(sorted_df)"
   ]
  },
  {
   "cell_type": "markdown",
   "metadata": {},
   "source": [
    "#### 按列排列\n",
    "通过传递axis参数值为0或1，可以对列标签进行排序"
   ]
  },
  {
   "cell_type": "code",
   "execution_count": 14,
   "metadata": {},
   "outputs": [
    {
     "name": "stdout",
     "output_type": "stream",
     "text": [
      "       col2      col1\n",
      "1 -0.559278 -1.028259\n",
      "4  0.815226 -1.152493\n",
      "6  1.428783 -1.364132\n",
      "2  1.230276 -0.870841\n",
      "3 -1.816709 -0.207930\n",
      "5 -0.668685  0.951301\n",
      "9  1.153351  0.541196\n",
      "8  0.358566  1.439728\n",
      "0  0.556483  1.475399\n",
      "7 -0.658930  0.003307\n",
      "       col1      col2\n",
      "1 -1.028259 -0.559278\n",
      "4 -1.152493  0.815226\n",
      "6 -1.364132  1.428783\n",
      "2 -0.870841  1.230276\n",
      "3 -0.207930 -1.816709\n",
      "5  0.951301 -0.668685\n",
      "9  0.541196  1.153351\n",
      "8  1.439728  0.358566\n",
      "0  1.475399  0.556483\n",
      "7  0.003307 -0.658930\n"
     ]
    }
   ],
   "source": [
    "print(unsorted_df)\n",
    "print(unsorted_df.sort_index(axis=1))"
   ]
  },
  {
   "cell_type": "markdown",
   "metadata": {},
   "source": [
    "#### 按值排序\n",
    "像索引排序一样，sort_values()是按值排序的方法\n",
    "\n",
    "它接受一个by参数，它将使用要与其排序值的DataFrame的列名称"
   ]
  },
  {
   "cell_type": "code",
   "execution_count": 18,
   "metadata": {},
   "outputs": [
    {
     "name": "stdout",
     "output_type": "stream",
     "text": [
      "   col1  col2\n",
      "0     2     1\n",
      "1     1     3\n",
      "2     1     2\n",
      "3     1     4\n",
      "   col1  col2\n",
      "0     2     1\n",
      "2     1     2\n",
      "1     1     3\n",
      "3     1     4\n"
     ]
    }
   ],
   "source": [
    "unsorted_df = pd.DataFrame({'col1':[2,1,1,1],'col2':[1,3,2,4]})\n",
    "print(unsorted_df)\n",
    "sorted_df = unsorted_df.sort_values(by='col2')\n",
    "print(sorted_df)"
   ]
  },
  {
   "cell_type": "markdown",
   "metadata": {},
   "source": [
    "#### 排序算法\n",
    "sort_values()提供了从mergeesort，heapsort和quicksort中选择算法的一个配置。Mergesort是唯一稳定的算法"
   ]
  },
  {
   "cell_type": "code",
   "execution_count": 19,
   "metadata": {},
   "outputs": [
    {
     "name": "stdout",
     "output_type": "stream",
     "text": [
      "   col1  col2\n",
      "0     2     1\n",
      "1     1     3\n",
      "2     1     2\n",
      "3     1     4\n",
      "   col1  col2\n",
      "1     1     3\n",
      "2     1     2\n",
      "3     1     4\n",
      "0     2     1\n"
     ]
    }
   ],
   "source": [
    "print(unsorted_df)\n",
    "print(unsorted_df.sort_values(by='col1',kind='mergesort'))"
   ]
  },
  {
   "cell_type": "code",
   "execution_count": 22,
   "metadata": {},
   "outputs": [
    {
     "name": "stdout",
     "output_type": "stream",
     "text": [
      "Help on function sort_values in module pandas.core.frame:\n",
      "\n",
      "sort_values(self, by, axis=0, ascending=True, inplace=False, kind='quicksort', na_position='last')\n",
      "    Sort by the values along either axis\n",
      "    \n",
      "    Parameters\n",
      "    ----------\n",
      "    by : str or list of str\n",
      "        Name or list of names to sort by.\n",
      "    \n",
      "        - if `axis` is 0 or `'index'` then `by` may contain index\n",
      "          levels and/or column labels\n",
      "        - if `axis` is 1 or `'columns'` then `by` may contain column\n",
      "          levels and/or index labels\n",
      "    \n",
      "        .. versionchanged:: 0.23.0\n",
      "           Allow specifying index or column level names.\n",
      "    axis : {0 or 'index', 1 or 'columns'}, default 0\n",
      "         Axis to be sorted\n",
      "    ascending : bool or list of bool, default True\n",
      "         Sort ascending vs. descending. Specify list for multiple sort\n",
      "         orders.  If this is a list of bools, must match the length of\n",
      "         the by.\n",
      "    inplace : bool, default False\n",
      "         if True, perform operation in-place\n",
      "    kind : {'quicksort', 'mergesort', 'heapsort'}, default 'quicksort'\n",
      "         Choice of sorting algorithm. See also ndarray.np.sort for more\n",
      "         information.  `mergesort` is the only stable algorithm. For\n",
      "         DataFrames, this option is only applied when sorting on a single\n",
      "         column or label.\n",
      "    na_position : {'first', 'last'}, default 'last'\n",
      "         `first` puts NaNs at the beginning, `last` puts NaNs at the end\n",
      "    \n",
      "    Returns\n",
      "    -------\n",
      "    sorted_obj : DataFrame\n",
      "    \n",
      "    Examples\n",
      "    --------\n",
      "    >>> df = pd.DataFrame({\n",
      "    ...     'col1' : ['A', 'A', 'B', np.nan, 'D', 'C'],\n",
      "    ...     'col2' : [2, 1, 9, 8, 7, 4],\n",
      "    ...     'col3': [0, 1, 9, 4, 2, 3],\n",
      "    ... })\n",
      "    >>> df\n",
      "        col1 col2 col3\n",
      "    0   A    2    0\n",
      "    1   A    1    1\n",
      "    2   B    9    9\n",
      "    3   NaN  8    4\n",
      "    4   D    7    2\n",
      "    5   C    4    3\n",
      "    \n",
      "    Sort by col1\n",
      "    \n",
      "    >>> df.sort_values(by=['col1'])\n",
      "        col1 col2 col3\n",
      "    0   A    2    0\n",
      "    1   A    1    1\n",
      "    2   B    9    9\n",
      "    5   C    4    3\n",
      "    4   D    7    2\n",
      "    3   NaN  8    4\n",
      "    \n",
      "    Sort by multiple columns\n",
      "    \n",
      "    >>> df.sort_values(by=['col1', 'col2'])\n",
      "        col1 col2 col3\n",
      "    1   A    1    1\n",
      "    0   A    2    0\n",
      "    2   B    9    9\n",
      "    5   C    4    3\n",
      "    4   D    7    2\n",
      "    3   NaN  8    4\n",
      "    \n",
      "    Sort Descending\n",
      "    \n",
      "    >>> df.sort_values(by='col1', ascending=False)\n",
      "        col1 col2 col3\n",
      "    4   D    7    2\n",
      "    5   C    4    3\n",
      "    2   B    9    9\n",
      "    0   A    2    0\n",
      "    1   A    1    1\n",
      "    3   NaN  8    4\n",
      "    \n",
      "    Putting NAs first\n",
      "    \n",
      "    >>> df.sort_values(by='col1', ascending=False, na_position='first')\n",
      "        col1 col2 col3\n",
      "    3   NaN  8    4\n",
      "    4   D    7    2\n",
      "    5   C    4    3\n",
      "    2   B    9    9\n",
      "    0   A    2    0\n",
      "    1   A    1    1\n",
      "\n",
      "None\n"
     ]
    }
   ],
   "source": [
    "print(help(pd.DataFrame.sort_values))"
   ]
  },
  {
   "cell_type": "code",
   "execution_count": null,
   "metadata": {},
   "outputs": [],
   "source": []
  }
 ],
 "metadata": {
  "kernelspec": {
   "display_name": "Python 3",
   "language": "python",
   "name": "python3"
  },
  "language_info": {
   "codemirror_mode": {
    "name": "ipython",
    "version": 3
   },
   "file_extension": ".py",
   "mimetype": "text/x-python",
   "name": "python",
   "nbconvert_exporter": "python",
   "pygments_lexer": "ipython3",
   "version": "3.7.0"
  }
 },
 "nbformat": 4,
 "nbformat_minor": 2
}
