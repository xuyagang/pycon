{
 "cells": [
  {
   "cell_type": "markdown",
   "metadata": {},
   "source": [
    "#### NumPy 提供了很多统计函数，用于从数组中查找最小元素，最大元素，百分位标准差和方差等"
   ]
  },
  {
   "cell_type": "markdown",
   "metadata": {},
   "source": [
    "##### numpy.amin() 用于计算数组中的元素沿指定轴的最小值\n",
    "numpy.amax() 用于计算数组中的元素沿指定轴的最大值"
   ]
  },
  {
   "cell_type": "code",
   "execution_count": 2,
   "metadata": {},
   "outputs": [
    {
     "name": "stdout",
     "output_type": "stream",
     "text": [
      "[[3 7 5]\n",
      " [8 4 3]\n",
      " [2 4 9]]\n"
     ]
    }
   ],
   "source": [
    "import numpy as np\n",
    "a = np.array([[3,7,5],[8,4,3],[2,4,9]])\n",
    "print(a)"
   ]
  },
  {
   "cell_type": "code",
   "execution_count": 5,
   "metadata": {},
   "outputs": [
    {
     "name": "stdout",
     "output_type": "stream",
     "text": [
      "[3 3 2]\n"
     ]
    }
   ],
   "source": [
    "print(np.amin(a,1))"
   ]
  },
  {
   "cell_type": "code",
   "execution_count": 6,
   "metadata": {},
   "outputs": [
    {
     "name": "stdout",
     "output_type": "stream",
     "text": [
      "[8 7 9]\n"
     ]
    }
   ],
   "source": [
    "print(np.amax(a,0))"
   ]
  },
  {
   "cell_type": "markdown",
   "metadata": {},
   "source": [
    "##### np.ptp()\n",
    "计算数组中元素最大值与最小值的差（最大值 - 最小值）"
   ]
  },
  {
   "cell_type": "code",
   "execution_count": 4,
   "metadata": {},
   "outputs": [
    {
     "name": "stdout",
     "output_type": "stream",
     "text": [
      "最大值：9\n",
      "最小值：2\n",
      "7\n"
     ]
    }
   ],
   "source": [
    "print('最大值：{}\\n最小值：{}'.format(np.amax(a),np.amin(a)))\n",
    "print(np.ptp(a))"
   ]
  },
  {
   "cell_type": "code",
   "execution_count": 5,
   "metadata": {},
   "outputs": [
    {
     "name": "stdout",
     "output_type": "stream",
     "text": [
      "[6 3 6]\n"
     ]
    }
   ],
   "source": [
    "print(np.ptp(a,axis = 0))"
   ]
  },
  {
   "cell_type": "code",
   "execution_count": 6,
   "metadata": {},
   "outputs": [
    {
     "name": "stdout",
     "output_type": "stream",
     "text": [
      "[4 5 7]\n"
     ]
    }
   ],
   "source": [
    "print(np.ptp(a,axis = 1))"
   ]
  },
  {
   "cell_type": "markdown",
   "metadata": {},
   "source": [
    "##### np.percentile(a, q, axis)\n",
    "百分位数是统计中使用的度量，表示小于这个值的观察值的百分比\n",
    "- a: 输入数组\n",
    "- q: 要计算的百分位数，在 0 ~ 100 之间\n",
    "- axis: 沿着它计算百分位数的轴\n",
    "\n",
    "第 p 个百分位数是这样一个值，它使得至少有 p% 的数据项小于或等于这个值，且至少有 (100-p)% 的数据项大于或等于这个值。\n",
    "\n",
    "percentile(a, q, axis=None, out=None, overwrite_input=False, interpolation='linear', keepdims=False)"
   ]
  },
  {
   "cell_type": "code",
   "execution_count": 7,
   "metadata": {},
   "outputs": [
    {
     "name": "stdout",
     "output_type": "stream",
     "text": [
      "[[10  7  4]\n",
      " [ 3  2  1]]\n",
      "3.5\n"
     ]
    }
   ],
   "source": [
    "a = np.array([[10,7,4],[3,2,1]])\n",
    "print(a)\n",
    "print(np.percentile(a,50))"
   ]
  },
  {
   "cell_type": "code",
   "execution_count": 8,
   "metadata": {},
   "outputs": [
    {
     "name": "stdout",
     "output_type": "stream",
     "text": [
      "[6.5 4.5 2.5]\n"
     ]
    }
   ],
   "source": [
    "print(np.percentile(a,50,axis = 0))"
   ]
  },
  {
   "cell_type": "code",
   "execution_count": 9,
   "metadata": {},
   "outputs": [
    {
     "name": "stdout",
     "output_type": "stream",
     "text": [
      "[7. 2.]\n"
     ]
    }
   ],
   "source": [
    "print(np.percentile(a,50,axis = 1))"
   ]
  },
  {
   "cell_type": "code",
   "execution_count": 12,
   "metadata": {},
   "outputs": [
    {
     "name": "stdout",
     "output_type": "stream",
     "text": [
      "[[7.]\n",
      " [2.]]\n"
     ]
    }
   ],
   "source": [
    "print(np.percentile(a,50,axis = 1,keepdims=True))"
   ]
  },
  {
   "cell_type": "markdown",
   "metadata": {},
   "source": [
    "##### np.median()\n",
    "用于计算数组 a 中元素的中位数"
   ]
  },
  {
   "cell_type": "code",
   "execution_count": 14,
   "metadata": {},
   "outputs": [
    {
     "name": "stdout",
     "output_type": "stream",
     "text": [
      "[[30 65 70]\n",
      " [80 95 10]\n",
      " [50 90 60]]\n"
     ]
    }
   ],
   "source": [
    "a = np.array([[30,65,70],[80,95,10],[50,90,60]])  \n",
    "print(a)"
   ]
  },
  {
   "cell_type": "code",
   "execution_count": 15,
   "metadata": {},
   "outputs": [
    {
     "name": "stdout",
     "output_type": "stream",
     "text": [
      "中位数\n",
      "65.0\n"
     ]
    }
   ],
   "source": [
    "print('中位数')\n",
    "print(np.median(a))"
   ]
  },
  {
   "cell_type": "code",
   "execution_count": 16,
   "metadata": {},
   "outputs": [
    {
     "name": "stdout",
     "output_type": "stream",
     "text": [
      "[50. 90. 60.]\n"
     ]
    }
   ],
   "source": [
    "print(np.median(a,axis = 0))"
   ]
  },
  {
   "cell_type": "code",
   "execution_count": 17,
   "metadata": {
    "scrolled": true
   },
   "outputs": [
    {
     "name": "stdout",
     "output_type": "stream",
     "text": [
      "[65. 80. 60.]\n"
     ]
    }
   ],
   "source": [
    "print(np.median(a,axis = 1))"
   ]
  },
  {
   "cell_type": "markdown",
   "metadata": {},
   "source": [
    "##### np.mean()\n",
    "返回数组中元素的算术平均值"
   ]
  },
  {
   "cell_type": "code",
   "execution_count": 18,
   "metadata": {},
   "outputs": [
    {
     "name": "stdout",
     "output_type": "stream",
     "text": [
      "[[1 2 3]\n",
      " [3 4 5]\n",
      " [4 5 6]]\n"
     ]
    }
   ],
   "source": [
    "a = np.array([[1,2,3],[3,4,5],[4,5,6]])  \n",
    "print(a)"
   ]
  },
  {
   "cell_type": "code",
   "execution_count": 20,
   "metadata": {},
   "outputs": [
    {
     "name": "stdout",
     "output_type": "stream",
     "text": [
      "3.6666666666666665\n",
      "[2.66666667 3.66666667 4.66666667]\n",
      "[2. 4. 5.]\n"
     ]
    }
   ],
   "source": [
    "print(np.mean(a))\n",
    "print(np.mean(a,axis = 0))\n",
    "print(np.mean(a,axis = 1))"
   ]
  },
  {
   "cell_type": "markdown",
   "metadata": {},
   "source": [
    "##### numpy.average()\n",
    "函数根据在另一个数组中给出的各自的权重计算数组中元素的加权平均值\n",
    "- 不指定权重时相当于mean\n",
    "- 如果 returned 参数设为 true，则返回权重的和  \n",
    "\n",
    "数组[1,2,3,4]和相应的权重[4,3,2,1]\n",
    "- 加权平均值 = (1\\*4+2\\*3+3\\*2+4\\*1)/(4+3+2+1)"
   ]
  },
  {
   "cell_type": "code",
   "execution_count": 22,
   "metadata": {},
   "outputs": [
    {
     "name": "stdout",
     "output_type": "stream",
     "text": [
      "2.5\n",
      "2.5\n"
     ]
    }
   ],
   "source": [
    "a = np.array([1,2,3,4])\n",
    "# 不指定权重时像相当于mean\n",
    "print(np.average(a))\n",
    "print(np.mean(a))"
   ]
  },
  {
   "cell_type": "code",
   "execution_count": 28,
   "metadata": {},
   "outputs": [
    {
     "name": "stdout",
     "output_type": "stream",
     "text": [
      "2.5714285714285716\n"
     ]
    }
   ],
   "source": [
    "wts = np.array([4,3,2,5])\n",
    "print(np.average(a,weights = wts))"
   ]
  },
  {
   "cell_type": "code",
   "execution_count": 29,
   "metadata": {},
   "outputs": [
    {
     "name": "stdout",
     "output_type": "stream",
     "text": [
      "(2.5714285714285716, 14.0)\n"
     ]
    }
   ],
   "source": [
    "# 如果 returned 参数设为 true，则返回权重的和  \n",
    "print(np.average(a,weights=wts,returned = True))"
   ]
  },
  {
   "cell_type": "code",
   "execution_count": 32,
   "metadata": {},
   "outputs": [
    {
     "name": "stdout",
     "output_type": "stream",
     "text": [
      "[[0 1 2]\n",
      " [3 4 5]] (2, 3)\n",
      "[3 5] (2,)\n"
     ]
    }
   ],
   "source": [
    "# 多维数组中可以指定计算的轴\n",
    "a = np.arange(6).reshape(2,3)\n",
    "print(a,a.shape)\n",
    "wt = np.array([3,5])\n",
    "print(wt,wt.shape)"
   ]
  },
  {
   "cell_type": "code",
   "execution_count": 34,
   "metadata": {},
   "outputs": [
    {
     "name": "stdout",
     "output_type": "stream",
     "text": [
      "[1.875 2.875 3.875]\n"
     ]
    }
   ],
   "source": [
    "print(np.average(a,axis = 0,weights = wt))"
   ]
  },
  {
   "cell_type": "code",
   "execution_count": 35,
   "metadata": {},
   "outputs": [
    {
     "name": "stdout",
     "output_type": "stream",
     "text": [
      "(array([1.875, 2.875, 3.875]), array([8., 8., 8.]))\n"
     ]
    }
   ],
   "source": [
    "print(np.average(a,axis = 0,weights = wt,returned=True))"
   ]
  },
  {
   "cell_type": "markdown",
   "metadata": {},
   "source": [
    "##### 标准差\n",
    "- 标准差是一组数据平均值分散程度的一种度量\n",
    "- 标准差是方差的算术平方根\n",
    "- 公式：std = sqrt(mean((x - x.mean())**2))\n",
    "\n",
    "方差：方差是衡量源数据和期望值相差的度量值\n",
    "- 概率论中方差用来度量随机变量和其数学期望（即均值）之间的偏离程度\n",
    "- 统计中的方差（样本方差）是每个样本值与全体样本值的平均数之差的平方值的平均数\n",
    "\n",
    "如果数组是 [1，2，3，4]，则其平均值为 2.5。 因此，差的平方是 [2.25,0.25,0.25,2.25]，求出其平均值的的平方根，即 sqrt(5/4) ，结果为 1.1180339887498949。"
   ]
  },
  {
   "cell_type": "code",
   "execution_count": 37,
   "metadata": {},
   "outputs": [
    {
     "name": "stdout",
     "output_type": "stream",
     "text": [
      "1.118033988749895\n"
     ]
    }
   ],
   "source": [
    "print(np.std([1,2,3,4]))"
   ]
  },
  {
   "cell_type": "markdown",
   "metadata": {},
   "source": [
    "##### 方差：mean((x - x.mean())** 2)\n",
    "- 每个样本值与全体样本值的平均数之差的平方值的平均数\n",
    "- 标准差是方差的平方根"
   ]
  },
  {
   "cell_type": "code",
   "execution_count": 38,
   "metadata": {},
   "outputs": [
    {
     "name": "stdout",
     "output_type": "stream",
     "text": [
      "1.25\n"
     ]
    }
   ],
   "source": [
    "print(np.var([1,2,3,4]))"
   ]
  },
  {
   "cell_type": "code",
   "execution_count": null,
   "metadata": {},
   "outputs": [],
   "source": []
  }
 ],
 "metadata": {
  "kernelspec": {
   "display_name": "Python 3",
   "language": "python",
   "name": "python3"
  },
  "language_info": {
   "codemirror_mode": {
    "name": "ipython",
    "version": 3
   },
   "file_extension": ".py",
   "mimetype": "text/x-python",
   "name": "python",
   "nbconvert_exporter": "python",
   "pygments_lexer": "ipython3",
   "version": "3.7.0"
  }
 },
 "nbformat": 4,
 "nbformat_minor": 2
}
