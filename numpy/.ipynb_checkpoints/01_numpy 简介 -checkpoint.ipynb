{
 "cells": [
  {
   "cell_type": "markdown",
   "metadata": {},
   "source": [
    "#### Numpy 简介\n",
    "- Numpy(是Numerical Python)是Python语言的一个扩展程序库，支持大量的维度数组与矩阵运算，针对数组运算提供大量数学函数库\n",
    "\n",
    "#### 应用\n",
    "- Numpy 通常与Scipy(scientific python) 和 Matplotlib（绘图库）一起使用\n",
    "- SciPy是一个开源的python算法库和数据工具包，包含的模块有最优化、线性代数、积分、插值、特殊函数、快速傅里叶变换、信号处理和图像处理、常微分方程求解和其他科学与工程中常用的计算"
   ]
  }
 ],
 "metadata": {
  "kernelspec": {
   "display_name": "Python 3",
   "language": "python",
   "name": "python3"
  },
  "language_info": {
   "codemirror_mode": {
    "name": "ipython",
    "version": 3
   },
   "file_extension": ".py",
   "mimetype": "text/x-python",
   "name": "python",
   "nbconvert_exporter": "python",
   "pygments_lexer": "ipython3",
   "version": "3.7.0"
  }
 },
 "nbformat": 4,
 "nbformat_minor": 2
}
