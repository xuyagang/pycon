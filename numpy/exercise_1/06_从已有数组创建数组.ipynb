{
 "cells": [
  {
   "cell_type": "markdown",
   "metadata": {},
   "source": [
    "##### numpy.asarray\n",
    "- numpy.asarray类似numpy.array, 但numpy.asarray 参数只有三个， 比numpy.array少两个\n",
    "    - a:任意形式的输入参数，可以是，列表, 列表的元组, 元组, 元组的元组, 元组的列表，多维数组\n",
    "    - dtype: 数据类型\n",
    "    - order: 可选，有C和F连个选项，分别代表行优先和列优先"
   ]
  },
  {
   "cell_type": "code",
   "execution_count": 2,
   "metadata": {},
   "outputs": [],
   "source": [
    "import numpy as np"
   ]
  },
  {
   "cell_type": "code",
   "execution_count": 3,
   "metadata": {},
   "outputs": [
    {
     "name": "stdout",
     "output_type": "stream",
     "text": [
      "[1 2 3]\n"
     ]
    }
   ],
   "source": [
    "# 列表转化为ndarray\n",
    "x = [1, 2, 3]\n",
    "a = np.asarray(x)\n",
    "print(a)"
   ]
  },
  {
   "cell_type": "code",
   "execution_count": 4,
   "metadata": {},
   "outputs": [
    {
     "name": "stdout",
     "output_type": "stream",
     "text": [
      "[2 4 6]\n"
     ]
    }
   ],
   "source": [
    "# 元祖转化为ndarray\n",
    "x = (2, 4, 6)\n",
    "b = np.asarray(x)\n",
    "print(b)"
   ]
  },
  {
   "cell_type": "code",
   "execution_count": 8,
   "metadata": {},
   "outputs": [
    {
     "name": "stdout",
     "output_type": "stream",
     "text": [
      "[(1, 2, 3) (4, 5)]\n",
      "(2,)\n"
     ]
    }
   ],
   "source": [
    "# 元组列表to ndarray\n",
    "x =  [(1,2,3),(4,5)] \n",
    "c = np.asarray(x)\n",
    "print(c)\n",
    "print(c.shape)"
   ]
  },
  {
   "cell_type": "code",
   "execution_count": 16,
   "metadata": {},
   "outputs": [
    {
     "name": "stdout",
     "output_type": "stream",
     "text": [
      "[1. 2. 3.]\n",
      "3\n",
      "2\n"
     ]
    }
   ],
   "source": [
    "# 设置dtype参数\n",
    "x = [1, 2, 3]\n",
    "d = np.asarray(x,dtype='float16') # 'float16' 等同于 'f2’\n",
    "print(d)\n",
    "print(d.size)\n",
    "print(d.itemsize)"
   ]
  },
  {
   "cell_type": "markdown",
   "metadata": {},
   "source": [
    "##### numpy.frombuffer\n",
    "- numpy.frombuffer 用于实现动态数组。\n",
    "- numpy.frombuffer 接受 buffer 输入参数，以流的形式读入转化成 ndarray 对象。\n",
    "\n",
    "- numpy.frombuffer(buffer, dtype = float, count = -1, offset = 0)\n",
    "    - buffer 是字符串的时候，Python3 默认 str 是 Unicode 类型，所以要转成 bytestring 在原 str 前加上 b。\n",
    "    - buffer\t可以是任意对象，会以流的形式读入。\n",
    "    - dtype\t返回数组的数据类型，可选\n",
    "    - count\t读取的数据数量，默认为-1，读取所有数据。\n",
    "    - offset\t读取的起始位置，默认为0。"
   ]
  },
  {
   "cell_type": "code",
   "execution_count": 29,
   "metadata": {},
   "outputs": [
    {
     "name": "stdout",
     "output_type": "stream",
     "text": [
      "[b'H' b'e' b'l' b'l' b'o' b' ' b'W' b'o' b'r' b'l' b'd']\n",
      "1\n"
     ]
    }
   ],
   "source": [
    "# 'str' object has no attribute '__buffer__'\n",
    "s =  b'Hello World' \n",
    "a = np.frombuffer(s, dtype = 'S1')\n",
    "print(a)\n",
    "print(a.itemsize)"
   ]
  },
  {
   "cell_type": "markdown",
   "metadata": {},
   "source": [
    "##### numpy.fromiter\n",
    "numpy.fromiter 方法从可迭代对象中建立 ndarray 对象，返回一维数组。\n",
    "- numpy.fromiter(iterable, dtype, count=-1)\n",
    "    - iterable\t可迭代对象\n",
    "    - dtype\t返回数组的数据类型\n",
    "    - count\t读取的数据数量，默认为-1，读取所有数据"
   ]
  },
  {
   "cell_type": "code",
   "execution_count": 34,
   "metadata": {},
   "outputs": [
    {
     "name": "stdout",
     "output_type": "stream",
     "text": [
      "[0. 1. 2. 3. 4.]\n"
     ]
    }
   ],
   "source": [
    "l = range(5)\n",
    "arr = np.fromiter(l, dtype = 'f2')\n",
    "print(arr)"
   ]
  },
  {
   "cell_type": "code",
   "execution_count": null,
   "metadata": {},
   "outputs": [],
   "source": []
  },
  {
   "cell_type": "code",
   "execution_count": null,
   "metadata": {},
   "outputs": [],
   "source": []
  },
  {
   "cell_type": "code",
   "execution_count": null,
   "metadata": {},
   "outputs": [],
   "source": []
  },
  {
   "cell_type": "code",
   "execution_count": null,
   "metadata": {},
   "outputs": [],
   "source": []
  },
  {
   "cell_type": "code",
   "execution_count": null,
   "metadata": {},
   "outputs": [],
   "source": []
  }
 ],
 "metadata": {
  "kernelspec": {
   "display_name": "Python 3",
   "language": "python",
   "name": "python3"
  },
  "language_info": {
   "codemirror_mode": {
    "name": "ipython",
    "version": 3
   },
   "file_extension": ".py",
   "mimetype": "text/x-python",
   "name": "python",
   "nbconvert_exporter": "python",
   "pygments_lexer": "ipython3",
   "version": "3.7.0"
  }
 },
 "nbformat": 4,
 "nbformat_minor": 2
}
