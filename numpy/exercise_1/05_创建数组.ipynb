{
 "cells": [
  {
   "cell_type": "markdown",
   "metadata": {},
   "source": [
    "- array函数创建数组\n",
    "- arange创建\n",
    "- np.zeros(shape, dtype=float, order='C'):创建一个全0数组，shape要以元组格式传入。\n",
    "- np.ones(shape, dtype=None, order='C')：创建一个全1数组，shape要以元组格式传入。\n",
    "- np.empty(shape, dtype=None, order='C')：创建一个拥有趋近0值的数组，shape要以元组格式传入。\n",
    "- np.eye(N, M=None, k=0, dtype=float, order='C')：创建一个对角矩阵，N代表行，M代表列。其中有个参数k默认值为0，它代表偏移量，正1时向主对角线右上偏移1位，负1时向主对角线左下偏移1位。\n",
    "- np.full(shape, fill_value, dtype=None, order='C')：创建一个以fill_value进行填充的数组，fill_value为想要填充的值\n",
    "- np.linspace (起始值,终止值,元素总数)：创建一维等差数组。\n",
    "- np.logspace(起始值,终止值,元素总数)：创建一维等比数组。"
   ]
  },
  {
   "cell_type": "markdown",
   "metadata": {},
   "source": [
    "##### array函数创建\n",
    "- array(object, dtype=None, copy=True, order='K', subok=False, ndmin=0)"
   ]
  },
  {
   "cell_type": "code",
   "execution_count": 4,
   "metadata": {},
   "outputs": [
    {
     "name": "stdout",
     "output_type": "stream",
     "text": [
      "[1 2 3 4]\n",
      "['a' 'b' 'c' 'd' 'e' 'f']\n",
      "[[11 22 33 44]\n",
      " [10 20 30 40]]\n"
     ]
    }
   ],
   "source": [
    "import numpy as np\n",
    "ndarray1 = np.array([1, 2, 3, 4])\n",
    "print(ndarray1)\n",
    "ndarray2 = np.array(list('abcdef'))\n",
    "print(ndarray2)\n",
    "ndarray3 = np.array([[11, 22, 33, 44], [10, 20, 30, 40]])\n",
    "print(ndarray3)"
   ]
  },
  {
   "cell_type": "markdown",
   "metadata": {},
   "source": [
    "##### zeros 和 zeros_like\n",
    "数组元素默认值是0. 注意:zeros_linke函数只是根据传入的ndarray数组的shape来创建所有元素为0的数组，并不是拷贝源数组中的数据"
   ]
  },
  {
   "cell_type": "code",
   "execution_count": 6,
   "metadata": {},
   "outputs": [
    {
     "name": "stdout",
     "output_type": "stream",
     "text": [
      "[0. 0. 0. 0. 0. 0. 0. 0. 0. 0.]\n"
     ]
    }
   ],
   "source": [
    "ndarray4 = np.zeros(10)\n",
    "print(ndarray4)"
   ]
  },
  {
   "cell_type": "code",
   "execution_count": 12,
   "metadata": {},
   "outputs": [
    {
     "name": "stdout",
     "output_type": "stream",
     "text": [
      "[[0. 0. 0. 0.]\n",
      " [0. 0. 0. 0.]\n",
      " [0. 0. 0. 0.]]\n",
      "[[ 0  1  2  3]\n",
      " [ 4  5  6  7]\n",
      " [ 8  9 10 11]]\n",
      "[[0 0 0 0]\n",
      " [0 0 0 0]\n",
      " [0 0 0 0]]\n"
     ]
    }
   ],
   "source": [
    "nda5 = np.zeros((3, 4))\n",
    "print(nda5)\n",
    "nda = np.arange(12).reshape((3,4))\n",
    "print(nda)\n",
    "nda6 = np.zeros_like(nda)\n",
    "print(nda6)"
   ]
  },
  {
   "cell_type": "markdown",
   "metadata": {},
   "source": [
    "##### ones和ones_like创建数组\n",
    "- 创建所有元素都为1的数组.ones_like用法同zeros_like用法"
   ]
  },
  {
   "cell_type": "code",
   "execution_count": 13,
   "metadata": {},
   "outputs": [
    {
     "data": {
      "text/plain": [
       "array([[1., 1., 1.],\n",
       "       [1., 1., 1.]])"
      ]
     },
     "execution_count": 13,
     "metadata": {},
     "output_type": "execute_result"
    }
   ],
   "source": [
    "np.ones((2,3))"
   ]
  },
  {
   "cell_type": "code",
   "execution_count": 14,
   "metadata": {},
   "outputs": [
    {
     "data": {
      "text/plain": [
       "array([[1, 1, 1, 1],\n",
       "       [1, 1, 1, 1],\n",
       "       [1, 1, 1, 1]])"
      ]
     },
     "execution_count": 14,
     "metadata": {},
     "output_type": "execute_result"
    }
   ],
   "source": [
    "np.ones_like(nda6)"
   ]
  },
  {
   "cell_type": "markdown",
   "metadata": {},
   "source": [
    "##### empty 和 empty_like\n",
    "用于清空数组，空数据中的值并不为0，而是未初始化的随机值"
   ]
  },
  {
   "cell_type": "code",
   "execution_count": 24,
   "metadata": {},
   "outputs": [
    {
     "name": "stdout",
     "output_type": "stream",
     "text": [
      "[[0. 0. 0. 0.]\n",
      " [0. 0. 0. 0.]\n",
      " [0. 0. 0. 0.]]\n"
     ]
    }
   ],
   "source": [
    "# np.set_printoptions(precision = 5)\n",
    "nda7 = np.empty((3, 4))\n",
    "print(nda7)"
   ]
  },
  {
   "cell_type": "markdown",
   "metadata": {},
   "source": [
    "##### arange\n",
    "- arange([start,] stop[, step,], dtype=None)\n",
    "- arange函数是python内置函数range函数的数组版本."
   ]
  },
  {
   "cell_type": "code",
   "execution_count": 26,
   "metadata": {},
   "outputs": [
    {
     "name": "stdout",
     "output_type": "stream",
     "text": [
      "[0 1 2 3 4 5 6 7 8 9]\n"
     ]
    }
   ],
   "source": [
    "nda8 = np.arange(10)\n",
    "print(nda8)"
   ]
  },
  {
   "cell_type": "code",
   "execution_count": 28,
   "metadata": {},
   "outputs": [
    {
     "name": "stdout",
     "output_type": "stream",
     "text": [
      "[10 11 12 13 14 15 16 17 18 19]\n"
     ]
    }
   ],
   "source": [
    "nda9 = np.arange(10, 20)\n",
    "print(nda9)"
   ]
  },
  {
   "cell_type": "code",
   "execution_count": 29,
   "metadata": {},
   "outputs": [
    {
     "name": "stdout",
     "output_type": "stream",
     "text": [
      "[ 2  4  6  8 10 12 14 16 18]\n"
     ]
    }
   ],
   "source": [
    "nda10 = np.arange(2,20,2)\n",
    "print(nda10)"
   ]
  },
  {
   "cell_type": "markdown",
   "metadata": {},
   "source": [
    "##### eys创建对角矩阵数组\n",
    "用于创建一个N*N的矩阵，对角线为1，其余为0."
   ]
  },
  {
   "cell_type": "code",
   "execution_count": 31,
   "metadata": {},
   "outputs": [
    {
     "data": {
      "text/plain": [
       "array([[1., 0., 0., 0.],\n",
       "       [0., 1., 0., 0.],\n",
       "       [0., 0., 1., 0.],\n",
       "       [0., 0., 0., 1.]])"
      ]
     },
     "execution_count": 31,
     "metadata": {},
     "output_type": "execute_result"
    }
   ],
   "source": [
    "np.eye(4)"
   ]
  },
  {
   "cell_type": "code",
   "execution_count": null,
   "metadata": {},
   "outputs": [],
   "source": []
  },
  {
   "cell_type": "code",
   "execution_count": null,
   "metadata": {},
   "outputs": [],
   "source": []
  }
 ],
 "metadata": {
  "kernelspec": {
   "display_name": "Python 3",
   "language": "python",
   "name": "python3"
  },
  "language_info": {
   "codemirror_mode": {
    "name": "ipython",
    "version": 3
   },
   "file_extension": ".py",
   "mimetype": "text/x-python",
   "name": "python",
   "nbconvert_exporter": "python",
   "pygments_lexer": "ipython3",
   "version": "3.7.0"
  }
 },
 "nbformat": 4,
 "nbformat_minor": 2
}
