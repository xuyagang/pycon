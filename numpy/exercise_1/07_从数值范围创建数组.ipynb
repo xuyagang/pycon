{
 "cells": [
  {
   "cell_type": "markdown",
   "metadata": {},
   "source": [
    "##### numpy.arange\n",
    "创建数值范围并返回 ndarray 对象\n",
    "- numpy.arange(start, stop, step, dtype)"
   ]
  },
  {
   "cell_type": "code",
   "execution_count": 1,
   "metadata": {},
   "outputs": [],
   "source": [
    "import numpy as np"
   ]
  },
  {
   "cell_type": "code",
   "execution_count": 2,
   "metadata": {},
   "outputs": [
    {
     "name": "stdout",
     "output_type": "stream",
     "text": [
      "[0. 1. 2. 3. 4.]\n"
     ]
    }
   ],
   "source": [
    "arr = np.arange(5, dtype='f2')\n",
    "print(arr)"
   ]
  },
  {
   "cell_type": "markdown",
   "metadata": {},
   "source": [
    "##### numpy.linspace\n",
    "numpy.linspace 函数用于创建一个一维数组，数组是一个等差数列构成的，格式如下：\n",
    "- np.linspace(start, stop, num=50, endpoint=True, retstep=False, dtype=None)\n",
    "    - start\t序列的起始值\n",
    "    - stop\t序列的终止值，如果endpoint为true，该值包含于数列中\n",
    "    - num\t要生成的等步长的样本数量，默认为50\n",
    "    - endpoint\t该值为 ture 时，数列中中包含stop值，反之不包含，默认是True。\n",
    "    - retstep\t如果为 True 时，生成的数组中会显示间距，反之不显示。\n",
    "    - dtype\tndarray 的数据类型"
   ]
  },
  {
   "cell_type": "code",
   "execution_count": 3,
   "metadata": {},
   "outputs": [
    {
     "name": "stdout",
     "output_type": "stream",
     "text": [
      "(array([ 1. ,  1.5,  2. ,  2.5,  3. ,  3.5,  4. ,  4.5,  5. ,  5.5,  6. ,\n",
      "        6.5,  7. ,  7.5,  8. ,  8.5,  9. ,  9.5, 10. , 10.5]), 0.5)\n"
     ]
    }
   ],
   "source": [
    "a = np.linspace(1, 11, 20, endpoint=False, retstep=True)\n",
    "print(a)"
   ]
  },
  {
   "cell_type": "markdown",
   "metadata": {},
   "source": [
    "设置元素全部是1的等差数列"
   ]
  },
  {
   "cell_type": "code",
   "execution_count": 4,
   "metadata": {},
   "outputs": [
    {
     "name": "stdout",
     "output_type": "stream",
     "text": [
      "[1. 1. 1. 1. 1. 1. 1. 1. 1. 1.]\n"
     ]
    }
   ],
   "source": [
    "a = np.linspace(1, 1, 10)\n",
    "print(a)"
   ]
  },
  {
   "cell_type": "markdown",
   "metadata": {},
   "source": [
    "将 endpoint 设为 false，不包含终止值："
   ]
  },
  {
   "cell_type": "code",
   "execution_count": 5,
   "metadata": {},
   "outputs": [
    {
     "name": "stdout",
     "output_type": "stream",
     "text": [
      "[10. 12. 14. 16. 18.]\n"
     ]
    }
   ],
   "source": [
    "a = np.linspace(10, 20, 5, endpoint = False )\n",
    "print(a)"
   ]
  },
  {
   "cell_type": "markdown",
   "metadata": {},
   "source": [
    "##### numpy.logspace\n",
    "numpy.logspace 函数用于创建一个于等比数列。格式如下：\n",
    "- np.logspace(start, stop, num=50, endpoint=True, base=10.0, dtype=None)\n",
    "    - start\t序列的起始值为：base ** start\n",
    "    - stop\t序列的终止值为：base ** stop。如果endpoint为true，该值包含于数列中\n",
    "    - num\t要生成的等步长的样本数量，默认为50\n",
    "    - endpoint\t该值为 ture 时，数列中中包含stop值，反之不包含，默认是True。\n",
    "    - base\t对数 log 的底数。\n",
    "    - dtype\tndarray 的数据类型\n",
    "    \n",
    "        - base 默认为10\n",
    "        - endpoint 默认为True"
   ]
  },
  {
   "cell_type": "code",
   "execution_count": 14,
   "metadata": {},
   "outputs": [
    {
     "name": "stdout",
     "output_type": "stream",
     "text": [
      "[1.         1.16652904 1.36079    1.58740105 1.85174942 2.16011948\n",
      " 2.5198421  2.93946898 3.42897593 4.        ]\n"
     ]
    }
   ],
   "source": [
    "a = np.logspace(0, 2, num = 10, base = 2)\n",
    "print(a)"
   ]
  },
  {
   "cell_type": "code",
   "execution_count": 19,
   "metadata": {},
   "outputs": [
    {
     "name": "stdout",
     "output_type": "stream",
     "text": [
      "[1.0e+00 3.0e+00 9.0e+00 2.7e+01 8.1e+01 2.4e+02 7.3e+02 2.2e+03 6.6e+03\n",
      " 2.0e+04]\n"
     ]
    }
   ],
   "source": [
    "np.set_printoptions(precision=1)\n",
    "b = np.logspace(0,9,10,base=3)\n",
    "print(b)"
   ]
  },
  {
   "cell_type": "code",
   "execution_count": null,
   "metadata": {},
   "outputs": [],
   "source": []
  }
 ],
 "metadata": {
  "kernelspec": {
   "display_name": "Python 3",
   "language": "python",
   "name": "python3"
  },
  "language_info": {
   "codemirror_mode": {
    "name": "ipython",
    "version": 3
   },
   "file_extension": ".py",
   "mimetype": "text/x-python",
   "name": "python",
   "nbconvert_exporter": "python",
   "pygments_lexer": "ipython3",
   "version": "3.7.0"
  }
 },
 "nbformat": 4,
 "nbformat_minor": 2
}
