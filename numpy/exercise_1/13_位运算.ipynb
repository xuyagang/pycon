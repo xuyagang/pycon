{
 "cells": [
  {
   "cell_type": "markdown",
   "metadata": {},
   "source": [
    "#### NumPy \"bitwise_\" 开头的函数是位运算函数\n",
    "- bitwise_and\t对数组元素执行位与操作\n",
    "- bitwise_or\t对数组元素执行位或操作\n",
    "- invert\t按位取反\n",
    "- left_shift\t向左移动二进制表示的位\n",
    "- right_shift\t向右移动二进制表示的位\n",
    "\n",
    "    - 也可以使用 \"&\"、 \"~\"、 \"|\" 和 \"^\" 等操作符进行计算"
   ]
  },
  {
   "cell_type": "markdown",
   "metadata": {},
   "source": [
    "##### bitwise_and\n",
    "bitwise_and()函数对数组中整数的二进制形式执行位与运算"
   ]
  },
  {
   "cell_type": "code",
   "execution_count": 1,
   "metadata": {},
   "outputs": [],
   "source": [
    "import numpy as np"
   ]
  },
  {
   "cell_type": "code",
   "execution_count": 3,
   "metadata": {},
   "outputs": [
    {
     "name": "stdout",
     "output_type": "stream",
     "text": [
      "13 17\n",
      "0b1101 0b10001\n"
     ]
    }
   ],
   "source": [
    "# 二进制格式\n",
    "a,b = 13, 17\n",
    "print(a,b)\n",
    "print(bin(a), bin(b))"
   ]
  },
  {
   "cell_type": "code",
   "execution_count": 6,
   "metadata": {},
   "outputs": [
    {
     "name": "stdout",
     "output_type": "stream",
     "text": [
      "1\n",
      "0b1\n"
     ]
    }
   ],
   "source": [
    "# 位与\n",
    "c = np.bitwise_and(a,b)\n",
    "print(c)\n",
    "print(bin(c))"
   ]
  },
  {
   "cell_type": "markdown",
   "metadata": {},
   "source": [
    "### 位与的运算逻辑\n",
    "A---B---AND\n",
    "\n",
    "1---1---1\n",
    "\n",
    "1---0---0\n",
    "\n",
    "0---1---0\n",
    "\n",
    "0---0---0\n",
    "- 真真为真\n",
    "### 位或的运算逻辑\n",
    "\n",
    "A---B---OR\n",
    "\n",
    "1---1---1\n",
    "\n",
    "1---0---1\n",
    "\n",
    "0---1---1\n",
    "\n",
    "0---0---0\n",
    "- 有真为真"
   ]
  },
  {
   "cell_type": "markdown",
   "metadata": {},
   "source": [
    "##### bitwise_or"
   ]
  },
  {
   "cell_type": "code",
   "execution_count": 8,
   "metadata": {},
   "outputs": [
    {
     "name": "stdout",
     "output_type": "stream",
     "text": [
      "29\n"
     ]
    }
   ],
   "source": [
    "# 位或\n",
    "d = np.bitwise_or(a,b)\n",
    "print(d)"
   ]
  },
  {
   "cell_type": "markdown",
   "metadata": {},
   "source": [
    "##### invert() \n",
    "函数对数组中整数进行位取反运算，即 0 变成 1，1 变成 0"
   ]
  },
  {
   "cell_type": "code",
   "execution_count": 16,
   "metadata": {},
   "outputs": [
    {
     "name": "stdout",
     "output_type": "stream",
     "text": [
      "[242]\n"
     ]
    }
   ],
   "source": [
    "a = np.invert(np.array([13], dtype=np.uint8))\n",
    "print(a)"
   ]
  },
  {
   "cell_type": "code",
   "execution_count": 17,
   "metadata": {},
   "outputs": [
    {
     "name": "stdout",
     "output_type": "stream",
     "text": [
      "00001101\n",
      "11110010\n"
     ]
    }
   ],
   "source": [
    "print(np.binary_repr(13,width=8))\n",
    "print(np.binary_repr(242,width=8))"
   ]
  },
  {
   "cell_type": "markdown",
   "metadata": {},
   "source": [
    "##### left_shift\n",
    "left_shift() 函数将数组元素的二进制形式向左移动到指定位置，右侧附加相等数量的 0。"
   ]
  },
  {
   "cell_type": "code",
   "execution_count": 18,
   "metadata": {},
   "outputs": [
    {
     "name": "stdout",
     "output_type": "stream",
     "text": [
      "将 10 左移两位：\n",
      "40\n"
     ]
    }
   ],
   "source": [
    "print ('将 10 左移两位：')\n",
    "print (np.left_shift(10,2))"
   ]
  },
  {
   "cell_type": "code",
   "execution_count": 21,
   "metadata": {},
   "outputs": [
    {
     "name": "stdout",
     "output_type": "stream",
     "text": [
      "00001010\n",
      "00101000\n"
     ]
    }
   ],
   "source": [
    "print(np.binary_repr(10,width=8))\n",
    "print(np.binary_repr(40,width=8))"
   ]
  },
  {
   "cell_type": "markdown",
   "metadata": {},
   "source": [
    "##### right_shift\n",
    "right_shift() 函数将数组元素的二进制形式向右移动到指定位置，左侧附加相等数量的 0"
   ]
  },
  {
   "cell_type": "code",
   "execution_count": 22,
   "metadata": {},
   "outputs": [
    {
     "name": "stdout",
     "output_type": "stream",
     "text": [
      "10\n"
     ]
    }
   ],
   "source": [
    "print(np.right_shift(40,2))"
   ]
  },
  {
   "cell_type": "code",
   "execution_count": 25,
   "metadata": {},
   "outputs": [
    {
     "name": "stdout",
     "output_type": "stream",
     "text": [
      "00101000\n",
      "00001010\n"
     ]
    }
   ],
   "source": [
    "print(np.binary_repr(40,width=8))\n",
    "print(np.binary_repr(10,width=8))"
   ]
  },
  {
   "cell_type": "code",
   "execution_count": null,
   "metadata": {},
   "outputs": [],
   "source": []
  }
 ],
 "metadata": {
  "kernelspec": {
   "display_name": "Python 3",
   "language": "python",
   "name": "python3"
  },
  "language_info": {
   "codemirror_mode": {
    "name": "ipython",
    "version": 3
   },
   "file_extension": ".py",
   "mimetype": "text/x-python",
   "name": "python",
   "nbconvert_exporter": "python",
   "pygments_lexer": "ipython3",
   "version": "3.7.0"
  }
 },
 "nbformat": 4,
 "nbformat_minor": 2
}
