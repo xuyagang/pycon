{
 "cells": [
  {
   "cell_type": "markdown",
   "metadata": {},
   "source": [
    "#### numpy 支持的数据类型比 Python 内置的类型要多很多，基本上可以和 C 语言的数据类型对应上，其中部分类型对应为 Python 内置的类型。下面列举了常用 NumPy 基本类型：\n",
    " - bool : 布尔型数据类型（True or False）\n",
    " - int_ : 默认数据类型（int32或int64）\n",
    " - intc : 与c的int一样（int32或int64）\n",
    " - intp : 用于索引的整数类型（int32或int64）\n",
    " - int8 : 字节（-128 to 127）\n",
    " - int16 ：整数（-32768 to 32767）(32768是2的15次方)\n",
    " - int32 : 整数（-2147483648 to 2147483647）（2的31次方）\n",
    " - int64 : 整数（-9223372036854775808 to 9223372036854775807）(2的63次方)\n",
    " - uint8 : 无符号整数（0 to 255）\n",
    " - uint16 : 无符号整数（0 to 65535）\n",
    " - uint32 : 无符号整数（0 to 4294967295）\n",
    " - uint64 : 无符号整数（0 to 18446744073709551615）\n",
    " - float_ : float64 类型的简写\n",
    " - float16\t半精度浮点数，包括：1 个符号位，5 个指数位，10 个尾数位\n",
    " - float32\t单精度浮点数，包括：1 个符号位，8 个指数位，23 个尾数位\n",
    " - float64\t双精度浮点数，包括：1 个符号位，11 个指数位，52 个尾数位\n",
    " - complex_\tcomplex128 类型的简写，即 128 位复数\n",
    " - complex64\t复数，表示双 32 位浮点数（实数部分和虚数部分）\n",
    " - complex128\t复数，表示双 64 位浮点数（实数部分和虚数部分）"
   ]
  },
  {
   "cell_type": "markdown",
   "metadata": {},
   "source": [
    "#### dtype对象\n",
    "- 数据的类型（整数，浮点数或者 Python 对象）\n",
    "- 数据的大小（例如， 整数使用多少个字节存储）\n",
    "- 数据的字节顺序（小端法或大端法）\n",
    "- 在结构化类型的情况下，字段的名称、每个字段的数据类型和每个字段所取的内存块的部分\n",
    "    - 字节顺序是通过对数据类型预先设定\"<\"或\">\"来决定的。\"<\"意味着小端法(最小值存储在最小的地址，即低位组放在最前面)。\">\"意味着大端法(最重要的字节存储在最小的地址，即高位组放在最前面)。"
   ]
  },
  {
   "cell_type": "code",
   "execution_count": 8,
   "metadata": {},
   "outputs": [],
   "source": [
    "import numpy as np"
   ]
  },
  {
   "cell_type": "markdown",
   "metadata": {},
   "source": [
    "#### 创建dtype对象\n",
    "- numpy.dtype(object, align, copy)\n",
    "    - align - 如果为 true，填充字段使其类似 C 的结构体\n",
    "    - copy - 复制 dtype 对象 ，如果为 false，则是对内置数据类型对象的引用"
   ]
  },
  {
   "cell_type": "code",
   "execution_count": 9,
   "metadata": {},
   "outputs": [
    {
     "name": "stdout",
     "output_type": "stream",
     "text": [
      "int32\n"
     ]
    }
   ],
   "source": [
    "# 使用标量类型\n",
    "dt = np.dtype(np.int32)\n",
    "print(dt)"
   ]
  },
  {
   "cell_type": "code",
   "execution_count": 14,
   "metadata": {},
   "outputs": [
    {
     "name": "stdout",
     "output_type": "stream",
     "text": [
      "int16\n",
      "int32\n"
     ]
    }
   ],
   "source": [
    "# int8, int16, int32, int64 四种数据类型可以使用字符串 'i1', 'i2','i4','i8' 代替\n",
    "dt = np.dtype('i2')\n",
    "print(dt)\n",
    "dt = np.dtype('i4')\n",
    "print(dt)"
   ]
  },
  {
   "cell_type": "code",
   "execution_count": 15,
   "metadata": {},
   "outputs": [
    {
     "data": {
      "text/plain": [
       "dtype('int32')"
      ]
     },
     "execution_count": 15,
     "metadata": {},
     "output_type": "execute_result"
    }
   ],
   "source": [
    "# 字节顺序标注\n",
    "dt = np.dtype('<i4')\n",
    "dt"
   ]
  },
  {
   "cell_type": "code",
   "execution_count": 28,
   "metadata": {},
   "outputs": [
    {
     "name": "stdout",
     "output_type": "stream",
     "text": [
      "结构化数据类型： [('age', '>i2'), ('birth', '<i4')]\n",
      "[(12, 1991) (25, 1887) (36, 1689)]\n",
      "age: [12 25 36]\n",
      "birth: [1991 1887 1689]\n"
     ]
    }
   ],
   "source": [
    "# 结构化数据类型的使用，类型字段和对应的实际类型将被创建\n",
    "# 首先创建结构化数据类型\n",
    "dt = np.dtype([('age', '>i2'), ('birth', 'int_')])\n",
    "print('结构化数据类型：', dt)\n",
    "# 类型字段名可用于存取实际的age列\n",
    "a = np.array([(12,1991), (25,1887), (36, 1689)], dtype = dt)\n",
    "print(a)\n",
    "print('age:',a['age'])\n",
    "print('birth:', a['birth'])"
   ]
  },
  {
   "cell_type": "markdown",
   "metadata": {},
   "source": [
    "#### 每个内建类型都有一个唯一定义它的字符代码"
   ]
  },
  {
   "cell_type": "markdown",
   "metadata": {},
   "source": [
    "- b    布尔型\n",
    "- i    整型\n",
    "- u    无符号整型\n",
    "- f    浮点型\n",
    "- c    复数浮点型\n",
    "- m    timedelta(时间间隔)\n",
    "- M    datetime(日期时间)\n",
    "- O    python对象\n",
    "- S,a   byte 字符串\n",
    "- U    Unicode\n",
    "- V    原始数据（void）"
   ]
  },
  {
   "cell_type": "code",
   "execution_count": 3,
   "metadata": {},
   "outputs": [
    {
     "name": "stdout",
     "output_type": "stream",
     "text": [
      "[('name', 'S20'), ('age', 'i1'), ('marks', '<f4')]\n",
      "[['abc' '21' '50']\n",
      " ['xyz' '18' '75']]\n"
     ]
    }
   ],
   "source": [
    "import numpy as np\n",
    "student = np.dtype([('name', 'S20'), ('age', 'i1'), ('marks', 'f4')])\n",
    "print(student)\n",
    "a = np.array([('abc', 21, 50), ('xyz', 18, 75)])\n",
    "print(a)"
   ]
  },
  {
   "cell_type": "code",
   "execution_count": null,
   "metadata": {},
   "outputs": [],
   "source": []
  },
  {
   "cell_type": "code",
   "execution_count": null,
   "metadata": {},
   "outputs": [],
   "source": []
  },
  {
   "cell_type": "code",
   "execution_count": null,
   "metadata": {},
   "outputs": [],
   "source": []
  },
  {
   "cell_type": "code",
   "execution_count": null,
   "metadata": {},
   "outputs": [],
   "source": []
  },
  {
   "cell_type": "code",
   "execution_count": null,
   "metadata": {},
   "outputs": [],
   "source": []
  },
  {
   "cell_type": "code",
   "execution_count": null,
   "metadata": {},
   "outputs": [],
   "source": []
  },
  {
   "cell_type": "code",
   "execution_count": null,
   "metadata": {},
   "outputs": [],
   "source": []
  },
  {
   "cell_type": "code",
   "execution_count": null,
   "metadata": {},
   "outputs": [],
   "source": []
  },
  {
   "cell_type": "code",
   "execution_count": null,
   "metadata": {},
   "outputs": [],
   "source": []
  },
  {
   "cell_type": "code",
   "execution_count": null,
   "metadata": {},
   "outputs": [],
   "source": []
  },
  {
   "cell_type": "code",
   "execution_count": null,
   "metadata": {},
   "outputs": [],
   "source": []
  },
  {
   "cell_type": "code",
   "execution_count": null,
   "metadata": {},
   "outputs": [],
   "source": []
  }
 ],
 "metadata": {
  "kernelspec": {
   "display_name": "Python 3",
   "language": "python",
   "name": "python3"
  },
  "language_info": {
   "codemirror_mode": {
    "name": "ipython",
    "version": 3
   },
   "file_extension": ".py",
   "mimetype": "text/x-python",
   "name": "python",
   "nbconvert_exporter": "python",
   "pygments_lexer": "ipython3",
   "version": "3.7.0"
  }
 },
 "nbformat": 4,
 "nbformat_minor": 2
}
