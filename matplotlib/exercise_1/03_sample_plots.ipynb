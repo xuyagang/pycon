{
 "cells": [
  {
   "cell_type": "code",
   "execution_count": 1,
   "metadata": {},
   "outputs": [],
   "source": [
    "%matplotlib inline"
   ]
  },
  {
   "cell_type": "markdown",
   "metadata": {},
   "source": [
    "#### Sample plots in Matplotlib"
   ]
  },
  {
   "cell_type": "markdown",
   "metadata": {},
   "source": [
    "- line plot\n",
    "- Multiple subplots in one figure\n",
    "- Images\n",
    "- Contouring and pseudocolor\n",
    "- Histograms\n",
    "- Paths\n",
    "- Three-dimensional plotting\n",
    "- Streamplot\n",
    "- Ellipses\n",
    "- Bar charts\n",
    "- Pie charts\n",
    "- Tables\n",
    "- Scatter plots\n",
    "- GUI widgets\n",
    "- Filled curves\n",
    "- Date handling\n",
    "-  logarithmic plots\n",
    "- Polar plots\n",
    "- Legends\n",
    "- TeX-notation for text objects\n",
    "- Native TeX rendering\n",
    "- EEG GUI\n",
    "- XKCD-style sketch plots"
   ]
  },
  {
   "cell_type": "code",
   "execution_count": null,
   "metadata": {},
   "outputs": [],
   "source": []
  }
 ],
 "metadata": {
  "kernelspec": {
   "display_name": "Python 3",
   "language": "python",
   "name": "python3"
  },
  "language_info": {
   "codemirror_mode": {
    "name": "ipython",
    "version": 3
   },
   "file_extension": ".py",
   "mimetype": "text/x-python",
   "name": "python",
   "nbconvert_exporter": "python",
   "pygments_lexer": "ipython3",
   "version": "3.7.0"
  }
 },
 "nbformat": 4,
 "nbformat_minor": 2
}
