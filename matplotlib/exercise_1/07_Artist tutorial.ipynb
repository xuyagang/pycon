{
 "cells": [
  {
   "cell_type": "markdown",
   "metadata": {},
   "source": [
    "#### Using Artist objects to render on the canvas.\n",
    "\n",
    "There are three layers to the matplotlib API.\n",
    "\n",
    "the matplotlib.backend_bases.FigureCanvas is the area onto which the figure is drawn\n",
    "the matplotlib.backend_bases.Renderer is the object which knows how to draw on the FigureCanvas\n",
    "and the matplotlib.artist.Artist is the object that knows how to use a renderer to paint onto the canvas."
   ]
  },
  {
   "cell_type": "code",
   "execution_count": 5,
   "metadata": {},
   "outputs": [
    {
     "data": {
      "image/png": "[encoded data removed]",
      "text/plain": [
       "<Figure size 432x288 with 1 Axes>"
      ]
     },
     "metadata": {
      "needs_background": "light"
     },
     "output_type": "display_data"
    }
   ],
   "source": [
    "import matplotlib.pyplot as plt\n",
    "import numpy as np\n",
    "fig = plt.figure()\n",
    "ax = fig.add_subplot(2,1,1) # tow rows, one column, first plot"
   ]
  },
  {
   "cell_type": "code",
   "execution_count": 6,
   "metadata": {},
   "outputs": [
    {
     "data": {
      "image/png": "[encoded data removed]",
      "text/plain": [
       "<Figure size 432x288 with 1 Axes>"
      ]
     },
     "metadata": {
      "needs_background": "light"
     },
     "output_type": "display_data"
    }
   ],
   "source": [
    "fig2 = plt.figure()\n",
    "ax2 = fig2.add_axes([0.15, 0.1, 0.7, 0.3])"
   ]
  },
  {
   "cell_type": "code",
   "execution_count": 7,
   "metadata": {},
   "outputs": [
    {
     "data": {
      "image/png": "[encoded data removed]",
      "text/plain": [
       "<Figure size 432x288 with 2 Axes>"
      ]
     },
     "metadata": {
      "needs_background": "light"
     },
     "output_type": "display_data"
    }
   ],
   "source": [
    "# Try creating the figure below.\n",
    "\n",
    "fig = plt.figure()\n",
    "fig.subplots_adjust(top=0.8)\n",
    "ax1 = fig.add_subplot(211)\n",
    "ax1.set_ylabel('volts')\n",
    "ax1.set_title('a sine wave')\n",
    "\n",
    "t = np.arange(0, 1, 0.01)\n",
    "s = np.sin(2*np.pi*t)\n",
    "line, = ax1.plot(t,s,color='blue',lw=2)\n",
    "\n",
    "\n",
    "np.random.seed(15535663)\n",
    "ax2 = fig.add_axes([0.15, 0.1, 0.7, 0.3])\n",
    "n, bins, patches = ax2.hist(np.random.randn(1000), 50,\n",
    "                            facecolor='yellow', edgecolor='yellow')\n",
    "ax2.set_xlabel('time (s)')\n",
    "plt.show()"
   ]
  },
  {
   "cell_type": "markdown",
   "metadata": {},
   "source": [
    "#### Customizing your objects\n",
    "Every matplotlib Artist has the following properties"
   ]
  },
  {
   "cell_type": "raw",
   "metadata": {},
   "source": [
    "alpha\tThe transparency - a scalar from 0-1\n",
    "animated\tA boolean that is used to facilitate animated drawing\n",
    "axes\tThe axes that the Artist lives in, possibly None\n",
    "clip_box\tThe bounding box that clips the Artist\n",
    "clip_on\tWhether clipping is enabled\n",
    "clip_path\tThe path the artist is clipped to\n",
    "contains\tA picking function to test whether the artist contains the pick point\n",
    "figure\tThe figure instance the artist lives in, possibly None\n",
    "label\tA text label (e.g., for auto-labeling)\n",
    "picker\tA python object that controls object picking\n",
    "transform\tThe transformation\n",
    "visible\tA boolean whether the artist should be drawn\n",
    "zorder\tA number which determines the drawing order\n",
    "rasterized\tBoolean; Turns vectors into rastergraphics: (for compression & eps transparency)"
   ]
  },
  {
   "cell_type": "code",
   "execution_count": 8,
   "metadata": {},
   "outputs": [],
   "source": [
    "# Here is an example, not recommended for its beauty, which customizes\n",
    "# the axes and tick properties"
   ]
  },
  {
   "cell_type": "code",
   "execution_count": 9,
   "metadata": {},
   "outputs": [
    {
     "data": {
      "image/png": "[encoded data removed]",
      "text/plain": [
       "<Figure size 432x288 with 1 Axes>"
      ]
     },
     "metadata": {},
     "output_type": "display_data"
    }
   ],
   "source": [
    "# plt.figure creates a matplotlib.figure.Figure instance\n",
    "fig = plt.figure()\n",
    "rect = fig.patch # a rectangle instance\n",
    "rect.set_facecolor('lightgoldenrodyellow')\n",
    "\n",
    "ax1 = fig.add_axes([0.1, 0.3, 0.4, 0.4])\n",
    "rect = ax1.patch\n",
    "rect.set_facecolor('lightslategray')\n",
    "\n",
    "for label in ax1.xaxis.get_ticklabels():\n",
    "    # lable is a text instance\n",
    "    label.set_color('red')\n",
    "    label.set_rotation(45)\n",
    "    label.set_fontsize(16)\n",
    "\n",
    "for line in ax1.yaxis.get_ticklines():\n",
    "    # line is a Line2D instance\n",
    "    line.set_color('green')\n",
    "    line.set_markersize(25)\n",
    "    line.set_markeredgewidth(3)\n",
    "    \n",
    "plt.show()"
   ]
  },
  {
   "cell_type": "markdown",
   "metadata": {},
   "source": [
    "#### Figure attribute"
   ]
  },
  {
   "cell_type": "raw",
   "metadata": {},
   "source": [
    "axes\tA list of Axes instances (includes Subplot)\n",
    "patch\tThe Rectangle background\n",
    "images\tA list of FigureImages patches - useful for raw pixel display\n",
    "legends\tA list of Figure Legend instances (different from Axes.legends)\n",
    "lines\tA list of Figure Line2D instances (rarely used, see Axes.lines)\n",
    "patches\tA list of Figure patches (rarely used, see Axes.patches)\n",
    "texts\tA list Figure Text instances"
   ]
  },
  {
   "cell_type": "markdown",
   "metadata": {},
   "source": [
    "#### Axes attribute\t"
   ]
  },
  {
   "cell_type": "raw",
   "metadata": {},
   "source": [
    "artists\tA list of Artist instances\n",
    "patch\tRectangle instance for Axes background\n",
    "collections\tA list of Collection instances\n",
    "images\tA list of AxesImage\n",
    "legends\tA list of Legend instances\n",
    "lines\tA list of Line2D instances\n",
    "patches\tA list of Patch instances\n",
    "texts\tA list of Text instances\n",
    "xaxis\tmatplotlib.axis.XAxis instance\n",
    "yaxis\tmatplotlib.axis.YAxis instance"
   ]
  },
  {
   "cell_type": "markdown",
   "metadata": {},
   "source": [
    "#### Tick attribute"
   ]
  },
  {
   "cell_type": "raw",
   "metadata": {},
   "source": [
    "tick1line\tLine2D instance\n",
    "tick2line\tLine2D instance\n",
    "gridline\tLine2D instance\n",
    "label1\tText instance\n",
    "label2\tText instance\n",
    "gridOn\tboolean which determines whether to draw the gridline\n",
    "tick1On\tboolean which determines whether to draw the 1st tickline\n",
    "tick2On\tboolean which determines whether to draw the 2nd tickline\n",
    "label1On\tboolean which determines whether to draw the 1st tick label\n",
    "label2On\tboolean which determines whether to draw the 2nd tick label"
   ]
  },
  {
   "cell_type": "code",
   "execution_count": 13,
   "metadata": {},
   "outputs": [
    {
     "data": {
      "image/png": "[encoded data removed]",
      "text/plain": [
       "<Figure size 432x288 with 1 Axes>"
      ]
     },
     "metadata": {
      "needs_background": "light"
     },
     "output_type": "display_data"
    }
   ],
   "source": [
    "import matplotlib.ticker as ticker\n",
    "np.random.seed(12111)\n",
    "\n",
    "fig,ax = plt.subplots()\n",
    "ax.plot(100*np.random.rand(20))\n",
    "\n",
    "formatter = ticker.FormatStrFormatter('$%1.2f')\n",
    "ax.yaxis.set_major_formatter(formatter)\n",
    "\n",
    "for tick in ax.yaxis.get_major_ticks():\n",
    "    tick.tick1On = False\n",
    "    tick.tick2On = True\n",
    "    tick.label1On = False\n",
    "    tick.label2On = True\n",
    "    tick.label2.set_color('green')"
   ]
  },
  {
   "cell_type": "code",
   "execution_count": null,
   "metadata": {},
   "outputs": [],
   "source": []
  },
  {
   "cell_type": "code",
   "execution_count": null,
   "metadata": {},
   "outputs": [],
   "source": []
  },
  {
   "cell_type": "code",
   "execution_count": null,
   "metadata": {},
   "outputs": [],
   "source": []
  },
  {
   "cell_type": "code",
   "execution_count": null,
   "metadata": {},
   "outputs": [],
   "source": []
  },
  {
   "cell_type": "code",
   "execution_count": null,
   "metadata": {},
   "outputs": [],
   "source": []
  }
 ],
 "metadata": {
  "kernelspec": {
   "display_name": "Python 3",
   "language": "python",
   "name": "python3"
  },
  "language_info": {
   "codemirror_mode": {
    "name": "ipython",
    "version": 3
   },
   "file_extension": ".py",
   "mimetype": "text/x-python",
   "name": "python",
   "nbconvert_exporter": "python",
   "pygments_lexer": "ipython3",
   "version": "3.7.0"
  }
 },
 "nbformat": 4,
 "nbformat_minor": 2
}
